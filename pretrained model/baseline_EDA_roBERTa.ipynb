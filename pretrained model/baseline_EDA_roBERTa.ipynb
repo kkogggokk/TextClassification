{
  "nbformat": 4,
  "nbformat_minor": 5,
  "metadata": {
    "kernelspec": {
      "display_name": "Python 3",
      "language": "python",
      "name": "python3"
    },
    "language_info": {
      "codemirror_mode": {
        "name": "ipython",
        "version": 3
      },
      "file_extension": ".py",
      "mimetype": "text/x-python",
      "name": "python",
      "nbconvert_exporter": "python",
      "pygments_lexer": "ipython3",
      "version": "3.7.10"
    },
    "papermill": {
      "default_parameters": {},
      "duration": 1439.178038,
      "end_time": "2021-10-25T09:41:44.452877",
      "environment_variables": {},
      "exception": null,
      "input_path": "__notebook__.ipynb",
      "output_path": "__notebook__.ipynb",
      "parameters": {},
      "start_time": "2021-10-25T09:17:45.274839",
      "version": "2.3.3"
    },
    "widgets": {
      "application/vnd.jupyter.widget-state+json": {
        "a52c60f8c4f5472caed6c173c318039f": {
          "model_module": "@jupyter-widgets/controls",
          "model_name": "HBoxModel",
          "model_module_version": "1.5.0",
          "state": {
            "_view_name": "HBoxView",
            "_dom_classes": [],
            "_model_name": "HBoxModel",
            "_view_module": "@jupyter-widgets/controls",
            "_model_module_version": "1.5.0",
            "_view_count": null,
            "_view_module_version": "1.5.0",
            "box_style": "",
            "layout": "IPY_MODEL_d09a10be045d49ca81a4e5b483e30605",
            "_model_module": "@jupyter-widgets/controls",
            "children": [
              "IPY_MODEL_0338d214c6314653b53762768982410e",
              "IPY_MODEL_5af090b840ce4e7bb0062c633c25cc6d",
              "IPY_MODEL_8adb7d7e807e415baaa5c90e35162996"
            ]
          }
        },
        "d09a10be045d49ca81a4e5b483e30605": {
          "model_module": "@jupyter-widgets/base",
          "model_name": "LayoutModel",
          "model_module_version": "1.2.0",
          "state": {
            "_view_name": "LayoutView",
            "grid_template_rows": null,
            "right": null,
            "justify_content": null,
            "_view_module": "@jupyter-widgets/base",
            "overflow": null,
            "_model_module_version": "1.2.0",
            "_view_count": null,
            "flex_flow": null,
            "width": null,
            "min_width": null,
            "border": null,
            "align_items": null,
            "bottom": null,
            "_model_module": "@jupyter-widgets/base",
            "top": null,
            "grid_column": null,
            "overflow_y": null,
            "overflow_x": null,
            "grid_auto_flow": null,
            "grid_area": null,
            "grid_template_columns": null,
            "flex": null,
            "_model_name": "LayoutModel",
            "justify_items": null,
            "grid_row": null,
            "max_height": null,
            "align_content": null,
            "visibility": null,
            "align_self": null,
            "height": null,
            "min_height": null,
            "padding": null,
            "grid_auto_rows": null,
            "grid_gap": null,
            "max_width": null,
            "order": null,
            "_view_module_version": "1.2.0",
            "grid_template_areas": null,
            "object_position": null,
            "object_fit": null,
            "grid_auto_columns": null,
            "margin": null,
            "display": null,
            "left": null
          }
        },
        "0338d214c6314653b53762768982410e": {
          "model_module": "@jupyter-widgets/controls",
          "model_name": "HTMLModel",
          "model_module_version": "1.5.0",
          "state": {
            "_view_name": "HTMLView",
            "style": "IPY_MODEL_14e8be7a78b3471087249fd7d28e6eba",
            "_dom_classes": [],
            "description": "",
            "_model_name": "HTMLModel",
            "placeholder": "​",
            "_view_module": "@jupyter-widgets/controls",
            "_model_module_version": "1.5.0",
            "value": "Downloading: 100%",
            "_view_count": null,
            "_view_module_version": "1.5.0",
            "description_tooltip": null,
            "_model_module": "@jupyter-widgets/controls",
            "layout": "IPY_MODEL_4252763992b94668be6cae7ddba027b1"
          }
        },
        "5af090b840ce4e7bb0062c633c25cc6d": {
          "model_module": "@jupyter-widgets/controls",
          "model_name": "FloatProgressModel",
          "model_module_version": "1.5.0",
          "state": {
            "_view_name": "ProgressView",
            "style": "IPY_MODEL_2143195dcbb146de903302ec5c0c124b",
            "_dom_classes": [],
            "description": "",
            "_model_name": "FloatProgressModel",
            "bar_style": "success",
            "max": 898823,
            "_view_module": "@jupyter-widgets/controls",
            "_model_module_version": "1.5.0",
            "value": 898823,
            "_view_count": null,
            "_view_module_version": "1.5.0",
            "orientation": "horizontal",
            "min": 0,
            "description_tooltip": null,
            "_model_module": "@jupyter-widgets/controls",
            "layout": "IPY_MODEL_4016e758e8474846921d32dddd291245"
          }
        },
        "8adb7d7e807e415baaa5c90e35162996": {
          "model_module": "@jupyter-widgets/controls",
          "model_name": "HTMLModel",
          "model_module_version": "1.5.0",
          "state": {
            "_view_name": "HTMLView",
            "style": "IPY_MODEL_f280276f81c34cbb8cb927606f4c1a22",
            "_dom_classes": [],
            "description": "",
            "_model_name": "HTMLModel",
            "placeholder": "​",
            "_view_module": "@jupyter-widgets/controls",
            "_model_module_version": "1.5.0",
            "value": " 878k/878k [00:00&lt;00:00, 2.68MB/s]",
            "_view_count": null,
            "_view_module_version": "1.5.0",
            "description_tooltip": null,
            "_model_module": "@jupyter-widgets/controls",
            "layout": "IPY_MODEL_1af5639b50084e1283fbbaebe15ce8f1"
          }
        },
        "14e8be7a78b3471087249fd7d28e6eba": {
          "model_module": "@jupyter-widgets/controls",
          "model_name": "DescriptionStyleModel",
          "model_module_version": "1.5.0",
          "state": {
            "_view_name": "StyleView",
            "_model_name": "DescriptionStyleModel",
            "description_width": "",
            "_view_module": "@jupyter-widgets/base",
            "_model_module_version": "1.5.0",
            "_view_count": null,
            "_view_module_version": "1.2.0",
            "_model_module": "@jupyter-widgets/controls"
          }
        },
        "4252763992b94668be6cae7ddba027b1": {
          "model_module": "@jupyter-widgets/base",
          "model_name": "LayoutModel",
          "model_module_version": "1.2.0",
          "state": {
            "_view_name": "LayoutView",
            "grid_template_rows": null,
            "right": null,
            "justify_content": null,
            "_view_module": "@jupyter-widgets/base",
            "overflow": null,
            "_model_module_version": "1.2.0",
            "_view_count": null,
            "flex_flow": null,
            "width": null,
            "min_width": null,
            "border": null,
            "align_items": null,
            "bottom": null,
            "_model_module": "@jupyter-widgets/base",
            "top": null,
            "grid_column": null,
            "overflow_y": null,
            "overflow_x": null,
            "grid_auto_flow": null,
            "grid_area": null,
            "grid_template_columns": null,
            "flex": null,
            "_model_name": "LayoutModel",
            "justify_items": null,
            "grid_row": null,
            "max_height": null,
            "align_content": null,
            "visibility": null,
            "align_self": null,
            "height": null,
            "min_height": null,
            "padding": null,
            "grid_auto_rows": null,
            "grid_gap": null,
            "max_width": null,
            "order": null,
            "_view_module_version": "1.2.0",
            "grid_template_areas": null,
            "object_position": null,
            "object_fit": null,
            "grid_auto_columns": null,
            "margin": null,
            "display": null,
            "left": null
          }
        },
        "2143195dcbb146de903302ec5c0c124b": {
          "model_module": "@jupyter-widgets/controls",
          "model_name": "ProgressStyleModel",
          "model_module_version": "1.5.0",
          "state": {
            "_view_name": "StyleView",
            "_model_name": "ProgressStyleModel",
            "description_width": "",
            "_view_module": "@jupyter-widgets/base",
            "_model_module_version": "1.5.0",
            "_view_count": null,
            "_view_module_version": "1.2.0",
            "bar_color": null,
            "_model_module": "@jupyter-widgets/controls"
          }
        },
        "4016e758e8474846921d32dddd291245": {
          "model_module": "@jupyter-widgets/base",
          "model_name": "LayoutModel",
          "model_module_version": "1.2.0",
          "state": {
            "_view_name": "LayoutView",
            "grid_template_rows": null,
            "right": null,
            "justify_content": null,
            "_view_module": "@jupyter-widgets/base",
            "overflow": null,
            "_model_module_version": "1.2.0",
            "_view_count": null,
            "flex_flow": null,
            "width": null,
            "min_width": null,
            "border": null,
            "align_items": null,
            "bottom": null,
            "_model_module": "@jupyter-widgets/base",
            "top": null,
            "grid_column": null,
            "overflow_y": null,
            "overflow_x": null,
            "grid_auto_flow": null,
            "grid_area": null,
            "grid_template_columns": null,
            "flex": null,
            "_model_name": "LayoutModel",
            "justify_items": null,
            "grid_row": null,
            "max_height": null,
            "align_content": null,
            "visibility": null,
            "align_self": null,
            "height": null,
            "min_height": null,
            "padding": null,
            "grid_auto_rows": null,
            "grid_gap": null,
            "max_width": null,
            "order": null,
            "_view_module_version": "1.2.0",
            "grid_template_areas": null,
            "object_position": null,
            "object_fit": null,
            "grid_auto_columns": null,
            "margin": null,
            "display": null,
            "left": null
          }
        },
        "f280276f81c34cbb8cb927606f4c1a22": {
          "model_module": "@jupyter-widgets/controls",
          "model_name": "DescriptionStyleModel",
          "model_module_version": "1.5.0",
          "state": {
            "_view_name": "StyleView",
            "_model_name": "DescriptionStyleModel",
            "description_width": "",
            "_view_module": "@jupyter-widgets/base",
            "_model_module_version": "1.5.0",
            "_view_count": null,
            "_view_module_version": "1.2.0",
            "_model_module": "@jupyter-widgets/controls"
          }
        },
        "1af5639b50084e1283fbbaebe15ce8f1": {
          "model_module": "@jupyter-widgets/base",
          "model_name": "LayoutModel",
          "model_module_version": "1.2.0",
          "state": {
            "_view_name": "LayoutView",
            "grid_template_rows": null,
            "right": null,
            "justify_content": null,
            "_view_module": "@jupyter-widgets/base",
            "overflow": null,
            "_model_module_version": "1.2.0",
            "_view_count": null,
            "flex_flow": null,
            "width": null,
            "min_width": null,
            "border": null,
            "align_items": null,
            "bottom": null,
            "_model_module": "@jupyter-widgets/base",
            "top": null,
            "grid_column": null,
            "overflow_y": null,
            "overflow_x": null,
            "grid_auto_flow": null,
            "grid_area": null,
            "grid_template_columns": null,
            "flex": null,
            "_model_name": "LayoutModel",
            "justify_items": null,
            "grid_row": null,
            "max_height": null,
            "align_content": null,
            "visibility": null,
            "align_self": null,
            "height": null,
            "min_height": null,
            "padding": null,
            "grid_auto_rows": null,
            "grid_gap": null,
            "max_width": null,
            "order": null,
            "_view_module_version": "1.2.0",
            "grid_template_areas": null,
            "object_position": null,
            "object_fit": null,
            "grid_auto_columns": null,
            "margin": null,
            "display": null,
            "left": null
          }
        },
        "0740f871a3504c9b907618176d890994": {
          "model_module": "@jupyter-widgets/controls",
          "model_name": "HBoxModel",
          "model_module_version": "1.5.0",
          "state": {
            "_view_name": "HBoxView",
            "_dom_classes": [],
            "_model_name": "HBoxModel",
            "_view_module": "@jupyter-widgets/controls",
            "_model_module_version": "1.5.0",
            "_view_count": null,
            "_view_module_version": "1.5.0",
            "box_style": "",
            "layout": "IPY_MODEL_439a9858cc8446539681507acc71a4b8",
            "_model_module": "@jupyter-widgets/controls",
            "children": [
              "IPY_MODEL_6adf47cb973f479184dc2df9f508db56",
              "IPY_MODEL_270a332b4ee147c187ee465e638dfcc3",
              "IPY_MODEL_d73b05dcddc14c66a8d3405881da156d"
            ]
          }
        },
        "439a9858cc8446539681507acc71a4b8": {
          "model_module": "@jupyter-widgets/base",
          "model_name": "LayoutModel",
          "model_module_version": "1.2.0",
          "state": {
            "_view_name": "LayoutView",
            "grid_template_rows": null,
            "right": null,
            "justify_content": null,
            "_view_module": "@jupyter-widgets/base",
            "overflow": null,
            "_model_module_version": "1.2.0",
            "_view_count": null,
            "flex_flow": null,
            "width": null,
            "min_width": null,
            "border": null,
            "align_items": null,
            "bottom": null,
            "_model_module": "@jupyter-widgets/base",
            "top": null,
            "grid_column": null,
            "overflow_y": null,
            "overflow_x": null,
            "grid_auto_flow": null,
            "grid_area": null,
            "grid_template_columns": null,
            "flex": null,
            "_model_name": "LayoutModel",
            "justify_items": null,
            "grid_row": null,
            "max_height": null,
            "align_content": null,
            "visibility": null,
            "align_self": null,
            "height": null,
            "min_height": null,
            "padding": null,
            "grid_auto_rows": null,
            "grid_gap": null,
            "max_width": null,
            "order": null,
            "_view_module_version": "1.2.0",
            "grid_template_areas": null,
            "object_position": null,
            "object_fit": null,
            "grid_auto_columns": null,
            "margin": null,
            "display": null,
            "left": null
          }
        },
        "6adf47cb973f479184dc2df9f508db56": {
          "model_module": "@jupyter-widgets/controls",
          "model_name": "HTMLModel",
          "model_module_version": "1.5.0",
          "state": {
            "_view_name": "HTMLView",
            "style": "IPY_MODEL_4b6ff94bff0541dc9a0c146e1399b834",
            "_dom_classes": [],
            "description": "",
            "_model_name": "HTMLModel",
            "placeholder": "​",
            "_view_module": "@jupyter-widgets/controls",
            "_model_module_version": "1.5.0",
            "value": "Downloading: 100%",
            "_view_count": null,
            "_view_module_version": "1.5.0",
            "description_tooltip": null,
            "_model_module": "@jupyter-widgets/controls",
            "layout": "IPY_MODEL_7894b6ab9b2545d0a198f503919eb9a7"
          }
        },
        "270a332b4ee147c187ee465e638dfcc3": {
          "model_module": "@jupyter-widgets/controls",
          "model_name": "FloatProgressModel",
          "model_module_version": "1.5.0",
          "state": {
            "_view_name": "ProgressView",
            "style": "IPY_MODEL_0330a56706ff47e8967b666c700afd5c",
            "_dom_classes": [],
            "description": "",
            "_model_name": "FloatProgressModel",
            "bar_style": "success",
            "max": 456318,
            "_view_module": "@jupyter-widgets/controls",
            "_model_module_version": "1.5.0",
            "value": 456318,
            "_view_count": null,
            "_view_module_version": "1.5.0",
            "orientation": "horizontal",
            "min": 0,
            "description_tooltip": null,
            "_model_module": "@jupyter-widgets/controls",
            "layout": "IPY_MODEL_7728f34dd2cd404185db81e980650765"
          }
        },
        "d73b05dcddc14c66a8d3405881da156d": {
          "model_module": "@jupyter-widgets/controls",
          "model_name": "HTMLModel",
          "model_module_version": "1.5.0",
          "state": {
            "_view_name": "HTMLView",
            "style": "IPY_MODEL_7fd3cb9eeeb343b9b0bff093ee3d0adb",
            "_dom_classes": [],
            "description": "",
            "_model_name": "HTMLModel",
            "placeholder": "​",
            "_view_module": "@jupyter-widgets/controls",
            "_model_module_version": "1.5.0",
            "value": " 446k/446k [00:00&lt;00:00, 836kB/s]",
            "_view_count": null,
            "_view_module_version": "1.5.0",
            "description_tooltip": null,
            "_model_module": "@jupyter-widgets/controls",
            "layout": "IPY_MODEL_6450c8cc4fea4079af9334a54dbf3de1"
          }
        },
        "4b6ff94bff0541dc9a0c146e1399b834": {
          "model_module": "@jupyter-widgets/controls",
          "model_name": "DescriptionStyleModel",
          "model_module_version": "1.5.0",
          "state": {
            "_view_name": "StyleView",
            "_model_name": "DescriptionStyleModel",
            "description_width": "",
            "_view_module": "@jupyter-widgets/base",
            "_model_module_version": "1.5.0",
            "_view_count": null,
            "_view_module_version": "1.2.0",
            "_model_module": "@jupyter-widgets/controls"
          }
        },
        "7894b6ab9b2545d0a198f503919eb9a7": {
          "model_module": "@jupyter-widgets/base",
          "model_name": "LayoutModel",
          "model_module_version": "1.2.0",
          "state": {
            "_view_name": "LayoutView",
            "grid_template_rows": null,
            "right": null,
            "justify_content": null,
            "_view_module": "@jupyter-widgets/base",
            "overflow": null,
            "_model_module_version": "1.2.0",
            "_view_count": null,
            "flex_flow": null,
            "width": null,
            "min_width": null,
            "border": null,
            "align_items": null,
            "bottom": null,
            "_model_module": "@jupyter-widgets/base",
            "top": null,
            "grid_column": null,
            "overflow_y": null,
            "overflow_x": null,
            "grid_auto_flow": null,
            "grid_area": null,
            "grid_template_columns": null,
            "flex": null,
            "_model_name": "LayoutModel",
            "justify_items": null,
            "grid_row": null,
            "max_height": null,
            "align_content": null,
            "visibility": null,
            "align_self": null,
            "height": null,
            "min_height": null,
            "padding": null,
            "grid_auto_rows": null,
            "grid_gap": null,
            "max_width": null,
            "order": null,
            "_view_module_version": "1.2.0",
            "grid_template_areas": null,
            "object_position": null,
            "object_fit": null,
            "grid_auto_columns": null,
            "margin": null,
            "display": null,
            "left": null
          }
        },
        "0330a56706ff47e8967b666c700afd5c": {
          "model_module": "@jupyter-widgets/controls",
          "model_name": "ProgressStyleModel",
          "model_module_version": "1.5.0",
          "state": {
            "_view_name": "StyleView",
            "_model_name": "ProgressStyleModel",
            "description_width": "",
            "_view_module": "@jupyter-widgets/base",
            "_model_module_version": "1.5.0",
            "_view_count": null,
            "_view_module_version": "1.2.0",
            "bar_color": null,
            "_model_module": "@jupyter-widgets/controls"
          }
        },
        "7728f34dd2cd404185db81e980650765": {
          "model_module": "@jupyter-widgets/base",
          "model_name": "LayoutModel",
          "model_module_version": "1.2.0",
          "state": {
            "_view_name": "LayoutView",
            "grid_template_rows": null,
            "right": null,
            "justify_content": null,
            "_view_module": "@jupyter-widgets/base",
            "overflow": null,
            "_model_module_version": "1.2.0",
            "_view_count": null,
            "flex_flow": null,
            "width": null,
            "min_width": null,
            "border": null,
            "align_items": null,
            "bottom": null,
            "_model_module": "@jupyter-widgets/base",
            "top": null,
            "grid_column": null,
            "overflow_y": null,
            "overflow_x": null,
            "grid_auto_flow": null,
            "grid_area": null,
            "grid_template_columns": null,
            "flex": null,
            "_model_name": "LayoutModel",
            "justify_items": null,
            "grid_row": null,
            "max_height": null,
            "align_content": null,
            "visibility": null,
            "align_self": null,
            "height": null,
            "min_height": null,
            "padding": null,
            "grid_auto_rows": null,
            "grid_gap": null,
            "max_width": null,
            "order": null,
            "_view_module_version": "1.2.0",
            "grid_template_areas": null,
            "object_position": null,
            "object_fit": null,
            "grid_auto_columns": null,
            "margin": null,
            "display": null,
            "left": null
          }
        },
        "7fd3cb9eeeb343b9b0bff093ee3d0adb": {
          "model_module": "@jupyter-widgets/controls",
          "model_name": "DescriptionStyleModel",
          "model_module_version": "1.5.0",
          "state": {
            "_view_name": "StyleView",
            "_model_name": "DescriptionStyleModel",
            "description_width": "",
            "_view_module": "@jupyter-widgets/base",
            "_model_module_version": "1.5.0",
            "_view_count": null,
            "_view_module_version": "1.2.0",
            "_model_module": "@jupyter-widgets/controls"
          }
        },
        "6450c8cc4fea4079af9334a54dbf3de1": {
          "model_module": "@jupyter-widgets/base",
          "model_name": "LayoutModel",
          "model_module_version": "1.2.0",
          "state": {
            "_view_name": "LayoutView",
            "grid_template_rows": null,
            "right": null,
            "justify_content": null,
            "_view_module": "@jupyter-widgets/base",
            "overflow": null,
            "_model_module_version": "1.2.0",
            "_view_count": null,
            "flex_flow": null,
            "width": null,
            "min_width": null,
            "border": null,
            "align_items": null,
            "bottom": null,
            "_model_module": "@jupyter-widgets/base",
            "top": null,
            "grid_column": null,
            "overflow_y": null,
            "overflow_x": null,
            "grid_auto_flow": null,
            "grid_area": null,
            "grid_template_columns": null,
            "flex": null,
            "_model_name": "LayoutModel",
            "justify_items": null,
            "grid_row": null,
            "max_height": null,
            "align_content": null,
            "visibility": null,
            "align_self": null,
            "height": null,
            "min_height": null,
            "padding": null,
            "grid_auto_rows": null,
            "grid_gap": null,
            "max_width": null,
            "order": null,
            "_view_module_version": "1.2.0",
            "grid_template_areas": null,
            "object_position": null,
            "object_fit": null,
            "grid_auto_columns": null,
            "margin": null,
            "display": null,
            "left": null
          }
        },
        "5b667ab2102c47759fabb64fe9898a57": {
          "model_module": "@jupyter-widgets/controls",
          "model_name": "HBoxModel",
          "model_module_version": "1.5.0",
          "state": {
            "_view_name": "HBoxView",
            "_dom_classes": [],
            "_model_name": "HBoxModel",
            "_view_module": "@jupyter-widgets/controls",
            "_model_module_version": "1.5.0",
            "_view_count": null,
            "_view_module_version": "1.5.0",
            "box_style": "",
            "layout": "IPY_MODEL_afec4a9d677b4252b85c821e3bbfd6ca",
            "_model_module": "@jupyter-widgets/controls",
            "children": [
              "IPY_MODEL_16a1aaa30acb4a0c89523de380db33fa",
              "IPY_MODEL_2b946d959a0e4ed99e3efa5245c1589f",
              "IPY_MODEL_bc923f1380694496a6938c37aebad331"
            ]
          }
        },
        "afec4a9d677b4252b85c821e3bbfd6ca": {
          "model_module": "@jupyter-widgets/base",
          "model_name": "LayoutModel",
          "model_module_version": "1.2.0",
          "state": {
            "_view_name": "LayoutView",
            "grid_template_rows": null,
            "right": null,
            "justify_content": null,
            "_view_module": "@jupyter-widgets/base",
            "overflow": null,
            "_model_module_version": "1.2.0",
            "_view_count": null,
            "flex_flow": null,
            "width": null,
            "min_width": null,
            "border": null,
            "align_items": null,
            "bottom": null,
            "_model_module": "@jupyter-widgets/base",
            "top": null,
            "grid_column": null,
            "overflow_y": null,
            "overflow_x": null,
            "grid_auto_flow": null,
            "grid_area": null,
            "grid_template_columns": null,
            "flex": null,
            "_model_name": "LayoutModel",
            "justify_items": null,
            "grid_row": null,
            "max_height": null,
            "align_content": null,
            "visibility": null,
            "align_self": null,
            "height": null,
            "min_height": null,
            "padding": null,
            "grid_auto_rows": null,
            "grid_gap": null,
            "max_width": null,
            "order": null,
            "_view_module_version": "1.2.0",
            "grid_template_areas": null,
            "object_position": null,
            "object_fit": null,
            "grid_auto_columns": null,
            "margin": null,
            "display": null,
            "left": null
          }
        },
        "16a1aaa30acb4a0c89523de380db33fa": {
          "model_module": "@jupyter-widgets/controls",
          "model_name": "HTMLModel",
          "model_module_version": "1.5.0",
          "state": {
            "_view_name": "HTMLView",
            "style": "IPY_MODEL_f7a02db32fdb48fe9d718bd00a634a71",
            "_dom_classes": [],
            "description": "",
            "_model_name": "HTMLModel",
            "placeholder": "​",
            "_view_module": "@jupyter-widgets/controls",
            "_model_module_version": "1.5.0",
            "value": "Downloading: 100%",
            "_view_count": null,
            "_view_module_version": "1.5.0",
            "description_tooltip": null,
            "_model_module": "@jupyter-widgets/controls",
            "layout": "IPY_MODEL_c06c91a397834be183636395a60ea6dc"
          }
        },
        "2b946d959a0e4ed99e3efa5245c1589f": {
          "model_module": "@jupyter-widgets/controls",
          "model_name": "FloatProgressModel",
          "model_module_version": "1.5.0",
          "state": {
            "_view_name": "ProgressView",
            "style": "IPY_MODEL_0afa93628e5c45a091e27488d5dd9fd1",
            "_dom_classes": [],
            "description": "",
            "_model_name": "FloatProgressModel",
            "bar_style": "success",
            "max": 1355863,
            "_view_module": "@jupyter-widgets/controls",
            "_model_module_version": "1.5.0",
            "value": 1355863,
            "_view_count": null,
            "_view_module_version": "1.5.0",
            "orientation": "horizontal",
            "min": 0,
            "description_tooltip": null,
            "_model_module": "@jupyter-widgets/controls",
            "layout": "IPY_MODEL_68020327dd264eedbdf9ccafc06782e4"
          }
        },
        "bc923f1380694496a6938c37aebad331": {
          "model_module": "@jupyter-widgets/controls",
          "model_name": "HTMLModel",
          "model_module_version": "1.5.0",
          "state": {
            "_view_name": "HTMLView",
            "style": "IPY_MODEL_eeb0e51c7e204c77933bb2f351c98656",
            "_dom_classes": [],
            "description": "",
            "_model_name": "HTMLModel",
            "placeholder": "​",
            "_view_module": "@jupyter-widgets/controls",
            "_model_module_version": "1.5.0",
            "value": " 1.29M/1.29M [00:00&lt;00:00, 5.01MB/s]",
            "_view_count": null,
            "_view_module_version": "1.5.0",
            "description_tooltip": null,
            "_model_module": "@jupyter-widgets/controls",
            "layout": "IPY_MODEL_ad8118ab4cdc4b33a98676a31b8f1402"
          }
        },
        "f7a02db32fdb48fe9d718bd00a634a71": {
          "model_module": "@jupyter-widgets/controls",
          "model_name": "DescriptionStyleModel",
          "model_module_version": "1.5.0",
          "state": {
            "_view_name": "StyleView",
            "_model_name": "DescriptionStyleModel",
            "description_width": "",
            "_view_module": "@jupyter-widgets/base",
            "_model_module_version": "1.5.0",
            "_view_count": null,
            "_view_module_version": "1.2.0",
            "_model_module": "@jupyter-widgets/controls"
          }
        },
        "c06c91a397834be183636395a60ea6dc": {
          "model_module": "@jupyter-widgets/base",
          "model_name": "LayoutModel",
          "model_module_version": "1.2.0",
          "state": {
            "_view_name": "LayoutView",
            "grid_template_rows": null,
            "right": null,
            "justify_content": null,
            "_view_module": "@jupyter-widgets/base",
            "overflow": null,
            "_model_module_version": "1.2.0",
            "_view_count": null,
            "flex_flow": null,
            "width": null,
            "min_width": null,
            "border": null,
            "align_items": null,
            "bottom": null,
            "_model_module": "@jupyter-widgets/base",
            "top": null,
            "grid_column": null,
            "overflow_y": null,
            "overflow_x": null,
            "grid_auto_flow": null,
            "grid_area": null,
            "grid_template_columns": null,
            "flex": null,
            "_model_name": "LayoutModel",
            "justify_items": null,
            "grid_row": null,
            "max_height": null,
            "align_content": null,
            "visibility": null,
            "align_self": null,
            "height": null,
            "min_height": null,
            "padding": null,
            "grid_auto_rows": null,
            "grid_gap": null,
            "max_width": null,
            "order": null,
            "_view_module_version": "1.2.0",
            "grid_template_areas": null,
            "object_position": null,
            "object_fit": null,
            "grid_auto_columns": null,
            "margin": null,
            "display": null,
            "left": null
          }
        },
        "0afa93628e5c45a091e27488d5dd9fd1": {
          "model_module": "@jupyter-widgets/controls",
          "model_name": "ProgressStyleModel",
          "model_module_version": "1.5.0",
          "state": {
            "_view_name": "StyleView",
            "_model_name": "ProgressStyleModel",
            "description_width": "",
            "_view_module": "@jupyter-widgets/base",
            "_model_module_version": "1.5.0",
            "_view_count": null,
            "_view_module_version": "1.2.0",
            "bar_color": null,
            "_model_module": "@jupyter-widgets/controls"
          }
        },
        "68020327dd264eedbdf9ccafc06782e4": {
          "model_module": "@jupyter-widgets/base",
          "model_name": "LayoutModel",
          "model_module_version": "1.2.0",
          "state": {
            "_view_name": "LayoutView",
            "grid_template_rows": null,
            "right": null,
            "justify_content": null,
            "_view_module": "@jupyter-widgets/base",
            "overflow": null,
            "_model_module_version": "1.2.0",
            "_view_count": null,
            "flex_flow": null,
            "width": null,
            "min_width": null,
            "border": null,
            "align_items": null,
            "bottom": null,
            "_model_module": "@jupyter-widgets/base",
            "top": null,
            "grid_column": null,
            "overflow_y": null,
            "overflow_x": null,
            "grid_auto_flow": null,
            "grid_area": null,
            "grid_template_columns": null,
            "flex": null,
            "_model_name": "LayoutModel",
            "justify_items": null,
            "grid_row": null,
            "max_height": null,
            "align_content": null,
            "visibility": null,
            "align_self": null,
            "height": null,
            "min_height": null,
            "padding": null,
            "grid_auto_rows": null,
            "grid_gap": null,
            "max_width": null,
            "order": null,
            "_view_module_version": "1.2.0",
            "grid_template_areas": null,
            "object_position": null,
            "object_fit": null,
            "grid_auto_columns": null,
            "margin": null,
            "display": null,
            "left": null
          }
        },
        "eeb0e51c7e204c77933bb2f351c98656": {
          "model_module": "@jupyter-widgets/controls",
          "model_name": "DescriptionStyleModel",
          "model_module_version": "1.5.0",
          "state": {
            "_view_name": "StyleView",
            "_model_name": "DescriptionStyleModel",
            "description_width": "",
            "_view_module": "@jupyter-widgets/base",
            "_model_module_version": "1.5.0",
            "_view_count": null,
            "_view_module_version": "1.2.0",
            "_model_module": "@jupyter-widgets/controls"
          }
        },
        "ad8118ab4cdc4b33a98676a31b8f1402": {
          "model_module": "@jupyter-widgets/base",
          "model_name": "LayoutModel",
          "model_module_version": "1.2.0",
          "state": {
            "_view_name": "LayoutView",
            "grid_template_rows": null,
            "right": null,
            "justify_content": null,
            "_view_module": "@jupyter-widgets/base",
            "overflow": null,
            "_model_module_version": "1.2.0",
            "_view_count": null,
            "flex_flow": null,
            "width": null,
            "min_width": null,
            "border": null,
            "align_items": null,
            "bottom": null,
            "_model_module": "@jupyter-widgets/base",
            "top": null,
            "grid_column": null,
            "overflow_y": null,
            "overflow_x": null,
            "grid_auto_flow": null,
            "grid_area": null,
            "grid_template_columns": null,
            "flex": null,
            "_model_name": "LayoutModel",
            "justify_items": null,
            "grid_row": null,
            "max_height": null,
            "align_content": null,
            "visibility": null,
            "align_self": null,
            "height": null,
            "min_height": null,
            "padding": null,
            "grid_auto_rows": null,
            "grid_gap": null,
            "max_width": null,
            "order": null,
            "_view_module_version": "1.2.0",
            "grid_template_areas": null,
            "object_position": null,
            "object_fit": null,
            "grid_auto_columns": null,
            "margin": null,
            "display": null,
            "left": null
          }
        },
        "c1b1f6e2aa564a6fb71347bf08babfa8": {
          "model_module": "@jupyter-widgets/controls",
          "model_name": "HBoxModel",
          "model_module_version": "1.5.0",
          "state": {
            "_view_name": "HBoxView",
            "_dom_classes": [],
            "_model_name": "HBoxModel",
            "_view_module": "@jupyter-widgets/controls",
            "_model_module_version": "1.5.0",
            "_view_count": null,
            "_view_module_version": "1.5.0",
            "box_style": "",
            "layout": "IPY_MODEL_2b84a573cfe6474183e43c86c942ac8f",
            "_model_module": "@jupyter-widgets/controls",
            "children": [
              "IPY_MODEL_30c83ae779f146a881b152f047a650ef",
              "IPY_MODEL_63f39367bbfb42f5889a552a62e5cd53",
              "IPY_MODEL_d04fb9522d2a40ad81808690ab280bb6"
            ]
          }
        },
        "2b84a573cfe6474183e43c86c942ac8f": {
          "model_module": "@jupyter-widgets/base",
          "model_name": "LayoutModel",
          "model_module_version": "1.2.0",
          "state": {
            "_view_name": "LayoutView",
            "grid_template_rows": null,
            "right": null,
            "justify_content": null,
            "_view_module": "@jupyter-widgets/base",
            "overflow": null,
            "_model_module_version": "1.2.0",
            "_view_count": null,
            "flex_flow": null,
            "width": null,
            "min_width": null,
            "border": null,
            "align_items": null,
            "bottom": null,
            "_model_module": "@jupyter-widgets/base",
            "top": null,
            "grid_column": null,
            "overflow_y": null,
            "overflow_x": null,
            "grid_auto_flow": null,
            "grid_area": null,
            "grid_template_columns": null,
            "flex": null,
            "_model_name": "LayoutModel",
            "justify_items": null,
            "grid_row": null,
            "max_height": null,
            "align_content": null,
            "visibility": null,
            "align_self": null,
            "height": null,
            "min_height": null,
            "padding": null,
            "grid_auto_rows": null,
            "grid_gap": null,
            "max_width": null,
            "order": null,
            "_view_module_version": "1.2.0",
            "grid_template_areas": null,
            "object_position": null,
            "object_fit": null,
            "grid_auto_columns": null,
            "margin": null,
            "display": null,
            "left": null
          }
        },
        "30c83ae779f146a881b152f047a650ef": {
          "model_module": "@jupyter-widgets/controls",
          "model_name": "HTMLModel",
          "model_module_version": "1.5.0",
          "state": {
            "_view_name": "HTMLView",
            "style": "IPY_MODEL_8543593db35f41119e8cfe57b142be73",
            "_dom_classes": [],
            "description": "",
            "_model_name": "HTMLModel",
            "placeholder": "​",
            "_view_module": "@jupyter-widgets/controls",
            "_model_module_version": "1.5.0",
            "value": "Downloading: 100%",
            "_view_count": null,
            "_view_module_version": "1.5.0",
            "description_tooltip": null,
            "_model_module": "@jupyter-widgets/controls",
            "layout": "IPY_MODEL_028f706a27ff4e009903921fd987e296"
          }
        },
        "63f39367bbfb42f5889a552a62e5cd53": {
          "model_module": "@jupyter-widgets/controls",
          "model_name": "FloatProgressModel",
          "model_module_version": "1.5.0",
          "state": {
            "_view_name": "ProgressView",
            "style": "IPY_MODEL_88a7d93635c748dc917319a300c70bf1",
            "_dom_classes": [],
            "description": "",
            "_model_name": "FloatProgressModel",
            "bar_style": "success",
            "max": 481,
            "_view_module": "@jupyter-widgets/controls",
            "_model_module_version": "1.5.0",
            "value": 481,
            "_view_count": null,
            "_view_module_version": "1.5.0",
            "orientation": "horizontal",
            "min": 0,
            "description_tooltip": null,
            "_model_module": "@jupyter-widgets/controls",
            "layout": "IPY_MODEL_eb4d63c97d4345f98892d5d0ad2f8ab9"
          }
        },
        "d04fb9522d2a40ad81808690ab280bb6": {
          "model_module": "@jupyter-widgets/controls",
          "model_name": "HTMLModel",
          "model_module_version": "1.5.0",
          "state": {
            "_view_name": "HTMLView",
            "style": "IPY_MODEL_b3cd1a6457f243d9bdda79158ff19c84",
            "_dom_classes": [],
            "description": "",
            "_model_name": "HTMLModel",
            "placeholder": "​",
            "_view_module": "@jupyter-widgets/controls",
            "_model_module_version": "1.5.0",
            "value": " 481/481 [00:00&lt;00:00, 17.1kB/s]",
            "_view_count": null,
            "_view_module_version": "1.5.0",
            "description_tooltip": null,
            "_model_module": "@jupyter-widgets/controls",
            "layout": "IPY_MODEL_604ddb1bfa144ce08169f50e051a0bdc"
          }
        },
        "8543593db35f41119e8cfe57b142be73": {
          "model_module": "@jupyter-widgets/controls",
          "model_name": "DescriptionStyleModel",
          "model_module_version": "1.5.0",
          "state": {
            "_view_name": "StyleView",
            "_model_name": "DescriptionStyleModel",
            "description_width": "",
            "_view_module": "@jupyter-widgets/base",
            "_model_module_version": "1.5.0",
            "_view_count": null,
            "_view_module_version": "1.2.0",
            "_model_module": "@jupyter-widgets/controls"
          }
        },
        "028f706a27ff4e009903921fd987e296": {
          "model_module": "@jupyter-widgets/base",
          "model_name": "LayoutModel",
          "model_module_version": "1.2.0",
          "state": {
            "_view_name": "LayoutView",
            "grid_template_rows": null,
            "right": null,
            "justify_content": null,
            "_view_module": "@jupyter-widgets/base",
            "overflow": null,
            "_model_module_version": "1.2.0",
            "_view_count": null,
            "flex_flow": null,
            "width": null,
            "min_width": null,
            "border": null,
            "align_items": null,
            "bottom": null,
            "_model_module": "@jupyter-widgets/base",
            "top": null,
            "grid_column": null,
            "overflow_y": null,
            "overflow_x": null,
            "grid_auto_flow": null,
            "grid_area": null,
            "grid_template_columns": null,
            "flex": null,
            "_model_name": "LayoutModel",
            "justify_items": null,
            "grid_row": null,
            "max_height": null,
            "align_content": null,
            "visibility": null,
            "align_self": null,
            "height": null,
            "min_height": null,
            "padding": null,
            "grid_auto_rows": null,
            "grid_gap": null,
            "max_width": null,
            "order": null,
            "_view_module_version": "1.2.0",
            "grid_template_areas": null,
            "object_position": null,
            "object_fit": null,
            "grid_auto_columns": null,
            "margin": null,
            "display": null,
            "left": null
          }
        },
        "88a7d93635c748dc917319a300c70bf1": {
          "model_module": "@jupyter-widgets/controls",
          "model_name": "ProgressStyleModel",
          "model_module_version": "1.5.0",
          "state": {
            "_view_name": "StyleView",
            "_model_name": "ProgressStyleModel",
            "description_width": "",
            "_view_module": "@jupyter-widgets/base",
            "_model_module_version": "1.5.0",
            "_view_count": null,
            "_view_module_version": "1.2.0",
            "bar_color": null,
            "_model_module": "@jupyter-widgets/controls"
          }
        },
        "eb4d63c97d4345f98892d5d0ad2f8ab9": {
          "model_module": "@jupyter-widgets/base",
          "model_name": "LayoutModel",
          "model_module_version": "1.2.0",
          "state": {
            "_view_name": "LayoutView",
            "grid_template_rows": null,
            "right": null,
            "justify_content": null,
            "_view_module": "@jupyter-widgets/base",
            "overflow": null,
            "_model_module_version": "1.2.0",
            "_view_count": null,
            "flex_flow": null,
            "width": null,
            "min_width": null,
            "border": null,
            "align_items": null,
            "bottom": null,
            "_model_module": "@jupyter-widgets/base",
            "top": null,
            "grid_column": null,
            "overflow_y": null,
            "overflow_x": null,
            "grid_auto_flow": null,
            "grid_area": null,
            "grid_template_columns": null,
            "flex": null,
            "_model_name": "LayoutModel",
            "justify_items": null,
            "grid_row": null,
            "max_height": null,
            "align_content": null,
            "visibility": null,
            "align_self": null,
            "height": null,
            "min_height": null,
            "padding": null,
            "grid_auto_rows": null,
            "grid_gap": null,
            "max_width": null,
            "order": null,
            "_view_module_version": "1.2.0",
            "grid_template_areas": null,
            "object_position": null,
            "object_fit": null,
            "grid_auto_columns": null,
            "margin": null,
            "display": null,
            "left": null
          }
        },
        "b3cd1a6457f243d9bdda79158ff19c84": {
          "model_module": "@jupyter-widgets/controls",
          "model_name": "DescriptionStyleModel",
          "model_module_version": "1.5.0",
          "state": {
            "_view_name": "StyleView",
            "_model_name": "DescriptionStyleModel",
            "description_width": "",
            "_view_module": "@jupyter-widgets/base",
            "_model_module_version": "1.5.0",
            "_view_count": null,
            "_view_module_version": "1.2.0",
            "_model_module": "@jupyter-widgets/controls"
          }
        },
        "604ddb1bfa144ce08169f50e051a0bdc": {
          "model_module": "@jupyter-widgets/base",
          "model_name": "LayoutModel",
          "model_module_version": "1.2.0",
          "state": {
            "_view_name": "LayoutView",
            "grid_template_rows": null,
            "right": null,
            "justify_content": null,
            "_view_module": "@jupyter-widgets/base",
            "overflow": null,
            "_model_module_version": "1.2.0",
            "_view_count": null,
            "flex_flow": null,
            "width": null,
            "min_width": null,
            "border": null,
            "align_items": null,
            "bottom": null,
            "_model_module": "@jupyter-widgets/base",
            "top": null,
            "grid_column": null,
            "overflow_y": null,
            "overflow_x": null,
            "grid_auto_flow": null,
            "grid_area": null,
            "grid_template_columns": null,
            "flex": null,
            "_model_name": "LayoutModel",
            "justify_items": null,
            "grid_row": null,
            "max_height": null,
            "align_content": null,
            "visibility": null,
            "align_self": null,
            "height": null,
            "min_height": null,
            "padding": null,
            "grid_auto_rows": null,
            "grid_gap": null,
            "max_width": null,
            "order": null,
            "_view_module_version": "1.2.0",
            "grid_template_areas": null,
            "object_position": null,
            "object_fit": null,
            "grid_auto_columns": null,
            "margin": null,
            "display": null,
            "left": null
          }
        },
        "ebdbdf4219e24fb1a0857d8d11a476f7": {
          "model_module": "@jupyter-widgets/controls",
          "model_name": "HBoxModel",
          "model_module_version": "1.5.0",
          "state": {
            "_view_name": "HBoxView",
            "_dom_classes": [],
            "_model_name": "HBoxModel",
            "_view_module": "@jupyter-widgets/controls",
            "_model_module_version": "1.5.0",
            "_view_count": null,
            "_view_module_version": "1.5.0",
            "box_style": "",
            "layout": "IPY_MODEL_2850bb46fd45461aa68beac7b82f229f",
            "_model_module": "@jupyter-widgets/controls",
            "children": [
              "IPY_MODEL_536a8f8742d14c18b0dfa8c905640ef6",
              "IPY_MODEL_633f4969361a49f0bcf22e3ab4ebf4bf",
              "IPY_MODEL_693c2d7e2cd14b5786b6369aa943f7ac"
            ]
          }
        },
        "2850bb46fd45461aa68beac7b82f229f": {
          "model_module": "@jupyter-widgets/base",
          "model_name": "LayoutModel",
          "model_module_version": "1.2.0",
          "state": {
            "_view_name": "LayoutView",
            "grid_template_rows": null,
            "right": null,
            "justify_content": null,
            "_view_module": "@jupyter-widgets/base",
            "overflow": null,
            "_model_module_version": "1.2.0",
            "_view_count": null,
            "flex_flow": null,
            "width": null,
            "min_width": null,
            "border": null,
            "align_items": null,
            "bottom": null,
            "_model_module": "@jupyter-widgets/base",
            "top": null,
            "grid_column": null,
            "overflow_y": null,
            "overflow_x": null,
            "grid_auto_flow": null,
            "grid_area": null,
            "grid_template_columns": null,
            "flex": null,
            "_model_name": "LayoutModel",
            "justify_items": null,
            "grid_row": null,
            "max_height": null,
            "align_content": null,
            "visibility": null,
            "align_self": null,
            "height": null,
            "min_height": null,
            "padding": null,
            "grid_auto_rows": null,
            "grid_gap": null,
            "max_width": null,
            "order": null,
            "_view_module_version": "1.2.0",
            "grid_template_areas": null,
            "object_position": null,
            "object_fit": null,
            "grid_auto_columns": null,
            "margin": null,
            "display": null,
            "left": null
          }
        },
        "536a8f8742d14c18b0dfa8c905640ef6": {
          "model_module": "@jupyter-widgets/controls",
          "model_name": "HTMLModel",
          "model_module_version": "1.5.0",
          "state": {
            "_view_name": "HTMLView",
            "style": "IPY_MODEL_623762c6ec4f451c9aba801ca8fe8c30",
            "_dom_classes": [],
            "description": "",
            "_model_name": "HTMLModel",
            "placeholder": "​",
            "_view_module": "@jupyter-widgets/controls",
            "_model_module_version": "1.5.0",
            "value": "Downloading: 100%",
            "_view_count": null,
            "_view_module_version": "1.5.0",
            "description_tooltip": null,
            "_model_module": "@jupyter-widgets/controls",
            "layout": "IPY_MODEL_c003938b2bc541d1979f843f41ce3c24"
          }
        },
        "633f4969361a49f0bcf22e3ab4ebf4bf": {
          "model_module": "@jupyter-widgets/controls",
          "model_name": "FloatProgressModel",
          "model_module_version": "1.5.0",
          "state": {
            "_view_name": "ProgressView",
            "style": "IPY_MODEL_5edeb3ecc3af4d00bf6c8bccee39c1c9",
            "_dom_classes": [],
            "description": "",
            "_model_name": "FloatProgressModel",
            "bar_style": "success",
            "max": 501200538,
            "_view_module": "@jupyter-widgets/controls",
            "_model_module_version": "1.5.0",
            "value": 501200538,
            "_view_count": null,
            "_view_module_version": "1.5.0",
            "orientation": "horizontal",
            "min": 0,
            "description_tooltip": null,
            "_model_module": "@jupyter-widgets/controls",
            "layout": "IPY_MODEL_8eeca44081ce4156992dcc61d7f27673"
          }
        },
        "693c2d7e2cd14b5786b6369aa943f7ac": {
          "model_module": "@jupyter-widgets/controls",
          "model_name": "HTMLModel",
          "model_module_version": "1.5.0",
          "state": {
            "_view_name": "HTMLView",
            "style": "IPY_MODEL_597ccad24f5b4d34a59a1c65888d5ae3",
            "_dom_classes": [],
            "description": "",
            "_model_name": "HTMLModel",
            "placeholder": "​",
            "_view_module": "@jupyter-widgets/controls",
            "_model_module_version": "1.5.0",
            "value": " 478M/478M [00:08&lt;00:00, 59.1MB/s]",
            "_view_count": null,
            "_view_module_version": "1.5.0",
            "description_tooltip": null,
            "_model_module": "@jupyter-widgets/controls",
            "layout": "IPY_MODEL_0fe63da8c4d9462688b8d41017ec7c35"
          }
        },
        "623762c6ec4f451c9aba801ca8fe8c30": {
          "model_module": "@jupyter-widgets/controls",
          "model_name": "DescriptionStyleModel",
          "model_module_version": "1.5.0",
          "state": {
            "_view_name": "StyleView",
            "_model_name": "DescriptionStyleModel",
            "description_width": "",
            "_view_module": "@jupyter-widgets/base",
            "_model_module_version": "1.5.0",
            "_view_count": null,
            "_view_module_version": "1.2.0",
            "_model_module": "@jupyter-widgets/controls"
          }
        },
        "c003938b2bc541d1979f843f41ce3c24": {
          "model_module": "@jupyter-widgets/base",
          "model_name": "LayoutModel",
          "model_module_version": "1.2.0",
          "state": {
            "_view_name": "LayoutView",
            "grid_template_rows": null,
            "right": null,
            "justify_content": null,
            "_view_module": "@jupyter-widgets/base",
            "overflow": null,
            "_model_module_version": "1.2.0",
            "_view_count": null,
            "flex_flow": null,
            "width": null,
            "min_width": null,
            "border": null,
            "align_items": null,
            "bottom": null,
            "_model_module": "@jupyter-widgets/base",
            "top": null,
            "grid_column": null,
            "overflow_y": null,
            "overflow_x": null,
            "grid_auto_flow": null,
            "grid_area": null,
            "grid_template_columns": null,
            "flex": null,
            "_model_name": "LayoutModel",
            "justify_items": null,
            "grid_row": null,
            "max_height": null,
            "align_content": null,
            "visibility": null,
            "align_self": null,
            "height": null,
            "min_height": null,
            "padding": null,
            "grid_auto_rows": null,
            "grid_gap": null,
            "max_width": null,
            "order": null,
            "_view_module_version": "1.2.0",
            "grid_template_areas": null,
            "object_position": null,
            "object_fit": null,
            "grid_auto_columns": null,
            "margin": null,
            "display": null,
            "left": null
          }
        },
        "5edeb3ecc3af4d00bf6c8bccee39c1c9": {
          "model_module": "@jupyter-widgets/controls",
          "model_name": "ProgressStyleModel",
          "model_module_version": "1.5.0",
          "state": {
            "_view_name": "StyleView",
            "_model_name": "ProgressStyleModel",
            "description_width": "",
            "_view_module": "@jupyter-widgets/base",
            "_model_module_version": "1.5.0",
            "_view_count": null,
            "_view_module_version": "1.2.0",
            "bar_color": null,
            "_model_module": "@jupyter-widgets/controls"
          }
        },
        "8eeca44081ce4156992dcc61d7f27673": {
          "model_module": "@jupyter-widgets/base",
          "model_name": "LayoutModel",
          "model_module_version": "1.2.0",
          "state": {
            "_view_name": "LayoutView",
            "grid_template_rows": null,
            "right": null,
            "justify_content": null,
            "_view_module": "@jupyter-widgets/base",
            "overflow": null,
            "_model_module_version": "1.2.0",
            "_view_count": null,
            "flex_flow": null,
            "width": null,
            "min_width": null,
            "border": null,
            "align_items": null,
            "bottom": null,
            "_model_module": "@jupyter-widgets/base",
            "top": null,
            "grid_column": null,
            "overflow_y": null,
            "overflow_x": null,
            "grid_auto_flow": null,
            "grid_area": null,
            "grid_template_columns": null,
            "flex": null,
            "_model_name": "LayoutModel",
            "justify_items": null,
            "grid_row": null,
            "max_height": null,
            "align_content": null,
            "visibility": null,
            "align_self": null,
            "height": null,
            "min_height": null,
            "padding": null,
            "grid_auto_rows": null,
            "grid_gap": null,
            "max_width": null,
            "order": null,
            "_view_module_version": "1.2.0",
            "grid_template_areas": null,
            "object_position": null,
            "object_fit": null,
            "grid_auto_columns": null,
            "margin": null,
            "display": null,
            "left": null
          }
        },
        "597ccad24f5b4d34a59a1c65888d5ae3": {
          "model_module": "@jupyter-widgets/controls",
          "model_name": "DescriptionStyleModel",
          "model_module_version": "1.5.0",
          "state": {
            "_view_name": "StyleView",
            "_model_name": "DescriptionStyleModel",
            "description_width": "",
            "_view_module": "@jupyter-widgets/base",
            "_model_module_version": "1.5.0",
            "_view_count": null,
            "_view_module_version": "1.2.0",
            "_model_module": "@jupyter-widgets/controls"
          }
        },
        "0fe63da8c4d9462688b8d41017ec7c35": {
          "model_module": "@jupyter-widgets/base",
          "model_name": "LayoutModel",
          "model_module_version": "1.2.0",
          "state": {
            "_view_name": "LayoutView",
            "grid_template_rows": null,
            "right": null,
            "justify_content": null,
            "_view_module": "@jupyter-widgets/base",
            "overflow": null,
            "_model_module_version": "1.2.0",
            "_view_count": null,
            "flex_flow": null,
            "width": null,
            "min_width": null,
            "border": null,
            "align_items": null,
            "bottom": null,
            "_model_module": "@jupyter-widgets/base",
            "top": null,
            "grid_column": null,
            "overflow_y": null,
            "overflow_x": null,
            "grid_auto_flow": null,
            "grid_area": null,
            "grid_template_columns": null,
            "flex": null,
            "_model_name": "LayoutModel",
            "justify_items": null,
            "grid_row": null,
            "max_height": null,
            "align_content": null,
            "visibility": null,
            "align_self": null,
            "height": null,
            "min_height": null,
            "padding": null,
            "grid_auto_rows": null,
            "grid_gap": null,
            "max_width": null,
            "order": null,
            "_view_module_version": "1.2.0",
            "grid_template_areas": null,
            "object_position": null,
            "object_fit": null,
            "grid_auto_columns": null,
            "margin": null,
            "display": null,
            "left": null
          }
        }
      }
    },
    "colab": {
      "name": "baseline_EDA_roBERTa.ipynb",
      "provenance": [],
      "collapsed_sections": [],
      "machine_shape": "hm"
    },
    "accelerator": "GPU"
  },
  "cells": [
    {
      "cell_type": "markdown",
      "metadata": {
        "id": "view-in-github"
      },
      "source": [
        "<a href=\"https://colab.research.google.com/github/kkogggokk/TextClassification/blob/SY/preprocessing/baseline_EDA.ipynb\" target=\"_parent\"><img src=\"https://colab.research.google.com/assets/colab-badge.svg\" alt=\"Open In Colab\"/></a>"
      ],
      "id": "view-in-github"
    },
    {
      "cell_type": "code",
      "metadata": {
        "colab": {
          "base_uri": "https://localhost:8080/"
        },
        "id": "APqW70g-L7E9",
        "outputId": "604efce3-54e7-4cd9-85fd-97b6596d509c"
      },
      "source": [
        "from google.colab import drive\n",
        "drive.mount('/content/drive')"
      ],
      "id": "APqW70g-L7E9",
      "execution_count": null,
      "outputs": [
        {
          "output_type": "stream",
          "name": "stdout",
          "text": [
            "Drive already mounted at /content/drive; to attempt to forcibly remount, call drive.mount(\"/content/drive\", force_remount=True).\n"
          ]
        }
      ]
    },
    {
      "cell_type": "markdown",
      "metadata": {
        "papermill": {
          "duration": 0.021215,
          "end_time": "2021-10-25T09:17:53.359656",
          "exception": false,
          "start_time": "2021-10-25T09:17:53.338441",
          "status": "completed"
        },
        "tags": [],
        "id": "71a46193"
      },
      "source": [
        "# Import requirements"
      ],
      "id": "71a46193"
    },
    {
      "cell_type": "code",
      "metadata": {
        "colab": {
          "base_uri": "https://localhost:8080/"
        },
        "id": "9lqC_bPmL9lh",
        "outputId": "445c3833-6bd4-417f-ee17-48151e673941"
      },
      "source": [
        "# restart the runtime after installing the following packages \n",
        "!pip install wandb\n",
        "!pip install transformers "
      ],
      "id": "9lqC_bPmL9lh",
      "execution_count": null,
      "outputs": [
        {
          "output_type": "stream",
          "name": "stdout",
          "text": [
            "Collecting wandb\n",
            "  Downloading wandb-0.12.6-py2.py3-none-any.whl (1.7 MB)\n",
            "\u001b[?25l\r\u001b[K     |▏                               | 10 kB 29.9 MB/s eta 0:00:01\r\u001b[K     |▍                               | 20 kB 26.1 MB/s eta 0:00:01\r\u001b[K     |▋                               | 30 kB 18.7 MB/s eta 0:00:01\r\u001b[K     |▉                               | 40 kB 16.2 MB/s eta 0:00:01\r\u001b[K     |█                               | 51 kB 7.2 MB/s eta 0:00:01\r\u001b[K     |█▏                              | 61 kB 8.4 MB/s eta 0:00:01\r\u001b[K     |█▍                              | 71 kB 7.7 MB/s eta 0:00:01\r\u001b[K     |█▋                              | 81 kB 8.6 MB/s eta 0:00:01\r\u001b[K     |█▊                              | 92 kB 9.3 MB/s eta 0:00:01\r\u001b[K     |██                              | 102 kB 7.2 MB/s eta 0:00:01\r\u001b[K     |██▏                             | 112 kB 7.2 MB/s eta 0:00:01\r\u001b[K     |██▍                             | 122 kB 7.2 MB/s eta 0:00:01\r\u001b[K     |██▌                             | 133 kB 7.2 MB/s eta 0:00:01\r\u001b[K     |██▊                             | 143 kB 7.2 MB/s eta 0:00:01\r\u001b[K     |███                             | 153 kB 7.2 MB/s eta 0:00:01\r\u001b[K     |███▏                            | 163 kB 7.2 MB/s eta 0:00:01\r\u001b[K     |███▎                            | 174 kB 7.2 MB/s eta 0:00:01\r\u001b[K     |███▌                            | 184 kB 7.2 MB/s eta 0:00:01\r\u001b[K     |███▊                            | 194 kB 7.2 MB/s eta 0:00:01\r\u001b[K     |████                            | 204 kB 7.2 MB/s eta 0:00:01\r\u001b[K     |████                            | 215 kB 7.2 MB/s eta 0:00:01\r\u001b[K     |████▎                           | 225 kB 7.2 MB/s eta 0:00:01\r\u001b[K     |████▌                           | 235 kB 7.2 MB/s eta 0:00:01\r\u001b[K     |████▊                           | 245 kB 7.2 MB/s eta 0:00:01\r\u001b[K     |████▉                           | 256 kB 7.2 MB/s eta 0:00:01\r\u001b[K     |█████                           | 266 kB 7.2 MB/s eta 0:00:01\r\u001b[K     |█████▎                          | 276 kB 7.2 MB/s eta 0:00:01\r\u001b[K     |█████▌                          | 286 kB 7.2 MB/s eta 0:00:01\r\u001b[K     |█████▋                          | 296 kB 7.2 MB/s eta 0:00:01\r\u001b[K     |█████▉                          | 307 kB 7.2 MB/s eta 0:00:01\r\u001b[K     |██████                          | 317 kB 7.2 MB/s eta 0:00:01\r\u001b[K     |██████▎                         | 327 kB 7.2 MB/s eta 0:00:01\r\u001b[K     |██████▍                         | 337 kB 7.2 MB/s eta 0:00:01\r\u001b[K     |██████▋                         | 348 kB 7.2 MB/s eta 0:00:01\r\u001b[K     |██████▉                         | 358 kB 7.2 MB/s eta 0:00:01\r\u001b[K     |███████                         | 368 kB 7.2 MB/s eta 0:00:01\r\u001b[K     |███████▏                        | 378 kB 7.2 MB/s eta 0:00:01\r\u001b[K     |███████▍                        | 389 kB 7.2 MB/s eta 0:00:01\r\u001b[K     |███████▋                        | 399 kB 7.2 MB/s eta 0:00:01\r\u001b[K     |███████▉                        | 409 kB 7.2 MB/s eta 0:00:01\r\u001b[K     |████████                        | 419 kB 7.2 MB/s eta 0:00:01\r\u001b[K     |████████▏                       | 430 kB 7.2 MB/s eta 0:00:01\r\u001b[K     |████████▍                       | 440 kB 7.2 MB/s eta 0:00:01\r\u001b[K     |████████▋                       | 450 kB 7.2 MB/s eta 0:00:01\r\u001b[K     |████████▊                       | 460 kB 7.2 MB/s eta 0:00:01\r\u001b[K     |█████████                       | 471 kB 7.2 MB/s eta 0:00:01\r\u001b[K     |█████████▏                      | 481 kB 7.2 MB/s eta 0:00:01\r\u001b[K     |█████████▍                      | 491 kB 7.2 MB/s eta 0:00:01\r\u001b[K     |█████████▌                      | 501 kB 7.2 MB/s eta 0:00:01\r\u001b[K     |█████████▊                      | 512 kB 7.2 MB/s eta 0:00:01\r\u001b[K     |██████████                      | 522 kB 7.2 MB/s eta 0:00:01\r\u001b[K     |██████████▏                     | 532 kB 7.2 MB/s eta 0:00:01\r\u001b[K     |██████████▎                     | 542 kB 7.2 MB/s eta 0:00:01\r\u001b[K     |██████████▌                     | 552 kB 7.2 MB/s eta 0:00:01\r\u001b[K     |██████████▊                     | 563 kB 7.2 MB/s eta 0:00:01\r\u001b[K     |███████████                     | 573 kB 7.2 MB/s eta 0:00:01\r\u001b[K     |███████████                     | 583 kB 7.2 MB/s eta 0:00:01\r\u001b[K     |███████████▎                    | 593 kB 7.2 MB/s eta 0:00:01\r\u001b[K     |███████████▌                    | 604 kB 7.2 MB/s eta 0:00:01\r\u001b[K     |███████████▊                    | 614 kB 7.2 MB/s eta 0:00:01\r\u001b[K     |███████████▉                    | 624 kB 7.2 MB/s eta 0:00:01\r\u001b[K     |████████████                    | 634 kB 7.2 MB/s eta 0:00:01\r\u001b[K     |████████████▎                   | 645 kB 7.2 MB/s eta 0:00:01\r\u001b[K     |████████████▌                   | 655 kB 7.2 MB/s eta 0:00:01\r\u001b[K     |████████████▋                   | 665 kB 7.2 MB/s eta 0:00:01\r\u001b[K     |████████████▉                   | 675 kB 7.2 MB/s eta 0:00:01\r\u001b[K     |█████████████                   | 686 kB 7.2 MB/s eta 0:00:01\r\u001b[K     |█████████████▎                  | 696 kB 7.2 MB/s eta 0:00:01\r\u001b[K     |█████████████▍                  | 706 kB 7.2 MB/s eta 0:00:01\r\u001b[K     |█████████████▋                  | 716 kB 7.2 MB/s eta 0:00:01\r\u001b[K     |█████████████▉                  | 727 kB 7.2 MB/s eta 0:00:01\r\u001b[K     |██████████████                  | 737 kB 7.2 MB/s eta 0:00:01\r\u001b[K     |██████████████▏                 | 747 kB 7.2 MB/s eta 0:00:01\r\u001b[K     |██████████████▍                 | 757 kB 7.2 MB/s eta 0:00:01\r\u001b[K     |██████████████▋                 | 768 kB 7.2 MB/s eta 0:00:01\r\u001b[K     |██████████████▉                 | 778 kB 7.2 MB/s eta 0:00:01\r\u001b[K     |███████████████                 | 788 kB 7.2 MB/s eta 0:00:01\r\u001b[K     |███████████████▏                | 798 kB 7.2 MB/s eta 0:00:01\r\u001b[K     |███████████████▍                | 808 kB 7.2 MB/s eta 0:00:01\r\u001b[K     |███████████████▋                | 819 kB 7.2 MB/s eta 0:00:01\r\u001b[K     |███████████████▊                | 829 kB 7.2 MB/s eta 0:00:01\r\u001b[K     |████████████████                | 839 kB 7.2 MB/s eta 0:00:01\r\u001b[K     |████████████████▏               | 849 kB 7.2 MB/s eta 0:00:01\r\u001b[K     |████████████████▍               | 860 kB 7.2 MB/s eta 0:00:01\r\u001b[K     |████████████████▌               | 870 kB 7.2 MB/s eta 0:00:01\r\u001b[K     |████████████████▊               | 880 kB 7.2 MB/s eta 0:00:01\r\u001b[K     |█████████████████               | 890 kB 7.2 MB/s eta 0:00:01\r\u001b[K     |█████████████████▏              | 901 kB 7.2 MB/s eta 0:00:01\r\u001b[K     |█████████████████▎              | 911 kB 7.2 MB/s eta 0:00:01\r\u001b[K     |█████████████████▌              | 921 kB 7.2 MB/s eta 0:00:01\r\u001b[K     |█████████████████▊              | 931 kB 7.2 MB/s eta 0:00:01\r\u001b[K     |██████████████████              | 942 kB 7.2 MB/s eta 0:00:01\r\u001b[K     |██████████████████              | 952 kB 7.2 MB/s eta 0:00:01\r\u001b[K     |██████████████████▎             | 962 kB 7.2 MB/s eta 0:00:01\r\u001b[K     |██████████████████▌             | 972 kB 7.2 MB/s eta 0:00:01\r\u001b[K     |██████████████████▊             | 983 kB 7.2 MB/s eta 0:00:01\r\u001b[K     |██████████████████▉             | 993 kB 7.2 MB/s eta 0:00:01\r\u001b[K     |███████████████████             | 1.0 MB 7.2 MB/s eta 0:00:01\r\u001b[K     |███████████████████▎            | 1.0 MB 7.2 MB/s eta 0:00:01\r\u001b[K     |███████████████████▌            | 1.0 MB 7.2 MB/s eta 0:00:01\r\u001b[K     |███████████████████▋            | 1.0 MB 7.2 MB/s eta 0:00:01\r\u001b[K     |███████████████████▉            | 1.0 MB 7.2 MB/s eta 0:00:01\r\u001b[K     |████████████████████            | 1.1 MB 7.2 MB/s eta 0:00:01\r\u001b[K     |████████████████████▎           | 1.1 MB 7.2 MB/s eta 0:00:01\r\u001b[K     |████████████████████▍           | 1.1 MB 7.2 MB/s eta 0:00:01\r\u001b[K     |████████████████████▋           | 1.1 MB 7.2 MB/s eta 0:00:01\r\u001b[K     |████████████████████▉           | 1.1 MB 7.2 MB/s eta 0:00:01\r\u001b[K     |█████████████████████           | 1.1 MB 7.2 MB/s eta 0:00:01\r\u001b[K     |█████████████████████▏          | 1.1 MB 7.2 MB/s eta 0:00:01\r\u001b[K     |█████████████████████▍          | 1.1 MB 7.2 MB/s eta 0:00:01\r\u001b[K     |█████████████████████▋          | 1.1 MB 7.2 MB/s eta 0:00:01\r\u001b[K     |█████████████████████▉          | 1.1 MB 7.2 MB/s eta 0:00:01\r\u001b[K     |██████████████████████          | 1.2 MB 7.2 MB/s eta 0:00:01\r\u001b[K     |██████████████████████▏         | 1.2 MB 7.2 MB/s eta 0:00:01\r\u001b[K     |██████████████████████▍         | 1.2 MB 7.2 MB/s eta 0:00:01\r\u001b[K     |██████████████████████▋         | 1.2 MB 7.2 MB/s eta 0:00:01\r\u001b[K     |██████████████████████▊         | 1.2 MB 7.2 MB/s eta 0:00:01\r\u001b[K     |███████████████████████         | 1.2 MB 7.2 MB/s eta 0:00:01\r\u001b[K     |███████████████████████▏        | 1.2 MB 7.2 MB/s eta 0:00:01\r\u001b[K     |███████████████████████▍        | 1.2 MB 7.2 MB/s eta 0:00:01\r\u001b[K     |███████████████████████▋        | 1.2 MB 7.2 MB/s eta 0:00:01\r\u001b[K     |███████████████████████▊        | 1.2 MB 7.2 MB/s eta 0:00:01\r\u001b[K     |████████████████████████        | 1.3 MB 7.2 MB/s eta 0:00:01\r\u001b[K     |████████████████████████▏       | 1.3 MB 7.2 MB/s eta 0:00:01\r\u001b[K     |████████████████████████▍       | 1.3 MB 7.2 MB/s eta 0:00:01\r\u001b[K     |████████████████████████▌       | 1.3 MB 7.2 MB/s eta 0:00:01\r\u001b[K     |████████████████████████▊       | 1.3 MB 7.2 MB/s eta 0:00:01\r\u001b[K     |█████████████████████████       | 1.3 MB 7.2 MB/s eta 0:00:01\r\u001b[K     |█████████████████████████▏      | 1.3 MB 7.2 MB/s eta 0:00:01\r\u001b[K     |█████████████████████████▎      | 1.3 MB 7.2 MB/s eta 0:00:01\r\u001b[K     |█████████████████████████▌      | 1.3 MB 7.2 MB/s eta 0:00:01\r\u001b[K     |█████████████████████████▊      | 1.4 MB 7.2 MB/s eta 0:00:01\r\u001b[K     |██████████████████████████      | 1.4 MB 7.2 MB/s eta 0:00:01\r\u001b[K     |██████████████████████████      | 1.4 MB 7.2 MB/s eta 0:00:01\r\u001b[K     |██████████████████████████▎     | 1.4 MB 7.2 MB/s eta 0:00:01\r\u001b[K     |██████████████████████████▌     | 1.4 MB 7.2 MB/s eta 0:00:01\r\u001b[K     |██████████████████████████▊     | 1.4 MB 7.2 MB/s eta 0:00:01\r\u001b[K     |██████████████████████████▉     | 1.4 MB 7.2 MB/s eta 0:00:01\r\u001b[K     |███████████████████████████     | 1.4 MB 7.2 MB/s eta 0:00:01\r\u001b[K     |███████████████████████████▎    | 1.4 MB 7.2 MB/s eta 0:00:01\r\u001b[K     |███████████████████████████▌    | 1.4 MB 7.2 MB/s eta 0:00:01\r\u001b[K     |███████████████████████████▋    | 1.5 MB 7.2 MB/s eta 0:00:01\r\u001b[K     |███████████████████████████▉    | 1.5 MB 7.2 MB/s eta 0:00:01\r\u001b[K     |████████████████████████████    | 1.5 MB 7.2 MB/s eta 0:00:01\r\u001b[K     |████████████████████████████▎   | 1.5 MB 7.2 MB/s eta 0:00:01\r\u001b[K     |████████████████████████████▍   | 1.5 MB 7.2 MB/s eta 0:00:01\r\u001b[K     |████████████████████████████▋   | 1.5 MB 7.2 MB/s eta 0:00:01\r\u001b[K     |████████████████████████████▉   | 1.5 MB 7.2 MB/s eta 0:00:01\r\u001b[K     |█████████████████████████████   | 1.5 MB 7.2 MB/s eta 0:00:01\r\u001b[K     |█████████████████████████████▏  | 1.5 MB 7.2 MB/s eta 0:00:01\r\u001b[K     |█████████████████████████████▍  | 1.5 MB 7.2 MB/s eta 0:00:01\r\u001b[K     |█████████████████████████████▋  | 1.6 MB 7.2 MB/s eta 0:00:01\r\u001b[K     |█████████████████████████████▉  | 1.6 MB 7.2 MB/s eta 0:00:01\r\u001b[K     |██████████████████████████████  | 1.6 MB 7.2 MB/s eta 0:00:01\r\u001b[K     |██████████████████████████████▏ | 1.6 MB 7.2 MB/s eta 0:00:01\r\u001b[K     |██████████████████████████████▍ | 1.6 MB 7.2 MB/s eta 0:00:01\r\u001b[K     |██████████████████████████████▋ | 1.6 MB 7.2 MB/s eta 0:00:01\r\u001b[K     |██████████████████████████████▊ | 1.6 MB 7.2 MB/s eta 0:00:01\r\u001b[K     |███████████████████████████████ | 1.6 MB 7.2 MB/s eta 0:00:01\r\u001b[K     |███████████████████████████████▏| 1.6 MB 7.2 MB/s eta 0:00:01\r\u001b[K     |███████████████████████████████▍| 1.6 MB 7.2 MB/s eta 0:00:01\r\u001b[K     |███████████████████████████████▌| 1.7 MB 7.2 MB/s eta 0:00:01\r\u001b[K     |███████████████████████████████▊| 1.7 MB 7.2 MB/s eta 0:00:01\r\u001b[K     |████████████████████████████████| 1.7 MB 7.2 MB/s eta 0:00:01\r\u001b[K     |████████████████████████████████| 1.7 MB 7.2 MB/s \n",
            "\u001b[?25hRequirement already satisfied: six>=1.13.0 in /usr/local/lib/python3.7/dist-packages (from wandb) (1.15.0)\n",
            "Requirement already satisfied: PyYAML in /usr/local/lib/python3.7/dist-packages (from wandb) (3.13)\n",
            "Collecting shortuuid>=0.5.0\n",
            "  Downloading shortuuid-1.0.1-py3-none-any.whl (7.5 kB)\n",
            "Requirement already satisfied: protobuf>=3.12.0 in /usr/local/lib/python3.7/dist-packages (from wandb) (3.17.3)\n",
            "Collecting pathtools\n",
            "  Downloading pathtools-0.1.2.tar.gz (11 kB)\n",
            "Collecting subprocess32>=3.5.3\n",
            "  Downloading subprocess32-3.5.4.tar.gz (97 kB)\n",
            "\u001b[K     |████████████████████████████████| 97 kB 7.3 MB/s \n",
            "\u001b[?25hRequirement already satisfied: requests<3,>=2.0.0 in /usr/local/lib/python3.7/dist-packages (from wandb) (2.23.0)\n",
            "Collecting GitPython>=1.0.0\n",
            "  Downloading GitPython-3.1.24-py3-none-any.whl (180 kB)\n",
            "\u001b[K     |████████████████████████████████| 180 kB 63.7 MB/s \n",
            "\u001b[?25hRequirement already satisfied: python-dateutil>=2.6.1 in /usr/local/lib/python3.7/dist-packages (from wandb) (2.8.2)\n",
            "Collecting configparser>=3.8.1\n",
            "  Downloading configparser-5.0.2-py3-none-any.whl (19 kB)\n",
            "Requirement already satisfied: Click!=8.0.0,>=7.0 in /usr/local/lib/python3.7/dist-packages (from wandb) (7.1.2)\n",
            "Requirement already satisfied: psutil>=5.0.0 in /usr/local/lib/python3.7/dist-packages (from wandb) (5.4.8)\n",
            "Collecting docker-pycreds>=0.4.0\n",
            "  Downloading docker_pycreds-0.4.0-py2.py3-none-any.whl (9.0 kB)\n",
            "Collecting yaspin>=1.0.0\n",
            "  Downloading yaspin-2.1.0-py3-none-any.whl (18 kB)\n",
            "Requirement already satisfied: promise<3,>=2.0 in /usr/local/lib/python3.7/dist-packages (from wandb) (2.3)\n",
            "Collecting sentry-sdk>=1.0.0\n",
            "  Downloading sentry_sdk-1.4.3-py2.py3-none-any.whl (139 kB)\n",
            "\u001b[K     |████████████████████████████████| 139 kB 57.8 MB/s \n",
            "\u001b[?25hRequirement already satisfied: typing-extensions>=3.7.4.3 in /usr/local/lib/python3.7/dist-packages (from GitPython>=1.0.0->wandb) (3.7.4.3)\n",
            "Collecting gitdb<5,>=4.0.1\n",
            "  Downloading gitdb-4.0.9-py3-none-any.whl (63 kB)\n",
            "\u001b[K     |████████████████████████████████| 63 kB 1.9 MB/s \n",
            "\u001b[?25hCollecting smmap<6,>=3.0.1\n",
            "  Downloading smmap-5.0.0-py3-none-any.whl (24 kB)\n",
            "Requirement already satisfied: urllib3!=1.25.0,!=1.25.1,<1.26,>=1.21.1 in /usr/local/lib/python3.7/dist-packages (from requests<3,>=2.0.0->wandb) (1.24.3)\n",
            "Requirement already satisfied: idna<3,>=2.5 in /usr/local/lib/python3.7/dist-packages (from requests<3,>=2.0.0->wandb) (2.10)\n",
            "Requirement already satisfied: chardet<4,>=3.0.2 in /usr/local/lib/python3.7/dist-packages (from requests<3,>=2.0.0->wandb) (3.0.4)\n",
            "Requirement already satisfied: certifi>=2017.4.17 in /usr/local/lib/python3.7/dist-packages (from requests<3,>=2.0.0->wandb) (2021.5.30)\n",
            "Requirement already satisfied: termcolor<2.0.0,>=1.1.0 in /usr/local/lib/python3.7/dist-packages (from yaspin>=1.0.0->wandb) (1.1.0)\n",
            "Building wheels for collected packages: subprocess32, pathtools\n",
            "  Building wheel for subprocess32 (setup.py) ... \u001b[?25l\u001b[?25hdone\n",
            "  Created wheel for subprocess32: filename=subprocess32-3.5.4-py3-none-any.whl size=6502 sha256=aa151d896852e6ba183a1b28fc7349f2889a9c5dbdd24d3b6a03e07499df5858\n",
            "  Stored in directory: /root/.cache/pip/wheels/50/ca/fa/8fca8d246e64f19488d07567547ddec8eb084e8c0d7a59226a\n",
            "  Building wheel for pathtools (setup.py) ... \u001b[?25l\u001b[?25hdone\n",
            "  Created wheel for pathtools: filename=pathtools-0.1.2-py3-none-any.whl size=8807 sha256=cb3b0acd85ef8b32d6b65ed03493efbb759166306db513cb65be78eff0a7aec6\n",
            "  Stored in directory: /root/.cache/pip/wheels/3e/31/09/fa59cef12cdcfecc627b3d24273699f390e71828921b2cbba2\n",
            "Successfully built subprocess32 pathtools\n",
            "Installing collected packages: smmap, gitdb, yaspin, subprocess32, shortuuid, sentry-sdk, pathtools, GitPython, docker-pycreds, configparser, wandb\n",
            "Successfully installed GitPython-3.1.24 configparser-5.0.2 docker-pycreds-0.4.0 gitdb-4.0.9 pathtools-0.1.2 sentry-sdk-1.4.3 shortuuid-1.0.1 smmap-5.0.0 subprocess32-3.5.4 wandb-0.12.6 yaspin-2.1.0\n",
            "Collecting transformers\n",
            "  Downloading transformers-4.12.2-py3-none-any.whl (3.1 MB)\n",
            "\u001b[K     |████████████████████████████████| 3.1 MB 7.5 MB/s \n",
            "\u001b[?25hRequirement already satisfied: filelock in /usr/local/lib/python3.7/dist-packages (from transformers) (3.3.0)\n",
            "Requirement already satisfied: regex!=2019.12.17 in /usr/local/lib/python3.7/dist-packages (from transformers) (2019.12.20)\n",
            "Collecting pyyaml>=5.1\n",
            "  Downloading PyYAML-6.0-cp37-cp37m-manylinux_2_5_x86_64.manylinux1_x86_64.manylinux_2_12_x86_64.manylinux2010_x86_64.whl (596 kB)\n",
            "\u001b[K     |████████████████████████████████| 596 kB 57.5 MB/s \n",
            "\u001b[?25hRequirement already satisfied: importlib-metadata in /usr/local/lib/python3.7/dist-packages (from transformers) (4.8.1)\n",
            "Requirement already satisfied: packaging>=20.0 in /usr/local/lib/python3.7/dist-packages (from transformers) (21.0)\n",
            "Collecting tokenizers<0.11,>=0.10.1\n",
            "  Downloading tokenizers-0.10.3-cp37-cp37m-manylinux_2_5_x86_64.manylinux1_x86_64.manylinux_2_12_x86_64.manylinux2010_x86_64.whl (3.3 MB)\n",
            "\u001b[K     |████████████████████████████████| 3.3 MB 48.1 MB/s \n",
            "\u001b[?25hCollecting huggingface-hub>=0.0.17\n",
            "  Downloading huggingface_hub-0.0.19-py3-none-any.whl (56 kB)\n",
            "\u001b[K     |████████████████████████████████| 56 kB 5.5 MB/s \n",
            "\u001b[?25hRequirement already satisfied: numpy>=1.17 in /usr/local/lib/python3.7/dist-packages (from transformers) (1.19.5)\n",
            "Requirement already satisfied: tqdm>=4.27 in /usr/local/lib/python3.7/dist-packages (from transformers) (4.62.3)\n",
            "Collecting sacremoses\n",
            "  Downloading sacremoses-0.0.46-py3-none-any.whl (895 kB)\n",
            "\u001b[K     |████████████████████████████████| 895 kB 87.9 MB/s \n",
            "\u001b[?25hRequirement already satisfied: requests in /usr/local/lib/python3.7/dist-packages (from transformers) (2.23.0)\n",
            "Requirement already satisfied: typing-extensions in /usr/local/lib/python3.7/dist-packages (from huggingface-hub>=0.0.17->transformers) (3.7.4.3)\n",
            "Requirement already satisfied: pyparsing>=2.0.2 in /usr/local/lib/python3.7/dist-packages (from packaging>=20.0->transformers) (2.4.7)\n",
            "Requirement already satisfied: zipp>=0.5 in /usr/local/lib/python3.7/dist-packages (from importlib-metadata->transformers) (3.6.0)\n",
            "Requirement already satisfied: idna<3,>=2.5 in /usr/local/lib/python3.7/dist-packages (from requests->transformers) (2.10)\n",
            "Requirement already satisfied: urllib3!=1.25.0,!=1.25.1,<1.26,>=1.21.1 in /usr/local/lib/python3.7/dist-packages (from requests->transformers) (1.24.3)\n",
            "Requirement already satisfied: certifi>=2017.4.17 in /usr/local/lib/python3.7/dist-packages (from requests->transformers) (2021.5.30)\n",
            "Requirement already satisfied: chardet<4,>=3.0.2 in /usr/local/lib/python3.7/dist-packages (from requests->transformers) (3.0.4)\n",
            "Requirement already satisfied: click in /usr/local/lib/python3.7/dist-packages (from sacremoses->transformers) (7.1.2)\n",
            "Requirement already satisfied: joblib in /usr/local/lib/python3.7/dist-packages (from sacremoses->transformers) (1.0.1)\n",
            "Requirement already satisfied: six in /usr/local/lib/python3.7/dist-packages (from sacremoses->transformers) (1.15.0)\n",
            "Installing collected packages: pyyaml, tokenizers, sacremoses, huggingface-hub, transformers\n",
            "  Attempting uninstall: pyyaml\n",
            "    Found existing installation: PyYAML 3.13\n",
            "    Uninstalling PyYAML-3.13:\n",
            "      Successfully uninstalled PyYAML-3.13\n",
            "Successfully installed huggingface-hub-0.0.19 pyyaml-6.0 sacremoses-0.0.46 tokenizers-0.10.3 transformers-4.12.2\n"
          ]
        }
      ]
    },
    {
      "cell_type": "code",
      "metadata": {
        "execution": {
          "iopub.execute_input": "2021-10-25T09:17:53.405103Z",
          "iopub.status.busy": "2021-10-25T09:17:53.403628Z",
          "iopub.status.idle": "2021-10-25T09:17:59.518311Z",
          "shell.execute_reply": "2021-10-25T09:17:59.517211Z",
          "shell.execute_reply.started": "2021-10-25T08:52:56.774908Z"
        },
        "papermill": {
          "duration": 6.137716,
          "end_time": "2021-10-25T09:17:59.518487",
          "exception": false,
          "start_time": "2021-10-25T09:17:53.380771",
          "status": "completed"
        },
        "tags": [],
        "id": "f4aac8f6"
      },
      "source": [
        "import os\n",
        "import pdb\n",
        "import wandb\n",
        "import argparse\n",
        "from dataclasses import dataclass, field\n",
        "from typing import Optional\n",
        "from collections import defaultdict\n",
        "import pandas as pd\n",
        "\n",
        "import torch\n",
        "from torch.nn.utils.rnn import pad_sequence\n",
        "\n",
        "import numpy as np\n",
        "from tqdm import tqdm, trange\n",
        "\n",
        "from transformers import (\n",
        "    BertForSequenceClassification,\n",
        "    BertTokenizer,\n",
        "    AutoConfig,\n",
        "    AdamW\n",
        ")"
      ],
      "id": "f4aac8f6",
      "execution_count": null,
      "outputs": []
    },
    {
      "cell_type": "markdown",
      "metadata": {
        "id": "UT6S42c8L_kb"
      },
      "source": [
        "# 1. Load data"
      ],
      "id": "UT6S42c8L_kb"
    },
    {
      "cell_type": "code",
      "metadata": {
        "colab": {
          "base_uri": "https://localhost:8080/"
        },
        "id": "qu7o-tW6MCP_",
        "outputId": "bad0aa3b-a230-4516-df22-0c0059d26b79"
      },
      "source": [
        "%cd \"/content/drive/MyDrive/Competitions/Kaggle/Project1/data\"\n",
        "!pwd"
      ],
      "id": "qu7o-tW6MCP_",
      "execution_count": null,
      "outputs": [
        {
          "output_type": "stream",
          "name": "stdout",
          "text": [
            "/content/drive/MyDrive/Competitions/Kaggle/Project1/data\n",
            "/content/drive/MyDrive/Competitions/Kaggle/Project1/data\n"
          ]
        }
      ]
    },
    {
      "cell_type": "code",
      "metadata": {
        "id": "UW2I7ZSDMEM4"
      },
      "source": [
        "# !unzip goormtextclassificationproject.zip\n",
        "# !ls ."
      ],
      "id": "UW2I7ZSDMEM4",
      "execution_count": null,
      "outputs": []
    },
    {
      "cell_type": "code",
      "metadata": {
        "colab": {
          "base_uri": "https://localhost:8080/"
        },
        "id": "YZD9KnBRMEf1",
        "outputId": "a92ed6a0-6ada-4a31-afa3-e9bf5dc93239"
      },
      "source": [
        "%cd .. \n",
        "!pwd"
      ],
      "id": "YZD9KnBRMEf1",
      "execution_count": null,
      "outputs": [
        {
          "output_type": "stream",
          "name": "stdout",
          "text": [
            "/content/drive/MyDrive/Competitions/Kaggle/Project1\n",
            "/content/drive/MyDrive/Competitions/Kaggle/Project1\n"
          ]
        }
      ]
    },
    {
      "cell_type": "code",
      "metadata": {
        "id": "D8DfcMEvMKmx"
      },
      "source": [
        "DATA_PATH = \"/content/drive/MyDrive/Competitions/Kaggle/Project1/data\""
      ],
      "id": "D8DfcMEvMKmx",
      "execution_count": null,
      "outputs": []
    },
    {
      "cell_type": "code",
      "metadata": {
        "id": "5FZQr59WKwq7"
      },
      "source": [
        "def load_data(file_name):\n",
        "  data_strings = []\n",
        "  with open(os.path.join(DATA_PATH, file_name), 'r', encoding='utf-8') as f:\n",
        "    id_file_data = f.read().splitlines()\n",
        "  return id_file_data"
      ],
      "id": "5FZQr59WKwq7",
      "execution_count": null,
      "outputs": []
    },
    {
      "cell_type": "code",
      "metadata": {
        "id": "HojZmsDeMUZn"
      },
      "source": [
        "train_pos_data = load_data(\"sentiment.train.1\")\n",
        "train_neg_data = load_data(\"sentiment.train.0\")\n",
        "\n",
        "dev_pos_data = load_data(\"sentiment.dev.1\")\n",
        "dev_neg_data = load_data(\"sentiment.dev.0\")"
      ],
      "id": "HojZmsDeMUZn",
      "execution_count": null,
      "outputs": []
    },
    {
      "cell_type": "code",
      "metadata": {
        "id": "uzASBA9XNNMq"
      },
      "source": [
        "# make dataframes for EDA\n",
        "train_pos_label = [1] * len(train_pos_data)\n",
        "train_neg_label = [0] * len(train_neg_data)\n",
        "train_df = pd.DataFrame({\"text\": train_pos_data + train_neg_data, \"label\": train_pos_label + train_neg_label})\n",
        "\n",
        "dev_pos_label = [1] * len(dev_pos_data)\n",
        "dev_neg_label = [0] * len(dev_neg_data)\n",
        "dev_df = pd.DataFrame({\"text\": dev_pos_data + dev_neg_data, \"label\": dev_pos_label + dev_neg_label})"
      ],
      "id": "uzASBA9XNNMq",
      "execution_count": null,
      "outputs": []
    },
    {
      "cell_type": "markdown",
      "metadata": {
        "id": "Id4-wRBgaufY"
      },
      "source": [
        "# 2. EDA"
      ],
      "id": "Id4-wRBgaufY"
    },
    {
      "cell_type": "markdown",
      "metadata": {
        "id": "sdoJXMixj5fY"
      },
      "source": [
        "중복제거, sentiment 판단 어려운 문장들 제거 등 (neutral 등)"
      ],
      "id": "sdoJXMixj5fY"
    },
    {
      "cell_type": "code",
      "metadata": {
        "colab": {
          "base_uri": "https://localhost:8080/",
          "height": 394
        },
        "id": "nPz5Y7zKSk7p",
        "outputId": "95dd90d1-7af0-4571-cac6-f8ac0ef0d62c"
      },
      "source": [
        "train_df.describe(include=\"all\")\n",
        "\n",
        "# _num_ -> frequency"
      ],
      "id": "nPz5Y7zKSk7p",
      "execution_count": null,
      "outputs": [
        {
          "output_type": "execute_result",
          "data": {
            "text/html": [
              "<div>\n",
              "<style scoped>\n",
              "    .dataframe tbody tr th:only-of-type {\n",
              "        vertical-align: middle;\n",
              "    }\n",
              "\n",
              "    .dataframe tbody tr th {\n",
              "        vertical-align: top;\n",
              "    }\n",
              "\n",
              "    .dataframe thead th {\n",
              "        text-align: right;\n",
              "    }\n",
              "</style>\n",
              "<table border=\"1\" class=\"dataframe\">\n",
              "  <thead>\n",
              "    <tr style=\"text-align: right;\">\n",
              "      <th></th>\n",
              "      <th>text</th>\n",
              "      <th>label</th>\n",
              "    </tr>\n",
              "  </thead>\n",
              "  <tbody>\n",
              "    <tr>\n",
              "      <th>count</th>\n",
              "      <td>443259</td>\n",
              "      <td>443259.000000</td>\n",
              "    </tr>\n",
              "    <tr>\n",
              "      <th>unique</th>\n",
              "      <td>380570</td>\n",
              "      <td>NaN</td>\n",
              "    </tr>\n",
              "    <tr>\n",
              "      <th>top</th>\n",
              "      <td>_num_ .</td>\n",
              "      <td>NaN</td>\n",
              "    </tr>\n",
              "    <tr>\n",
              "      <th>freq</th>\n",
              "      <td>1608</td>\n",
              "      <td>NaN</td>\n",
              "    </tr>\n",
              "    <tr>\n",
              "      <th>mean</th>\n",
              "      <td>NaN</td>\n",
              "      <td>0.600193</td>\n",
              "    </tr>\n",
              "    <tr>\n",
              "      <th>std</th>\n",
              "      <td>NaN</td>\n",
              "      <td>0.489859</td>\n",
              "    </tr>\n",
              "    <tr>\n",
              "      <th>min</th>\n",
              "      <td>NaN</td>\n",
              "      <td>0.000000</td>\n",
              "    </tr>\n",
              "    <tr>\n",
              "      <th>25%</th>\n",
              "      <td>NaN</td>\n",
              "      <td>0.000000</td>\n",
              "    </tr>\n",
              "    <tr>\n",
              "      <th>50%</th>\n",
              "      <td>NaN</td>\n",
              "      <td>1.000000</td>\n",
              "    </tr>\n",
              "    <tr>\n",
              "      <th>75%</th>\n",
              "      <td>NaN</td>\n",
              "      <td>1.000000</td>\n",
              "    </tr>\n",
              "    <tr>\n",
              "      <th>max</th>\n",
              "      <td>NaN</td>\n",
              "      <td>1.000000</td>\n",
              "    </tr>\n",
              "  </tbody>\n",
              "</table>\n",
              "</div>"
            ],
            "text/plain": [
              "           text          label\n",
              "count    443259  443259.000000\n",
              "unique   380570            NaN\n",
              "top     _num_ .            NaN\n",
              "freq       1608            NaN\n",
              "mean        NaN       0.600193\n",
              "std         NaN       0.489859\n",
              "min         NaN       0.000000\n",
              "25%         NaN       0.000000\n",
              "50%         NaN       1.000000\n",
              "75%         NaN       1.000000\n",
              "max         NaN       1.000000"
            ]
          },
          "metadata": {},
          "execution_count": 12
        }
      ]
    },
    {
      "cell_type": "code",
      "metadata": {
        "colab": {
          "base_uri": "https://localhost:8080/"
        },
        "id": "t82Bdfx7UOvy",
        "outputId": "9847a424-78cf-4a53-e2f7-41f98a09513a"
      },
      "source": [
        "# null 확인\n",
        "train_df.isna().any()"
      ],
      "id": "t82Bdfx7UOvy",
      "execution_count": null,
      "outputs": [
        {
          "output_type": "execute_result",
          "data": {
            "text/plain": [
              "text     False\n",
              "label    False\n",
              "dtype: bool"
            ]
          },
          "metadata": {},
          "execution_count": 13
        }
      ]
    },
    {
      "cell_type": "code",
      "metadata": {
        "colab": {
          "base_uri": "https://localhost:8080/",
          "height": 424
        },
        "id": "bQV44sHaTHzX",
        "outputId": "ac146732-d646-4512-985f-e4331ef17870"
      },
      "source": [
        "# 아예 똑같은 값들 \n",
        "train_df[train_df.duplicated()].sort_values('text')"
      ],
      "id": "bQV44sHaTHzX",
      "execution_count": null,
      "outputs": [
        {
          "output_type": "execute_result",
          "data": {
            "text/html": [
              "<div>\n",
              "<style scoped>\n",
              "    .dataframe tbody tr th:only-of-type {\n",
              "        vertical-align: middle;\n",
              "    }\n",
              "\n",
              "    .dataframe tbody tr th {\n",
              "        vertical-align: top;\n",
              "    }\n",
              "\n",
              "    .dataframe thead th {\n",
              "        text-align: right;\n",
              "    }\n",
              "</style>\n",
              "<table border=\"1\" class=\"dataframe\">\n",
              "  <thead>\n",
              "    <tr style=\"text-align: right;\">\n",
              "      <th></th>\n",
              "      <th>text</th>\n",
              "      <th>label</th>\n",
              "    </tr>\n",
              "  </thead>\n",
              "  <tbody>\n",
              "    <tr>\n",
              "      <th>432062</th>\n",
              "      <td>!</td>\n",
              "      <td>0</td>\n",
              "    </tr>\n",
              "    <tr>\n",
              "      <th>390671</th>\n",
              "      <td>!</td>\n",
              "      <td>0</td>\n",
              "    </tr>\n",
              "    <tr>\n",
              "      <th>354148</th>\n",
              "      <td>!</td>\n",
              "      <td>0</td>\n",
              "    </tr>\n",
              "    <tr>\n",
              "      <th>182817</th>\n",
              "      <td>!</td>\n",
              "      <td>1</td>\n",
              "    </tr>\n",
              "    <tr>\n",
              "      <th>208706</th>\n",
              "      <td>!</td>\n",
              "      <td>1</td>\n",
              "    </tr>\n",
              "    <tr>\n",
              "      <th>...</th>\n",
              "      <td>...</td>\n",
              "      <td>...</td>\n",
              "    </tr>\n",
              "    <tr>\n",
              "      <th>385891</th>\n",
              "      <td>zero stars .</td>\n",
              "      <td>0</td>\n",
              "    </tr>\n",
              "    <tr>\n",
              "      <th>282555</th>\n",
              "      <td>zero stars .</td>\n",
              "      <td>0</td>\n",
              "    </tr>\n",
              "    <tr>\n",
              "      <th>316781</th>\n",
              "      <td>zero stars .</td>\n",
              "      <td>0</td>\n",
              "    </tr>\n",
              "    <tr>\n",
              "      <th>384516</th>\n",
              "      <td>zero stars if i could .</td>\n",
              "      <td>0</td>\n",
              "    </tr>\n",
              "    <tr>\n",
              "      <th>430248</th>\n",
              "      <td>zero stars if i could .</td>\n",
              "      <td>0</td>\n",
              "    </tr>\n",
              "  </tbody>\n",
              "</table>\n",
              "<p>62604 rows × 2 columns</p>\n",
              "</div>"
            ],
            "text/plain": [
              "                           text  label\n",
              "432062                        !      0\n",
              "390671                        !      0\n",
              "354148                        !      0\n",
              "182817                        !      1\n",
              "208706                        !      1\n",
              "...                         ...    ...\n",
              "385891             zero stars .      0\n",
              "282555             zero stars .      0\n",
              "316781             zero stars .      0\n",
              "384516  zero stars if i could .      0\n",
              "430248  zero stars if i could .      0\n",
              "\n",
              "[62604 rows x 2 columns]"
            ]
          },
          "metadata": {},
          "execution_count": 14
        }
      ]
    },
    {
      "cell_type": "code",
      "metadata": {
        "colab": {
          "base_uri": "https://localhost:8080/",
          "height": 424
        },
        "id": "YutDBkXQPqz6",
        "outputId": "1b9e7913-1803-4321-8c0d-1f0ce548b74b"
      },
      "source": [
        "# text 가 똑같은 애들 \n",
        "train_df[train_df.duplicated(['text'], keep=False)].sort_values('text')"
      ],
      "id": "YutDBkXQPqz6",
      "execution_count": null,
      "outputs": [
        {
          "output_type": "execute_result",
          "data": {
            "text/html": [
              "<div>\n",
              "<style scoped>\n",
              "    .dataframe tbody tr th:only-of-type {\n",
              "        vertical-align: middle;\n",
              "    }\n",
              "\n",
              "    .dataframe tbody tr th {\n",
              "        vertical-align: top;\n",
              "    }\n",
              "\n",
              "    .dataframe thead th {\n",
              "        text-align: right;\n",
              "    }\n",
              "</style>\n",
              "<table border=\"1\" class=\"dataframe\">\n",
              "  <thead>\n",
              "    <tr style=\"text-align: right;\">\n",
              "      <th></th>\n",
              "      <th>text</th>\n",
              "      <th>label</th>\n",
              "    </tr>\n",
              "  </thead>\n",
              "  <tbody>\n",
              "    <tr>\n",
              "      <th>72345</th>\n",
              "      <td>!</td>\n",
              "      <td>1</td>\n",
              "    </tr>\n",
              "    <tr>\n",
              "      <th>157927</th>\n",
              "      <td>!</td>\n",
              "      <td>1</td>\n",
              "    </tr>\n",
              "    <tr>\n",
              "      <th>322425</th>\n",
              "      <td>!</td>\n",
              "      <td>0</td>\n",
              "    </tr>\n",
              "    <tr>\n",
              "      <th>197444</th>\n",
              "      <td>!</td>\n",
              "      <td>1</td>\n",
              "    </tr>\n",
              "    <tr>\n",
              "      <th>435916</th>\n",
              "      <td>!</td>\n",
              "      <td>0</td>\n",
              "    </tr>\n",
              "    <tr>\n",
              "      <th>...</th>\n",
              "      <td>...</td>\n",
              "      <td>...</td>\n",
              "    </tr>\n",
              "    <tr>\n",
              "      <th>431665</th>\n",
              "      <td>zero stars .</td>\n",
              "      <td>0</td>\n",
              "    </tr>\n",
              "    <tr>\n",
              "      <th>318041</th>\n",
              "      <td>zero stars .</td>\n",
              "      <td>0</td>\n",
              "    </tr>\n",
              "    <tr>\n",
              "      <th>297580</th>\n",
              "      <td>zero stars if i could .</td>\n",
              "      <td>0</td>\n",
              "    </tr>\n",
              "    <tr>\n",
              "      <th>384516</th>\n",
              "      <td>zero stars if i could .</td>\n",
              "      <td>0</td>\n",
              "    </tr>\n",
              "    <tr>\n",
              "      <th>430248</th>\n",
              "      <td>zero stars if i could .</td>\n",
              "      <td>0</td>\n",
              "    </tr>\n",
              "  </tbody>\n",
              "</table>\n",
              "<p>75643 rows × 2 columns</p>\n",
              "</div>"
            ],
            "text/plain": [
              "                           text  label\n",
              "72345                         !      1\n",
              "157927                        !      1\n",
              "322425                        !      0\n",
              "197444                        !      1\n",
              "435916                        !      0\n",
              "...                         ...    ...\n",
              "431665             zero stars .      0\n",
              "318041             zero stars .      0\n",
              "297580  zero stars if i could .      0\n",
              "384516  zero stars if i could .      0\n",
              "430248  zero stars if i could .      0\n",
              "\n",
              "[75643 rows x 2 columns]"
            ]
          },
          "metadata": {},
          "execution_count": 15
        }
      ]
    },
    {
      "cell_type": "code",
      "metadata": {
        "colab": {
          "base_uri": "https://localhost:8080/"
        },
        "id": "4ctv7xt6UXlg",
        "outputId": "f4928f99-e50e-425d-8e8b-9c220cf637c6"
      },
      "source": [
        "# text 는 같지만 label 은 다른 애들\n",
        "75643 - 62604"
      ],
      "id": "4ctv7xt6UXlg",
      "execution_count": null,
      "outputs": [
        {
          "output_type": "execute_result",
          "data": {
            "text/plain": [
              "13039"
            ]
          },
          "metadata": {},
          "execution_count": 16
        }
      ]
    },
    {
      "cell_type": "code",
      "metadata": {
        "id": "HqUI1PprUyrP"
      },
      "source": [
        "# 중복 제거\n",
        "train_df_unique = train_df.drop_duplicates()"
      ],
      "id": "HqUI1PprUyrP",
      "execution_count": null,
      "outputs": []
    },
    {
      "cell_type": "code",
      "metadata": {
        "colab": {
          "base_uri": "https://localhost:8080/",
          "height": 424
        },
        "id": "qYv5AvG8WbL-",
        "outputId": "6175480c-48c7-4a40-8875-df0e3aec145a"
      },
      "source": [
        "train_df_unique"
      ],
      "id": "qYv5AvG8WbL-",
      "execution_count": null,
      "outputs": [
        {
          "output_type": "execute_result",
          "data": {
            "text/html": [
              "<div>\n",
              "<style scoped>\n",
              "    .dataframe tbody tr th:only-of-type {\n",
              "        vertical-align: middle;\n",
              "    }\n",
              "\n",
              "    .dataframe tbody tr th {\n",
              "        vertical-align: top;\n",
              "    }\n",
              "\n",
              "    .dataframe thead th {\n",
              "        text-align: right;\n",
              "    }\n",
              "</style>\n",
              "<table border=\"1\" class=\"dataframe\">\n",
              "  <thead>\n",
              "    <tr style=\"text-align: right;\">\n",
              "      <th></th>\n",
              "      <th>text</th>\n",
              "      <th>label</th>\n",
              "    </tr>\n",
              "  </thead>\n",
              "  <tbody>\n",
              "    <tr>\n",
              "      <th>0</th>\n",
              "      <td>excellent food .</td>\n",
              "      <td>1</td>\n",
              "    </tr>\n",
              "    <tr>\n",
              "      <th>1</th>\n",
              "      <td>superb customer service .</td>\n",
              "      <td>1</td>\n",
              "    </tr>\n",
              "    <tr>\n",
              "      <th>2</th>\n",
              "      <td>they also have daily specials and ice cream wh...</td>\n",
              "      <td>1</td>\n",
              "    </tr>\n",
              "    <tr>\n",
              "      <th>3</th>\n",
              "      <td>it 's a good toasted hoagie .</td>\n",
              "      <td>1</td>\n",
              "    </tr>\n",
              "    <tr>\n",
              "      <th>4</th>\n",
              "      <td>the staff is friendly .</td>\n",
              "      <td>1</td>\n",
              "    </tr>\n",
              "    <tr>\n",
              "      <th>...</th>\n",
              "      <td>...</td>\n",
              "      <td>...</td>\n",
              "    </tr>\n",
              "    <tr>\n",
              "      <th>443251</th>\n",
              "      <td>they dont refill your drinks , which i always ...</td>\n",
              "      <td>0</td>\n",
              "    </tr>\n",
              "    <tr>\n",
              "      <th>443252</th>\n",
              "      <td>service slow , pizza and wings were horrible .</td>\n",
              "      <td>0</td>\n",
              "    </tr>\n",
              "    <tr>\n",
              "      <th>443253</th>\n",
              "      <td>zero stars , if i could give it .</td>\n",
              "      <td>0</td>\n",
              "    </tr>\n",
              "    <tr>\n",
              "      <th>443255</th>\n",
              "      <td>does n't stop by to see if you need anything .</td>\n",
              "      <td>0</td>\n",
              "    </tr>\n",
              "    <tr>\n",
              "      <th>443258</th>\n",
              "      <td>the worst place i 've ever eaten !</td>\n",
              "      <td>0</td>\n",
              "    </tr>\n",
              "  </tbody>\n",
              "</table>\n",
              "<p>380655 rows × 2 columns</p>\n",
              "</div>"
            ],
            "text/plain": [
              "                                                     text  label\n",
              "0                                        excellent food .      1\n",
              "1                               superb customer service .      1\n",
              "2       they also have daily specials and ice cream wh...      1\n",
              "3                           it 's a good toasted hoagie .      1\n",
              "4                                 the staff is friendly .      1\n",
              "...                                                   ...    ...\n",
              "443251  they dont refill your drinks , which i always ...      0\n",
              "443252     service slow , pizza and wings were horrible .      0\n",
              "443253                  zero stars , if i could give it .      0\n",
              "443255     does n't stop by to see if you need anything .      0\n",
              "443258                 the worst place i 've ever eaten !      0\n",
              "\n",
              "[380655 rows x 2 columns]"
            ]
          },
          "metadata": {},
          "execution_count": 18
        }
      ]
    },
    {
      "cell_type": "code",
      "metadata": {
        "id": "u7OHzaKGVjip"
      },
      "source": [
        "train_text_dup = train_df_unique[train_df_unique.duplicated(['text'], keep=False)].sort_values('text')\n",
        "train_text_dup_indices = train_text_dup.index.tolist()"
      ],
      "id": "u7OHzaKGVjip",
      "execution_count": null,
      "outputs": []
    },
    {
      "cell_type": "code",
      "metadata": {
        "id": "mf2ccbsjVx-J"
      },
      "source": [
        "# text 는 같지만 label이 달랐던 값들 제거\n",
        "new_train_df = train_df_unique.drop(train_text_dup_indices)\n",
        "new_train_df.index = range(len(new_train_df.index))"
      ],
      "id": "mf2ccbsjVx-J",
      "execution_count": null,
      "outputs": []
    },
    {
      "cell_type": "code",
      "metadata": {
        "colab": {
          "base_uri": "https://localhost:8080/",
          "height": 424
        },
        "id": "GuTy67aJWz4F",
        "outputId": "2e09e259-cce2-42f9-ae87-24abda5aba5a"
      },
      "source": [
        "new_train_df"
      ],
      "id": "GuTy67aJWz4F",
      "execution_count": null,
      "outputs": [
        {
          "output_type": "execute_result",
          "data": {
            "text/html": [
              "<div>\n",
              "<style scoped>\n",
              "    .dataframe tbody tr th:only-of-type {\n",
              "        vertical-align: middle;\n",
              "    }\n",
              "\n",
              "    .dataframe tbody tr th {\n",
              "        vertical-align: top;\n",
              "    }\n",
              "\n",
              "    .dataframe thead th {\n",
              "        text-align: right;\n",
              "    }\n",
              "</style>\n",
              "<table border=\"1\" class=\"dataframe\">\n",
              "  <thead>\n",
              "    <tr style=\"text-align: right;\">\n",
              "      <th></th>\n",
              "      <th>text</th>\n",
              "      <th>label</th>\n",
              "    </tr>\n",
              "  </thead>\n",
              "  <tbody>\n",
              "    <tr>\n",
              "      <th>0</th>\n",
              "      <td>excellent food .</td>\n",
              "      <td>1</td>\n",
              "    </tr>\n",
              "    <tr>\n",
              "      <th>1</th>\n",
              "      <td>superb customer service .</td>\n",
              "      <td>1</td>\n",
              "    </tr>\n",
              "    <tr>\n",
              "      <th>2</th>\n",
              "      <td>they also have daily specials and ice cream wh...</td>\n",
              "      <td>1</td>\n",
              "    </tr>\n",
              "    <tr>\n",
              "      <th>3</th>\n",
              "      <td>it 's a good toasted hoagie .</td>\n",
              "      <td>1</td>\n",
              "    </tr>\n",
              "    <tr>\n",
              "      <th>4</th>\n",
              "      <td>the staff is friendly .</td>\n",
              "      <td>1</td>\n",
              "    </tr>\n",
              "    <tr>\n",
              "      <th>...</th>\n",
              "      <td>...</td>\n",
              "      <td>...</td>\n",
              "    </tr>\n",
              "    <tr>\n",
              "      <th>380480</th>\n",
              "      <td>they dont refill your drinks , which i always ...</td>\n",
              "      <td>0</td>\n",
              "    </tr>\n",
              "    <tr>\n",
              "      <th>380481</th>\n",
              "      <td>service slow , pizza and wings were horrible .</td>\n",
              "      <td>0</td>\n",
              "    </tr>\n",
              "    <tr>\n",
              "      <th>380482</th>\n",
              "      <td>zero stars , if i could give it .</td>\n",
              "      <td>0</td>\n",
              "    </tr>\n",
              "    <tr>\n",
              "      <th>380483</th>\n",
              "      <td>does n't stop by to see if you need anything .</td>\n",
              "      <td>0</td>\n",
              "    </tr>\n",
              "    <tr>\n",
              "      <th>380484</th>\n",
              "      <td>the worst place i 've ever eaten !</td>\n",
              "      <td>0</td>\n",
              "    </tr>\n",
              "  </tbody>\n",
              "</table>\n",
              "<p>380485 rows × 2 columns</p>\n",
              "</div>"
            ],
            "text/plain": [
              "                                                     text  label\n",
              "0                                        excellent food .      1\n",
              "1                               superb customer service .      1\n",
              "2       they also have daily specials and ice cream wh...      1\n",
              "3                           it 's a good toasted hoagie .      1\n",
              "4                                 the staff is friendly .      1\n",
              "...                                                   ...    ...\n",
              "380480  they dont refill your drinks , which i always ...      0\n",
              "380481     service slow , pizza and wings were horrible .      0\n",
              "380482                  zero stars , if i could give it .      0\n",
              "380483     does n't stop by to see if you need anything .      0\n",
              "380484                 the worst place i 've ever eaten !      0\n",
              "\n",
              "[380485 rows x 2 columns]"
            ]
          },
          "metadata": {},
          "execution_count": 21
        }
      ]
    },
    {
      "cell_type": "code",
      "metadata": {
        "colab": {
          "base_uri": "https://localhost:8080/",
          "height": 394
        },
        "id": "7YzskUMlVX6S",
        "outputId": "c84d8bf6-6ad2-48b7-ffd6-162d02933e73"
      },
      "source": [
        "new_train_df.describe(include=\"all\")"
      ],
      "id": "7YzskUMlVX6S",
      "execution_count": null,
      "outputs": [
        {
          "output_type": "execute_result",
          "data": {
            "text/html": [
              "<div>\n",
              "<style scoped>\n",
              "    .dataframe tbody tr th:only-of-type {\n",
              "        vertical-align: middle;\n",
              "    }\n",
              "\n",
              "    .dataframe tbody tr th {\n",
              "        vertical-align: top;\n",
              "    }\n",
              "\n",
              "    .dataframe thead th {\n",
              "        text-align: right;\n",
              "    }\n",
              "</style>\n",
              "<table border=\"1\" class=\"dataframe\">\n",
              "  <thead>\n",
              "    <tr style=\"text-align: right;\">\n",
              "      <th></th>\n",
              "      <th>text</th>\n",
              "      <th>label</th>\n",
              "    </tr>\n",
              "  </thead>\n",
              "  <tbody>\n",
              "    <tr>\n",
              "      <th>count</th>\n",
              "      <td>380485</td>\n",
              "      <td>380485.000000</td>\n",
              "    </tr>\n",
              "    <tr>\n",
              "      <th>unique</th>\n",
              "      <td>380485</td>\n",
              "      <td>NaN</td>\n",
              "    </tr>\n",
              "    <tr>\n",
              "      <th>top</th>\n",
              "      <td>i will never go back to this kfc again .</td>\n",
              "      <td>NaN</td>\n",
              "    </tr>\n",
              "    <tr>\n",
              "      <th>freq</th>\n",
              "      <td>1</td>\n",
              "      <td>NaN</td>\n",
              "    </tr>\n",
              "    <tr>\n",
              "      <th>mean</th>\n",
              "      <td>NaN</td>\n",
              "      <td>0.585540</td>\n",
              "    </tr>\n",
              "    <tr>\n",
              "      <th>std</th>\n",
              "      <td>NaN</td>\n",
              "      <td>0.492629</td>\n",
              "    </tr>\n",
              "    <tr>\n",
              "      <th>min</th>\n",
              "      <td>NaN</td>\n",
              "      <td>0.000000</td>\n",
              "    </tr>\n",
              "    <tr>\n",
              "      <th>25%</th>\n",
              "      <td>NaN</td>\n",
              "      <td>0.000000</td>\n",
              "    </tr>\n",
              "    <tr>\n",
              "      <th>50%</th>\n",
              "      <td>NaN</td>\n",
              "      <td>1.000000</td>\n",
              "    </tr>\n",
              "    <tr>\n",
              "      <th>75%</th>\n",
              "      <td>NaN</td>\n",
              "      <td>1.000000</td>\n",
              "    </tr>\n",
              "    <tr>\n",
              "      <th>max</th>\n",
              "      <td>NaN</td>\n",
              "      <td>1.000000</td>\n",
              "    </tr>\n",
              "  </tbody>\n",
              "</table>\n",
              "</div>"
            ],
            "text/plain": [
              "                                            text          label\n",
              "count                                     380485  380485.000000\n",
              "unique                                    380485            NaN\n",
              "top     i will never go back to this kfc again .            NaN\n",
              "freq                                           1            NaN\n",
              "mean                                         NaN       0.585540\n",
              "std                                          NaN       0.492629\n",
              "min                                          NaN       0.000000\n",
              "25%                                          NaN       0.000000\n",
              "50%                                          NaN       1.000000\n",
              "75%                                          NaN       1.000000\n",
              "max                                          NaN       1.000000"
            ]
          },
          "metadata": {},
          "execution_count": 22
        }
      ]
    },
    {
      "cell_type": "code",
      "metadata": {
        "colab": {
          "base_uri": "https://localhost:8080/",
          "height": 281
        },
        "id": "S9IyjNVYXnb-",
        "outputId": "93832471-af98-41ac-8b86-2098d8d68e9a"
      },
      "source": [
        "new_train_df.label.value_counts().plot(kind=\"bar\")"
      ],
      "id": "S9IyjNVYXnb-",
      "execution_count": null,
      "outputs": [
        {
          "output_type": "execute_result",
          "data": {
            "text/plain": [
              "<matplotlib.axes._subplots.AxesSubplot at 0x7f8dba1c2250>"
            ]
          },
          "metadata": {},
          "execution_count": 23
        },
        {
          "output_type": "display_data",
          "data": {
            "image/png": "[encoded data removed]",
            "text/plain": [
              "<Figure size 432x288 with 1 Axes>"
            ]
          },
          "metadata": {
            "needs_background": "light"
          }
        }
      ]
    },
    {
      "cell_type": "code",
      "metadata": {
        "colab": {
          "base_uri": "https://localhost:8080/",
          "height": 394
        },
        "id": "zjyEJ8tPYfau",
        "outputId": "84416678-d56b-4ff6-e935-00bdc0ee022a"
      },
      "source": [
        "dev_df.describe(include=\"all\")"
      ],
      "id": "zjyEJ8tPYfau",
      "execution_count": null,
      "outputs": [
        {
          "output_type": "execute_result",
          "data": {
            "text/html": [
              "<div>\n",
              "<style scoped>\n",
              "    .dataframe tbody tr th:only-of-type {\n",
              "        vertical-align: middle;\n",
              "    }\n",
              "\n",
              "    .dataframe tbody tr th {\n",
              "        vertical-align: top;\n",
              "    }\n",
              "\n",
              "    .dataframe thead th {\n",
              "        text-align: right;\n",
              "    }\n",
              "</style>\n",
              "<table border=\"1\" class=\"dataframe\">\n",
              "  <thead>\n",
              "    <tr style=\"text-align: right;\">\n",
              "      <th></th>\n",
              "      <th>text</th>\n",
              "      <th>label</th>\n",
              "    </tr>\n",
              "  </thead>\n",
              "  <tbody>\n",
              "    <tr>\n",
              "      <th>count</th>\n",
              "      <td>4000</td>\n",
              "      <td>4000.000000</td>\n",
              "    </tr>\n",
              "    <tr>\n",
              "      <th>unique</th>\n",
              "      <td>3855</td>\n",
              "      <td>NaN</td>\n",
              "    </tr>\n",
              "    <tr>\n",
              "      <th>top</th>\n",
              "      <td>_num_ .</td>\n",
              "      <td>NaN</td>\n",
              "    </tr>\n",
              "    <tr>\n",
              "      <th>freq</th>\n",
              "      <td>25</td>\n",
              "      <td>NaN</td>\n",
              "    </tr>\n",
              "    <tr>\n",
              "      <th>mean</th>\n",
              "      <td>NaN</td>\n",
              "      <td>0.500000</td>\n",
              "    </tr>\n",
              "    <tr>\n",
              "      <th>std</th>\n",
              "      <td>NaN</td>\n",
              "      <td>0.500063</td>\n",
              "    </tr>\n",
              "    <tr>\n",
              "      <th>min</th>\n",
              "      <td>NaN</td>\n",
              "      <td>0.000000</td>\n",
              "    </tr>\n",
              "    <tr>\n",
              "      <th>25%</th>\n",
              "      <td>NaN</td>\n",
              "      <td>0.000000</td>\n",
              "    </tr>\n",
              "    <tr>\n",
              "      <th>50%</th>\n",
              "      <td>NaN</td>\n",
              "      <td>0.500000</td>\n",
              "    </tr>\n",
              "    <tr>\n",
              "      <th>75%</th>\n",
              "      <td>NaN</td>\n",
              "      <td>1.000000</td>\n",
              "    </tr>\n",
              "    <tr>\n",
              "      <th>max</th>\n",
              "      <td>NaN</td>\n",
              "      <td>1.000000</td>\n",
              "    </tr>\n",
              "  </tbody>\n",
              "</table>\n",
              "</div>"
            ],
            "text/plain": [
              "           text        label\n",
              "count      4000  4000.000000\n",
              "unique     3855          NaN\n",
              "top     _num_ .          NaN\n",
              "freq         25          NaN\n",
              "mean        NaN     0.500000\n",
              "std         NaN     0.500063\n",
              "min         NaN     0.000000\n",
              "25%         NaN     0.000000\n",
              "50%         NaN     0.500000\n",
              "75%         NaN     1.000000\n",
              "max         NaN     1.000000"
            ]
          },
          "metadata": {},
          "execution_count": 24
        }
      ]
    },
    {
      "cell_type": "code",
      "metadata": {
        "colab": {
          "base_uri": "https://localhost:8080/"
        },
        "id": "_KBBfbpzPCAA",
        "outputId": "fe9dae3a-fe57-416b-9e11-e248af5c558a"
      },
      "source": [
        "dev_df.isna().any()"
      ],
      "id": "_KBBfbpzPCAA",
      "execution_count": null,
      "outputs": [
        {
          "output_type": "execute_result",
          "data": {
            "text/plain": [
              "text     False\n",
              "label    False\n",
              "dtype: bool"
            ]
          },
          "metadata": {},
          "execution_count": 25
        }
      ]
    },
    {
      "cell_type": "code",
      "metadata": {
        "colab": {
          "base_uri": "https://localhost:8080/",
          "height": 424
        },
        "id": "bMacvV9bYmWq",
        "outputId": "730e7718-9eb6-492f-d91f-92b023594f07"
      },
      "source": [
        "# 아예 똑같은 값들 \n",
        "dev_df[dev_df.duplicated()].sort_values('text')"
      ],
      "id": "bMacvV9bYmWq",
      "execution_count": null,
      "outputs": [
        {
          "output_type": "execute_result",
          "data": {
            "text/html": [
              "<div>\n",
              "<style scoped>\n",
              "    .dataframe tbody tr th:only-of-type {\n",
              "        vertical-align: middle;\n",
              "    }\n",
              "\n",
              "    .dataframe tbody tr th {\n",
              "        vertical-align: top;\n",
              "    }\n",
              "\n",
              "    .dataframe thead th {\n",
              "        text-align: right;\n",
              "    }\n",
              "</style>\n",
              "<table border=\"1\" class=\"dataframe\">\n",
              "  <thead>\n",
              "    <tr style=\"text-align: right;\">\n",
              "      <th></th>\n",
              "      <th>text</th>\n",
              "      <th>label</th>\n",
              "    </tr>\n",
              "  </thead>\n",
              "  <tbody>\n",
              "    <tr>\n",
              "      <th>1389</th>\n",
              "      <td>!</td>\n",
              "      <td>1</td>\n",
              "    </tr>\n",
              "    <tr>\n",
              "      <th>2764</th>\n",
              "      <td>Negative</td>\n",
              "      <td>0</td>\n",
              "    </tr>\n",
              "    <tr>\n",
              "      <th>3172</th>\n",
              "      <td>Negative</td>\n",
              "      <td>0</td>\n",
              "    </tr>\n",
              "    <tr>\n",
              "      <th>1557</th>\n",
              "      <td>Neutral</td>\n",
              "      <td>1</td>\n",
              "    </tr>\n",
              "    <tr>\n",
              "      <th>3080</th>\n",
              "      <td>_num_ .</td>\n",
              "      <td>0</td>\n",
              "    </tr>\n",
              "    <tr>\n",
              "      <th>...</th>\n",
              "      <td>...</td>\n",
              "      <td>...</td>\n",
              "    </tr>\n",
              "    <tr>\n",
              "      <th>2298</th>\n",
              "      <td>wo n't be back .</td>\n",
              "      <td>0</td>\n",
              "    </tr>\n",
              "    <tr>\n",
              "      <th>1808</th>\n",
              "      <td>wow !</td>\n",
              "      <td>1</td>\n",
              "    </tr>\n",
              "    <tr>\n",
              "      <th>3797</th>\n",
              "      <td>wrong !</td>\n",
              "      <td>0</td>\n",
              "    </tr>\n",
              "    <tr>\n",
              "      <th>3075</th>\n",
              "      <td>wrong !</td>\n",
              "      <td>0</td>\n",
              "    </tr>\n",
              "    <tr>\n",
              "      <th>1594</th>\n",
              "      <td>yeah !</td>\n",
              "      <td>1</td>\n",
              "    </tr>\n",
              "  </tbody>\n",
              "</table>\n",
              "<p>143 rows × 2 columns</p>\n",
              "</div>"
            ],
            "text/plain": [
              "                  text  label\n",
              "1389                 !      1\n",
              "2764          Negative      0\n",
              "3172          Negative      0\n",
              "1557           Neutral      1\n",
              "3080           _num_ .      0\n",
              "...                ...    ...\n",
              "2298  wo n't be back .      0\n",
              "1808             wow !      1\n",
              "3797           wrong !      0\n",
              "3075           wrong !      0\n",
              "1594            yeah !      1\n",
              "\n",
              "[143 rows x 2 columns]"
            ]
          },
          "metadata": {},
          "execution_count": 26
        }
      ]
    },
    {
      "cell_type": "code",
      "metadata": {
        "colab": {
          "base_uri": "https://localhost:8080/",
          "height": 424
        },
        "id": "b99wz2oKNvYL",
        "outputId": "299db13a-c460-4e55-aaae-31b90bace7f9"
      },
      "source": [
        "# text 가 똑같은 애들 \n",
        "dev_df[dev_df.duplicated(['text'], keep=False)].sort_values('text')"
      ],
      "id": "b99wz2oKNvYL",
      "execution_count": null,
      "outputs": [
        {
          "output_type": "execute_result",
          "data": {
            "text/html": [
              "<div>\n",
              "<style scoped>\n",
              "    .dataframe tbody tr th:only-of-type {\n",
              "        vertical-align: middle;\n",
              "    }\n",
              "\n",
              "    .dataframe tbody tr th {\n",
              "        vertical-align: top;\n",
              "    }\n",
              "\n",
              "    .dataframe thead th {\n",
              "        text-align: right;\n",
              "    }\n",
              "</style>\n",
              "<table border=\"1\" class=\"dataframe\">\n",
              "  <thead>\n",
              "    <tr style=\"text-align: right;\">\n",
              "      <th></th>\n",
              "      <th>text</th>\n",
              "      <th>label</th>\n",
              "    </tr>\n",
              "  </thead>\n",
              "  <tbody>\n",
              "    <tr>\n",
              "      <th>80</th>\n",
              "      <td>!</td>\n",
              "      <td>1</td>\n",
              "    </tr>\n",
              "    <tr>\n",
              "      <th>1389</th>\n",
              "      <td>!</td>\n",
              "      <td>1</td>\n",
              "    </tr>\n",
              "    <tr>\n",
              "      <th>2764</th>\n",
              "      <td>Negative</td>\n",
              "      <td>0</td>\n",
              "    </tr>\n",
              "    <tr>\n",
              "      <th>3172</th>\n",
              "      <td>Negative</td>\n",
              "      <td>0</td>\n",
              "    </tr>\n",
              "    <tr>\n",
              "      <th>2338</th>\n",
              "      <td>Negative</td>\n",
              "      <td>0</td>\n",
              "    </tr>\n",
              "    <tr>\n",
              "      <th>...</th>\n",
              "      <td>...</td>\n",
              "      <td>...</td>\n",
              "    </tr>\n",
              "    <tr>\n",
              "      <th>3797</th>\n",
              "      <td>wrong !</td>\n",
              "      <td>0</td>\n",
              "    </tr>\n",
              "    <tr>\n",
              "      <th>3075</th>\n",
              "      <td>wrong !</td>\n",
              "      <td>0</td>\n",
              "    </tr>\n",
              "    <tr>\n",
              "      <th>2633</th>\n",
              "      <td>wrong !</td>\n",
              "      <td>0</td>\n",
              "    </tr>\n",
              "    <tr>\n",
              "      <th>1594</th>\n",
              "      <td>yeah !</td>\n",
              "      <td>1</td>\n",
              "    </tr>\n",
              "    <tr>\n",
              "      <th>1177</th>\n",
              "      <td>yeah !</td>\n",
              "      <td>1</td>\n",
              "    </tr>\n",
              "  </tbody>\n",
              "</table>\n",
              "<p>223 rows × 2 columns</p>\n",
              "</div>"
            ],
            "text/plain": [
              "          text  label\n",
              "80           !      1\n",
              "1389         !      1\n",
              "2764  Negative      0\n",
              "3172  Negative      0\n",
              "2338  Negative      0\n",
              "...        ...    ...\n",
              "3797   wrong !      0\n",
              "3075   wrong !      0\n",
              "2633   wrong !      0\n",
              "1594    yeah !      1\n",
              "1177    yeah !      1\n",
              "\n",
              "[223 rows x 2 columns]"
            ]
          },
          "metadata": {},
          "execution_count": 27
        }
      ]
    },
    {
      "cell_type": "code",
      "metadata": {
        "colab": {
          "base_uri": "https://localhost:8080/"
        },
        "id": "5D3aqkocYrvj",
        "outputId": "8b50e8c0-aef9-4ee4-8912-5532da921cc5"
      },
      "source": [
        "# text 는 같지만 label 은 다른 애들\n",
        "223 - 143"
      ],
      "id": "5D3aqkocYrvj",
      "execution_count": null,
      "outputs": [
        {
          "output_type": "execute_result",
          "data": {
            "text/plain": [
              "80"
            ]
          },
          "metadata": {},
          "execution_count": 28
        }
      ]
    },
    {
      "cell_type": "code",
      "metadata": {
        "id": "OJ4J75JMYrlS"
      },
      "source": [
        "# 중복 제거\n",
        "dev_df_unique = dev_df.drop_duplicates()"
      ],
      "id": "OJ4J75JMYrlS",
      "execution_count": null,
      "outputs": []
    },
    {
      "cell_type": "code",
      "metadata": {
        "id": "Nj7syAnmYrib"
      },
      "source": [
        "dev_text_dup = dev_df_unique[dev_df_unique.duplicated(['text'], keep=False)].sort_values('text')\n",
        "dev_text_dup_indices = dev_text_dup.index.tolist()"
      ],
      "id": "Nj7syAnmYrib",
      "execution_count": null,
      "outputs": []
    },
    {
      "cell_type": "code",
      "metadata": {
        "id": "0ocld81oZRxY"
      },
      "source": [
        "# text 는 같지만 label이 달랐던 값들 제거\n",
        "new_dev_df = dev_df_unique.drop(dev_text_dup_indices)\n",
        "new_dev_df.index = range(len(new_dev_df.index))"
      ],
      "id": "0ocld81oZRxY",
      "execution_count": null,
      "outputs": []
    },
    {
      "cell_type": "code",
      "metadata": {
        "colab": {
          "base_uri": "https://localhost:8080/",
          "height": 424
        },
        "id": "VUjWQJ4BZm7a",
        "outputId": "ee378a08-3b80-4e19-87e1-82b83737cd58"
      },
      "source": [
        "new_dev_df"
      ],
      "id": "VUjWQJ4BZm7a",
      "execution_count": null,
      "outputs": [
        {
          "output_type": "execute_result",
          "data": {
            "text/html": [
              "<div>\n",
              "<style scoped>\n",
              "    .dataframe tbody tr th:only-of-type {\n",
              "        vertical-align: middle;\n",
              "    }\n",
              "\n",
              "    .dataframe tbody tr th {\n",
              "        vertical-align: top;\n",
              "    }\n",
              "\n",
              "    .dataframe thead th {\n",
              "        text-align: right;\n",
              "    }\n",
              "</style>\n",
              "<table border=\"1\" class=\"dataframe\">\n",
              "  <thead>\n",
              "    <tr style=\"text-align: right;\">\n",
              "      <th></th>\n",
              "      <th>text</th>\n",
              "      <th>label</th>\n",
              "    </tr>\n",
              "  </thead>\n",
              "  <tbody>\n",
              "    <tr>\n",
              "      <th>0</th>\n",
              "      <td>these donuts have the perfect texture and taste .</td>\n",
              "      <td>1</td>\n",
              "    </tr>\n",
              "    <tr>\n",
              "      <th>1</th>\n",
              "      <td>good food for the price .</td>\n",
              "      <td>1</td>\n",
              "    </tr>\n",
              "    <tr>\n",
              "      <th>2</th>\n",
              "      <td>a little dirty on the inside , but wonderful p...</td>\n",
              "      <td>1</td>\n",
              "    </tr>\n",
              "    <tr>\n",
              "      <th>3</th>\n",
              "      <td>i always order it when i go there and it is al...</td>\n",
              "      <td>1</td>\n",
              "    </tr>\n",
              "    <tr>\n",
              "      <th>4</th>\n",
              "      <td>the rest of the food there is good also and no...</td>\n",
              "      <td>1</td>\n",
              "    </tr>\n",
              "    <tr>\n",
              "      <th>...</th>\n",
              "      <td>...</td>\n",
              "      <td>...</td>\n",
              "    </tr>\n",
              "    <tr>\n",
              "      <th>3848</th>\n",
              "      <td>i am sad to see how much this place has gone d...</td>\n",
              "      <td>0</td>\n",
              "    </tr>\n",
              "    <tr>\n",
              "      <th>3849</th>\n",
              "      <td>the food here is n't very good .</td>\n",
              "      <td>0</td>\n",
              "    </tr>\n",
              "    <tr>\n",
              "      <th>3850</th>\n",
              "      <td>it has n't been for quite a few years .</td>\n",
              "      <td>0</td>\n",
              "    </tr>\n",
              "    <tr>\n",
              "      <th>3851</th>\n",
              "      <td>the service the last time i went was just terr...</td>\n",
              "      <td>0</td>\n",
              "    </tr>\n",
              "    <tr>\n",
              "      <th>3852</th>\n",
              "      <td>i guess i need to spell that out more clearly ...</td>\n",
              "      <td>0</td>\n",
              "    </tr>\n",
              "  </tbody>\n",
              "</table>\n",
              "<p>3853 rows × 2 columns</p>\n",
              "</div>"
            ],
            "text/plain": [
              "                                                   text  label\n",
              "0     these donuts have the perfect texture and taste .      1\n",
              "1                             good food for the price .      1\n",
              "2     a little dirty on the inside , but wonderful p...      1\n",
              "3     i always order it when i go there and it is al...      1\n",
              "4     the rest of the food there is good also and no...      1\n",
              "...                                                 ...    ...\n",
              "3848  i am sad to see how much this place has gone d...      0\n",
              "3849                   the food here is n't very good .      0\n",
              "3850            it has n't been for quite a few years .      0\n",
              "3851  the service the last time i went was just terr...      0\n",
              "3852  i guess i need to spell that out more clearly ...      0\n",
              "\n",
              "[3853 rows x 2 columns]"
            ]
          },
          "metadata": {},
          "execution_count": 32
        }
      ]
    },
    {
      "cell_type": "code",
      "metadata": {
        "colab": {
          "base_uri": "https://localhost:8080/",
          "height": 394
        },
        "id": "MHHxhjuMaN-f",
        "outputId": "5f6e89f3-2a38-46bb-8b05-20f74d11871c"
      },
      "source": [
        "new_dev_df.describe(include=\"all\")"
      ],
      "id": "MHHxhjuMaN-f",
      "execution_count": null,
      "outputs": [
        {
          "output_type": "execute_result",
          "data": {
            "text/html": [
              "<div>\n",
              "<style scoped>\n",
              "    .dataframe tbody tr th:only-of-type {\n",
              "        vertical-align: middle;\n",
              "    }\n",
              "\n",
              "    .dataframe tbody tr th {\n",
              "        vertical-align: top;\n",
              "    }\n",
              "\n",
              "    .dataframe thead th {\n",
              "        text-align: right;\n",
              "    }\n",
              "</style>\n",
              "<table border=\"1\" class=\"dataframe\">\n",
              "  <thead>\n",
              "    <tr style=\"text-align: right;\">\n",
              "      <th></th>\n",
              "      <th>text</th>\n",
              "      <th>label</th>\n",
              "    </tr>\n",
              "  </thead>\n",
              "  <tbody>\n",
              "    <tr>\n",
              "      <th>count</th>\n",
              "      <td>3853</td>\n",
              "      <td>3853.000000</td>\n",
              "    </tr>\n",
              "    <tr>\n",
              "      <th>unique</th>\n",
              "      <td>3853</td>\n",
              "      <td>NaN</td>\n",
              "    </tr>\n",
              "    <tr>\n",
              "      <th>top</th>\n",
              "      <td>consistent &amp; efficient .</td>\n",
              "      <td>NaN</td>\n",
              "    </tr>\n",
              "    <tr>\n",
              "      <th>freq</th>\n",
              "      <td>1</td>\n",
              "      <td>NaN</td>\n",
              "    </tr>\n",
              "    <tr>\n",
              "      <th>mean</th>\n",
              "      <td>NaN</td>\n",
              "      <td>0.499092</td>\n",
              "    </tr>\n",
              "    <tr>\n",
              "      <th>std</th>\n",
              "      <td>NaN</td>\n",
              "      <td>0.500064</td>\n",
              "    </tr>\n",
              "    <tr>\n",
              "      <th>min</th>\n",
              "      <td>NaN</td>\n",
              "      <td>0.000000</td>\n",
              "    </tr>\n",
              "    <tr>\n",
              "      <th>25%</th>\n",
              "      <td>NaN</td>\n",
              "      <td>0.000000</td>\n",
              "    </tr>\n",
              "    <tr>\n",
              "      <th>50%</th>\n",
              "      <td>NaN</td>\n",
              "      <td>0.000000</td>\n",
              "    </tr>\n",
              "    <tr>\n",
              "      <th>75%</th>\n",
              "      <td>NaN</td>\n",
              "      <td>1.000000</td>\n",
              "    </tr>\n",
              "    <tr>\n",
              "      <th>max</th>\n",
              "      <td>NaN</td>\n",
              "      <td>1.000000</td>\n",
              "    </tr>\n",
              "  </tbody>\n",
              "</table>\n",
              "</div>"
            ],
            "text/plain": [
              "                            text        label\n",
              "count                       3853  3853.000000\n",
              "unique                      3853          NaN\n",
              "top     consistent & efficient .          NaN\n",
              "freq                           1          NaN\n",
              "mean                         NaN     0.499092\n",
              "std                          NaN     0.500064\n",
              "min                          NaN     0.000000\n",
              "25%                          NaN     0.000000\n",
              "50%                          NaN     0.000000\n",
              "75%                          NaN     1.000000\n",
              "max                          NaN     1.000000"
            ]
          },
          "metadata": {},
          "execution_count": 33
        }
      ]
    },
    {
      "cell_type": "code",
      "metadata": {
        "colab": {
          "base_uri": "https://localhost:8080/",
          "height": 281
        },
        "id": "_vkXI8QxaQ9i",
        "outputId": "2d4df084-dfb3-43bc-df30-99ab8ffb8661"
      },
      "source": [
        "new_dev_df.label.value_counts().plot(kind=\"bar\")"
      ],
      "id": "_vkXI8QxaQ9i",
      "execution_count": null,
      "outputs": [
        {
          "output_type": "execute_result",
          "data": {
            "text/plain": [
              "<matplotlib.axes._subplots.AxesSubplot at 0x7f8db9c6fb10>"
            ]
          },
          "metadata": {},
          "execution_count": 34
        },
        {
          "output_type": "display_data",
          "data": {
            "image/png": "[encoded data removed]",
            "text/plain": [
              "<Figure size 432x288 with 1 Axes>"
            ]
          },
          "metadata": {
            "needs_background": "light"
          }
        }
      ]
    },
    {
      "cell_type": "markdown",
      "metadata": {
        "id": "oaIxAGFcaQ6d"
      },
      "source": [
        "# 3. Pre-process"
      ],
      "id": "oaIxAGFcaQ6d"
    },
    {
      "cell_type": "code",
      "metadata": {
        "id": "8tqClP8RaQ2u"
      },
      "source": [
        "def tokenization(tokenizer, text_list):\n",
        "  data_strings = []\n",
        "  id_file_data = [tokenizer.encode(text.lower()) for text in text_list]\n",
        "  for item in id_file_data:\n",
        "    data_strings.append(' '.join([str(k) for k in item]))\n",
        "  return data_strings"
      ],
      "id": "8tqClP8RaQ2u",
      "execution_count": null,
      "outputs": []
    },
    {
      "cell_type": "code",
      "metadata": {
        "id": "u4Y_EVOJGyN6"
      },
      "source": [
        "from transformers import RobertaTokenizer, RobertaForSequenceClassification"
      ],
      "id": "u4Y_EVOJGyN6",
      "execution_count": null,
      "outputs": []
    },
    {
      "cell_type": "code",
      "metadata": {
        "colab": {
          "base_uri": "https://localhost:8080/",
          "height": 145,
          "referenced_widgets": [
            "a52c60f8c4f5472caed6c173c318039f",
            "d09a10be045d49ca81a4e5b483e30605",
            "0338d214c6314653b53762768982410e",
            "5af090b840ce4e7bb0062c633c25cc6d",
            "8adb7d7e807e415baaa5c90e35162996",
            "14e8be7a78b3471087249fd7d28e6eba",
            "4252763992b94668be6cae7ddba027b1",
            "2143195dcbb146de903302ec5c0c124b",
            "4016e758e8474846921d32dddd291245",
            "f280276f81c34cbb8cb927606f4c1a22",
            "1af5639b50084e1283fbbaebe15ce8f1",
            "0740f871a3504c9b907618176d890994",
            "439a9858cc8446539681507acc71a4b8",
            "6adf47cb973f479184dc2df9f508db56",
            "270a332b4ee147c187ee465e638dfcc3",
            "d73b05dcddc14c66a8d3405881da156d",
            "4b6ff94bff0541dc9a0c146e1399b834",
            "7894b6ab9b2545d0a198f503919eb9a7",
            "0330a56706ff47e8967b666c700afd5c",
            "7728f34dd2cd404185db81e980650765",
            "7fd3cb9eeeb343b9b0bff093ee3d0adb",
            "6450c8cc4fea4079af9334a54dbf3de1",
            "5b667ab2102c47759fabb64fe9898a57",
            "afec4a9d677b4252b85c821e3bbfd6ca",
            "16a1aaa30acb4a0c89523de380db33fa",
            "2b946d959a0e4ed99e3efa5245c1589f",
            "bc923f1380694496a6938c37aebad331",
            "f7a02db32fdb48fe9d718bd00a634a71",
            "c06c91a397834be183636395a60ea6dc",
            "0afa93628e5c45a091e27488d5dd9fd1",
            "68020327dd264eedbdf9ccafc06782e4",
            "eeb0e51c7e204c77933bb2f351c98656",
            "ad8118ab4cdc4b33a98676a31b8f1402",
            "c1b1f6e2aa564a6fb71347bf08babfa8",
            "2b84a573cfe6474183e43c86c942ac8f",
            "30c83ae779f146a881b152f047a650ef",
            "63f39367bbfb42f5889a552a62e5cd53",
            "d04fb9522d2a40ad81808690ab280bb6",
            "8543593db35f41119e8cfe57b142be73",
            "028f706a27ff4e009903921fd987e296",
            "88a7d93635c748dc917319a300c70bf1",
            "eb4d63c97d4345f98892d5d0ad2f8ab9",
            "b3cd1a6457f243d9bdda79158ff19c84",
            "604ddb1bfa144ce08169f50e051a0bdc"
          ]
        },
        "id": "qGk14yZdaQy9",
        "outputId": "df62f179-0d5d-4976-98d8-b59099572c41"
      },
      "source": [
        "# tokenizer = BertTokenizer.from_pretrained('bert-base-uncased')\n",
        "tokenizer = RobertaTokenizer.from_pretrained('roberta-base')"
      ],
      "id": "qGk14yZdaQy9",
      "execution_count": null,
      "outputs": [
        {
          "output_type": "display_data",
          "data": {
            "application/vnd.jupyter.widget-view+json": {
              "model_id": "a52c60f8c4f5472caed6c173c318039f",
              "version_minor": 0,
              "version_major": 2
            },
            "text/plain": [
              "Downloading:   0%|          | 0.00/878k [00:00<?, ?B/s]"
            ]
          },
          "metadata": {}
        },
        {
          "output_type": "display_data",
          "data": {
            "application/vnd.jupyter.widget-view+json": {
              "model_id": "0740f871a3504c9b907618176d890994",
              "version_minor": 0,
              "version_major": 2
            },
            "text/plain": [
              "Downloading:   0%|          | 0.00/446k [00:00<?, ?B/s]"
            ]
          },
          "metadata": {}
        },
        {
          "output_type": "display_data",
          "data": {
            "application/vnd.jupyter.widget-view+json": {
              "model_id": "5b667ab2102c47759fabb64fe9898a57",
              "version_minor": 0,
              "version_major": 2
            },
            "text/plain": [
              "Downloading:   0%|          | 0.00/1.29M [00:00<?, ?B/s]"
            ]
          },
          "metadata": {}
        },
        {
          "output_type": "display_data",
          "data": {
            "application/vnd.jupyter.widget-view+json": {
              "model_id": "c1b1f6e2aa564a6fb71347bf08babfa8",
              "version_minor": 0,
              "version_major": 2
            },
            "text/plain": [
              "Downloading:   0%|          | 0.00/481 [00:00<?, ?B/s]"
            ]
          },
          "metadata": {}
        }
      ]
    },
    {
      "cell_type": "code",
      "metadata": {
        "id": "0Y7fXCOId330"
      },
      "source": [
        "train_pos_list = new_train_df[new_train_df['label'] == 1][\"text\"].tolist()\n",
        "train_neg_list = new_train_df[new_train_df['label'] == 0][\"text\"].tolist()\n",
        "\n",
        "dev_pos_list = new_dev_df[new_dev_df['label'] == 1][\"text\"].tolist()\n",
        "dev_neg_list = new_dev_df[new_dev_df['label'] == 1][\"text\"].tolist()"
      ],
      "id": "0Y7fXCOId330",
      "execution_count": null,
      "outputs": []
    },
    {
      "cell_type": "code",
      "metadata": {
        "id": "ZYpBxW6OkjGV"
      },
      "source": [
        "# sentiment neutral 지워보기\n",
        "\n",
        "\n",
        "\n",
        "\n"
      ],
      "id": "ZYpBxW6OkjGV",
      "execution_count": null,
      "outputs": []
    },
    {
      "cell_type": "code",
      "metadata": {
        "id": "8b7HE85waQvg"
      },
      "source": [
        "train_pos = tokenization(tokenizer, train_pos_list)\n",
        "train_neg = tokenization(tokenizer, train_neg_list)\n",
        "\n",
        "dev_pos = tokenization(tokenizer, dev_pos_list)\n",
        "dev_neg = tokenization(tokenizer, dev_neg_list)"
      ],
      "id": "8b7HE85waQvg",
      "execution_count": null,
      "outputs": []
    },
    {
      "cell_type": "code",
      "metadata": {
        "colab": {
          "base_uri": "https://localhost:8080/"
        },
        "id": "Hi0Md_YNfoE5",
        "outputId": "85e27836-cf0d-4eaa-b513-9e76adb6bf62"
      },
      "source": [
        "train_pos[:10]"
      ],
      "id": "Hi0Md_YNfoE5",
      "execution_count": null,
      "outputs": [
        {
          "output_type": "execute_result",
          "data": {
            "text/plain": [
              "['0 3463 39462 689 479 2',\n",
              " '0 16101 428 2111 544 479 2',\n",
              " '0 10010 67 33 1230 24827 8 2480 6353 61 16 269 205 479 2',\n",
              " '0 405 128 29 10 205 7 14317 9379 1073 324 479 2',\n",
              " '0 627 813 16 5192 479 2',\n",
              " '0 8396 2003 689 479 2',\n",
              " '0 8396 544 479 2',\n",
              " '0 29 18615 9 183 16 17798 8 3739 9 24827 479 2',\n",
              " '0 12338 317 13 4592 50 2003 14967 8 4437 479 2',\n",
              " '0 627 92 1186 1326 2770 479 2']"
            ]
          },
          "metadata": {},
          "execution_count": 42
        }
      ]
    },
    {
      "cell_type": "code",
      "metadata": {
        "execution": {
          "iopub.execute_input": "2021-10-25T09:20:43.951174Z",
          "iopub.status.busy": "2021-10-25T09:20:43.949574Z",
          "iopub.status.idle": "2021-10-25T09:20:43.951781Z",
          "shell.execute_reply": "2021-10-25T09:20:43.952209Z",
          "shell.execute_reply.started": "2021-10-25T08:59:49.481361Z"
        },
        "papermill": {
          "duration": 0.031783,
          "end_time": "2021-10-25T09:20:43.952335",
          "exception": false,
          "start_time": "2021-10-25T09:20:43.920552",
          "status": "completed"
        },
        "tags": [],
        "id": "818ac103"
      },
      "source": [
        "class SentimentDataset(object):\n",
        "    def __init__(self, tokenizer, pos, neg):\n",
        "        self.tokenizer = tokenizer\n",
        "        self.data = []\n",
        "        self.label = []\n",
        "\n",
        "        for pos_sent in pos:\n",
        "            self.data += [self._cast_to_int(pos_sent.strip().split())]\n",
        "            self.label += [[1]]\n",
        "        for neg_sent in neg:\n",
        "            self.data += [self._cast_to_int(neg_sent.strip().split())]\n",
        "            self.label += [[0]]\n",
        "\n",
        "    def _cast_to_int(self, sample):\n",
        "        return [int(word_id) for word_id in sample]\n",
        "\n",
        "    def __len__(self):\n",
        "        return len(self.data)\n",
        "\n",
        "    def __getitem__(self, index):\n",
        "        sample = self.data[index]\n",
        "        return np.array(sample), np.array(self.label[index])"
      ],
      "id": "818ac103",
      "execution_count": null,
      "outputs": []
    },
    {
      "cell_type": "code",
      "metadata": {
        "execution": {
          "iopub.execute_input": "2021-10-25T09:20:44.021954Z",
          "iopub.status.busy": "2021-10-25T09:20:44.021371Z",
          "iopub.status.idle": "2021-10-25T09:20:46.901039Z",
          "shell.execute_reply": "2021-10-25T09:20:46.900515Z",
          "shell.execute_reply.started": "2021-10-25T08:59:53.771805Z"
        },
        "papermill": {
          "duration": 2.927343,
          "end_time": "2021-10-25T09:20:46.901174",
          "exception": false,
          "start_time": "2021-10-25T09:20:43.973831",
          "status": "completed"
        },
        "tags": [],
        "id": "fa570b31"
      },
      "source": [
        "train_dataset = SentimentDataset(tokenizer, train_pos, train_neg)\n",
        "dev_dataset = SentimentDataset(tokenizer, dev_pos, dev_neg)"
      ],
      "id": "fa570b31",
      "execution_count": null,
      "outputs": []
    },
    {
      "cell_type": "code",
      "metadata": {
        "execution": {
          "iopub.execute_input": "2021-10-25T09:20:46.950928Z",
          "iopub.status.busy": "2021-10-25T09:20:46.950093Z",
          "iopub.status.idle": "2021-10-25T09:20:46.956942Z",
          "shell.execute_reply": "2021-10-25T09:20:46.957384Z",
          "shell.execute_reply.started": "2021-10-25T08:59:59.654587Z"
        },
        "papermill": {
          "duration": 0.034779,
          "end_time": "2021-10-25T09:20:46.957543",
          "exception": false,
          "start_time": "2021-10-25T09:20:46.922764",
          "status": "completed"
        },
        "tags": [],
        "colab": {
          "base_uri": "https://localhost:8080/"
        },
        "id": "52df6ba5",
        "outputId": "6e133f23-2afd-4080-d896-089d249a104d"
      },
      "source": [
        "for i, item in enumerate(train_dataset):\n",
        "    print(item)\n",
        "    if i == 10:\n",
        "        break"
      ],
      "id": "52df6ba5",
      "execution_count": null,
      "outputs": [
        {
          "output_type": "stream",
          "name": "stdout",
          "text": [
            "(array([    0,  3463, 39462,   689,   479,     2]), array([1]))\n",
            "(array([    0, 16101,   428,  2111,   544,   479,     2]), array([1]))\n",
            "(array([    0, 10010,    67,    33,  1230, 24827,     8,  2480,  6353,\n",
            "          61,    16,   269,   205,   479,     2]), array([1]))\n",
            "(array([    0,   405,   128,    29,    10,   205,     7, 14317,  9379,\n",
            "        1073,   324,   479,     2]), array([1]))\n",
            "(array([   0,  627,  813,   16, 5192,  479,    2]), array([1]))\n",
            "(array([   0, 8396, 2003,  689,  479,    2]), array([1]))\n",
            "(array([   0, 8396,  544,  479,    2]), array([1]))\n",
            "(array([    0,    29, 18615,     9,   183,    16, 17798,     8,  3739,\n",
            "           9, 24827,   479,     2]), array([1]))\n",
            "(array([    0, 12338,   317,    13,  4592,    50,  2003, 14967,     8,\n",
            "        4437,   479,     2]), array([1]))\n",
            "(array([   0,  627,   92, 1186, 1326, 2770,  479,    2]), array([1]))\n",
            "(array([   0, 9226,  317,   21,  182,  205,  479,    2]), array([1]))\n"
          ]
        }
      ]
    },
    {
      "cell_type": "code",
      "metadata": {
        "execution": {
          "iopub.execute_input": "2021-10-25T09:20:47.004588Z",
          "iopub.status.busy": "2021-10-25T09:20:47.003669Z",
          "iopub.status.idle": "2021-10-25T09:20:47.012935Z",
          "shell.execute_reply": "2021-10-25T09:20:47.012406Z",
          "shell.execute_reply.started": "2021-10-25T09:00:08.417557Z"
        },
        "papermill": {
          "duration": 0.034153,
          "end_time": "2021-10-25T09:20:47.013070",
          "exception": false,
          "start_time": "2021-10-25T09:20:46.978917",
          "status": "completed"
        },
        "tags": [],
        "id": "614891fa"
      },
      "source": [
        "def collate_fn_sentiment(samples):\n",
        "    input_ids, labels = zip(*samples)\n",
        "    max_len = max(len(input_id) for input_id in input_ids)\n",
        "    sorted_indices = np.argsort([len(input_id) for input_id in input_ids])[::-1]\n",
        "\n",
        "    input_ids = pad_sequence([torch.tensor(input_ids[index]) for index in sorted_indices],\n",
        "                             batch_first=True)\n",
        "    attention_mask = torch.tensor(\n",
        "        [[1] * len(input_ids[index]) + [0] * (max_len - len(input_ids[index])) for index in\n",
        "         sorted_indices])\n",
        "    token_type_ids = torch.tensor([[0] * len(input_ids[index]) for index in sorted_indices])\n",
        "    position_ids = torch.tensor([list(range(len(input_ids[index]))) for index in sorted_indices])\n",
        "    labels = torch.tensor(np.stack(labels, axis=0)[sorted_indices])\n",
        "\n",
        "    return input_ids, attention_mask, token_type_ids, position_ids, labels"
      ],
      "id": "614891fa",
      "execution_count": null,
      "outputs": []
    },
    {
      "cell_type": "code",
      "metadata": {
        "execution": {
          "iopub.execute_input": "2021-10-25T09:20:47.064316Z",
          "iopub.status.busy": "2021-10-25T09:20:47.063604Z",
          "iopub.status.idle": "2021-10-25T09:20:47.069381Z",
          "shell.execute_reply": "2021-10-25T09:20:47.069955Z",
          "shell.execute_reply.started": "2021-10-25T09:00:30.277181Z"
        },
        "papermill": {
          "duration": 0.033283,
          "end_time": "2021-10-25T09:20:47.070075",
          "exception": false,
          "start_time": "2021-10-25T09:20:47.036792",
          "status": "completed"
        },
        "tags": [],
        "id": "cd95a08e"
      },
      "source": [
        "train_batch_size=64\n",
        "eval_batch_size=64\n",
        "\n",
        "train_loader = torch.utils.data.DataLoader(train_dataset,\n",
        "                                           batch_size=train_batch_size,\n",
        "                                           shuffle=True, collate_fn=collate_fn_sentiment,\n",
        "                                           pin_memory=True, num_workers=2)\n",
        "dev_loader = torch.utils.data.DataLoader(dev_dataset, batch_size=eval_batch_size,\n",
        "                                         shuffle=False, collate_fn=collate_fn_sentiment,\n",
        "                                         num_workers=2)"
      ],
      "id": "cd95a08e",
      "execution_count": null,
      "outputs": []
    },
    {
      "cell_type": "markdown",
      "metadata": {
        "id": "DlnX4uFCbWMD"
      },
      "source": [
        "# 3. Model"
      ],
      "id": "DlnX4uFCbWMD"
    },
    {
      "cell_type": "code",
      "metadata": {
        "_kg_hide-input": true,
        "_kg_hide-output": true,
        "execution": {
          "iopub.execute_input": "2021-10-25T09:20:47.120229Z",
          "iopub.status.busy": "2021-10-25T09:20:47.119537Z",
          "iopub.status.idle": "2021-10-25T09:21:05.630903Z",
          "shell.execute_reply": "2021-10-25T09:21:05.632624Z"
        },
        "papermill": {
          "duration": 18.540111,
          "end_time": "2021-10-25T09:21:05.632868",
          "exception": false,
          "start_time": "2021-10-25T09:20:47.092757",
          "status": "completed"
        },
        "tags": [],
        "colab": {
          "base_uri": "https://localhost:8080/",
          "height": 1000,
          "referenced_widgets": [
            "ebdbdf4219e24fb1a0857d8d11a476f7",
            "2850bb46fd45461aa68beac7b82f229f",
            "536a8f8742d14c18b0dfa8c905640ef6",
            "633f4969361a49f0bcf22e3ab4ebf4bf",
            "693c2d7e2cd14b5786b6369aa943f7ac",
            "623762c6ec4f451c9aba801ca8fe8c30",
            "c003938b2bc541d1979f843f41ce3c24",
            "5edeb3ecc3af4d00bf6c8bccee39c1c9",
            "8eeca44081ce4156992dcc61d7f27673",
            "597ccad24f5b4d34a59a1c65888d5ae3",
            "0fe63da8c4d9462688b8d41017ec7c35"
          ]
        },
        "id": "83dd39af",
        "outputId": "c0726c1c-4528-4524-9bea-71825493f2bb"
      },
      "source": [
        "# random seed\n",
        "random_seed=42\n",
        "np.random.seed(random_seed)\n",
        "torch.manual_seed(random_seed)\n",
        "\n",
        "device = torch.device('cuda' if torch.cuda.is_available() else 'cpu')\n",
        "\n",
        "# model = BertForSequenceClassification.from_pretrained('bert-base-uncased')\n",
        "model = RobertaForSequenceClassification.from_pretrained('roberta-base')\n",
        "model.to(device)"
      ],
      "id": "83dd39af",
      "execution_count": null,
      "outputs": [
        {
          "output_type": "display_data",
          "data": {
            "application/vnd.jupyter.widget-view+json": {
              "model_id": "ebdbdf4219e24fb1a0857d8d11a476f7",
              "version_minor": 0,
              "version_major": 2
            },
            "text/plain": [
              "Downloading:   0%|          | 0.00/478M [00:00<?, ?B/s]"
            ]
          },
          "metadata": {}
        },
        {
          "output_type": "stream",
          "name": "stderr",
          "text": [
            "Some weights of the model checkpoint at roberta-base were not used when initializing RobertaForSequenceClassification: ['lm_head.layer_norm.bias', 'lm_head.dense.bias', 'lm_head.dense.weight', 'roberta.pooler.dense.weight', 'lm_head.layer_norm.weight', 'roberta.pooler.dense.bias', 'lm_head.bias', 'lm_head.decoder.weight']\n",
            "- This IS expected if you are initializing RobertaForSequenceClassification from the checkpoint of a model trained on another task or with another architecture (e.g. initializing a BertForSequenceClassification model from a BertForPreTraining model).\n",
            "- This IS NOT expected if you are initializing RobertaForSequenceClassification from the checkpoint of a model that you expect to be exactly identical (initializing a BertForSequenceClassification model from a BertForSequenceClassification model).\n",
            "Some weights of RobertaForSequenceClassification were not initialized from the model checkpoint at roberta-base and are newly initialized: ['classifier.dense.bias', 'classifier.out_proj.weight', 'classifier.out_proj.bias', 'classifier.dense.weight']\n",
            "You should probably TRAIN this model on a down-stream task to be able to use it for predictions and inference.\n"
          ]
        },
        {
          "output_type": "execute_result",
          "data": {
            "text/plain": [
              "RobertaForSequenceClassification(\n",
              "  (roberta): RobertaModel(\n",
              "    (embeddings): RobertaEmbeddings(\n",
              "      (word_embeddings): Embedding(50265, 768, padding_idx=1)\n",
              "      (position_embeddings): Embedding(514, 768, padding_idx=1)\n",
              "      (token_type_embeddings): Embedding(1, 768)\n",
              "      (LayerNorm): LayerNorm((768,), eps=1e-05, elementwise_affine=True)\n",
              "      (dropout): Dropout(p=0.1, inplace=False)\n",
              "    )\n",
              "    (encoder): RobertaEncoder(\n",
              "      (layer): ModuleList(\n",
              "        (0): RobertaLayer(\n",
              "          (attention): RobertaAttention(\n",
              "            (self): RobertaSelfAttention(\n",
              "              (query): Linear(in_features=768, out_features=768, bias=True)\n",
              "              (key): Linear(in_features=768, out_features=768, bias=True)\n",
              "              (value): Linear(in_features=768, out_features=768, bias=True)\n",
              "              (dropout): Dropout(p=0.1, inplace=False)\n",
              "            )\n",
              "            (output): RobertaSelfOutput(\n",
              "              (dense): Linear(in_features=768, out_features=768, bias=True)\n",
              "              (LayerNorm): LayerNorm((768,), eps=1e-05, elementwise_affine=True)\n",
              "              (dropout): Dropout(p=0.1, inplace=False)\n",
              "            )\n",
              "          )\n",
              "          (intermediate): RobertaIntermediate(\n",
              "            (dense): Linear(in_features=768, out_features=3072, bias=True)\n",
              "          )\n",
              "          (output): RobertaOutput(\n",
              "            (dense): Linear(in_features=3072, out_features=768, bias=True)\n",
              "            (LayerNorm): LayerNorm((768,), eps=1e-05, elementwise_affine=True)\n",
              "            (dropout): Dropout(p=0.1, inplace=False)\n",
              "          )\n",
              "        )\n",
              "        (1): RobertaLayer(\n",
              "          (attention): RobertaAttention(\n",
              "            (self): RobertaSelfAttention(\n",
              "              (query): Linear(in_features=768, out_features=768, bias=True)\n",
              "              (key): Linear(in_features=768, out_features=768, bias=True)\n",
              "              (value): Linear(in_features=768, out_features=768, bias=True)\n",
              "              (dropout): Dropout(p=0.1, inplace=False)\n",
              "            )\n",
              "            (output): RobertaSelfOutput(\n",
              "              (dense): Linear(in_features=768, out_features=768, bias=True)\n",
              "              (LayerNorm): LayerNorm((768,), eps=1e-05, elementwise_affine=True)\n",
              "              (dropout): Dropout(p=0.1, inplace=False)\n",
              "            )\n",
              "          )\n",
              "          (intermediate): RobertaIntermediate(\n",
              "            (dense): Linear(in_features=768, out_features=3072, bias=True)\n",
              "          )\n",
              "          (output): RobertaOutput(\n",
              "            (dense): Linear(in_features=3072, out_features=768, bias=True)\n",
              "            (LayerNorm): LayerNorm((768,), eps=1e-05, elementwise_affine=True)\n",
              "            (dropout): Dropout(p=0.1, inplace=False)\n",
              "          )\n",
              "        )\n",
              "        (2): RobertaLayer(\n",
              "          (attention): RobertaAttention(\n",
              "            (self): RobertaSelfAttention(\n",
              "              (query): Linear(in_features=768, out_features=768, bias=True)\n",
              "              (key): Linear(in_features=768, out_features=768, bias=True)\n",
              "              (value): Linear(in_features=768, out_features=768, bias=True)\n",
              "              (dropout): Dropout(p=0.1, inplace=False)\n",
              "            )\n",
              "            (output): RobertaSelfOutput(\n",
              "              (dense): Linear(in_features=768, out_features=768, bias=True)\n",
              "              (LayerNorm): LayerNorm((768,), eps=1e-05, elementwise_affine=True)\n",
              "              (dropout): Dropout(p=0.1, inplace=False)\n",
              "            )\n",
              "          )\n",
              "          (intermediate): RobertaIntermediate(\n",
              "            (dense): Linear(in_features=768, out_features=3072, bias=True)\n",
              "          )\n",
              "          (output): RobertaOutput(\n",
              "            (dense): Linear(in_features=3072, out_features=768, bias=True)\n",
              "            (LayerNorm): LayerNorm((768,), eps=1e-05, elementwise_affine=True)\n",
              "            (dropout): Dropout(p=0.1, inplace=False)\n",
              "          )\n",
              "        )\n",
              "        (3): RobertaLayer(\n",
              "          (attention): RobertaAttention(\n",
              "            (self): RobertaSelfAttention(\n",
              "              (query): Linear(in_features=768, out_features=768, bias=True)\n",
              "              (key): Linear(in_features=768, out_features=768, bias=True)\n",
              "              (value): Linear(in_features=768, out_features=768, bias=True)\n",
              "              (dropout): Dropout(p=0.1, inplace=False)\n",
              "            )\n",
              "            (output): RobertaSelfOutput(\n",
              "              (dense): Linear(in_features=768, out_features=768, bias=True)\n",
              "              (LayerNorm): LayerNorm((768,), eps=1e-05, elementwise_affine=True)\n",
              "              (dropout): Dropout(p=0.1, inplace=False)\n",
              "            )\n",
              "          )\n",
              "          (intermediate): RobertaIntermediate(\n",
              "            (dense): Linear(in_features=768, out_features=3072, bias=True)\n",
              "          )\n",
              "          (output): RobertaOutput(\n",
              "            (dense): Linear(in_features=3072, out_features=768, bias=True)\n",
              "            (LayerNorm): LayerNorm((768,), eps=1e-05, elementwise_affine=True)\n",
              "            (dropout): Dropout(p=0.1, inplace=False)\n",
              "          )\n",
              "        )\n",
              "        (4): RobertaLayer(\n",
              "          (attention): RobertaAttention(\n",
              "            (self): RobertaSelfAttention(\n",
              "              (query): Linear(in_features=768, out_features=768, bias=True)\n",
              "              (key): Linear(in_features=768, out_features=768, bias=True)\n",
              "              (value): Linear(in_features=768, out_features=768, bias=True)\n",
              "              (dropout): Dropout(p=0.1, inplace=False)\n",
              "            )\n",
              "            (output): RobertaSelfOutput(\n",
              "              (dense): Linear(in_features=768, out_features=768, bias=True)\n",
              "              (LayerNorm): LayerNorm((768,), eps=1e-05, elementwise_affine=True)\n",
              "              (dropout): Dropout(p=0.1, inplace=False)\n",
              "            )\n",
              "          )\n",
              "          (intermediate): RobertaIntermediate(\n",
              "            (dense): Linear(in_features=768, out_features=3072, bias=True)\n",
              "          )\n",
              "          (output): RobertaOutput(\n",
              "            (dense): Linear(in_features=3072, out_features=768, bias=True)\n",
              "            (LayerNorm): LayerNorm((768,), eps=1e-05, elementwise_affine=True)\n",
              "            (dropout): Dropout(p=0.1, inplace=False)\n",
              "          )\n",
              "        )\n",
              "        (5): RobertaLayer(\n",
              "          (attention): RobertaAttention(\n",
              "            (self): RobertaSelfAttention(\n",
              "              (query): Linear(in_features=768, out_features=768, bias=True)\n",
              "              (key): Linear(in_features=768, out_features=768, bias=True)\n",
              "              (value): Linear(in_features=768, out_features=768, bias=True)\n",
              "              (dropout): Dropout(p=0.1, inplace=False)\n",
              "            )\n",
              "            (output): RobertaSelfOutput(\n",
              "              (dense): Linear(in_features=768, out_features=768, bias=True)\n",
              "              (LayerNorm): LayerNorm((768,), eps=1e-05, elementwise_affine=True)\n",
              "              (dropout): Dropout(p=0.1, inplace=False)\n",
              "            )\n",
              "          )\n",
              "          (intermediate): RobertaIntermediate(\n",
              "            (dense): Linear(in_features=768, out_features=3072, bias=True)\n",
              "          )\n",
              "          (output): RobertaOutput(\n",
              "            (dense): Linear(in_features=3072, out_features=768, bias=True)\n",
              "            (LayerNorm): LayerNorm((768,), eps=1e-05, elementwise_affine=True)\n",
              "            (dropout): Dropout(p=0.1, inplace=False)\n",
              "          )\n",
              "        )\n",
              "        (6): RobertaLayer(\n",
              "          (attention): RobertaAttention(\n",
              "            (self): RobertaSelfAttention(\n",
              "              (query): Linear(in_features=768, out_features=768, bias=True)\n",
              "              (key): Linear(in_features=768, out_features=768, bias=True)\n",
              "              (value): Linear(in_features=768, out_features=768, bias=True)\n",
              "              (dropout): Dropout(p=0.1, inplace=False)\n",
              "            )\n",
              "            (output): RobertaSelfOutput(\n",
              "              (dense): Linear(in_features=768, out_features=768, bias=True)\n",
              "              (LayerNorm): LayerNorm((768,), eps=1e-05, elementwise_affine=True)\n",
              "              (dropout): Dropout(p=0.1, inplace=False)\n",
              "            )\n",
              "          )\n",
              "          (intermediate): RobertaIntermediate(\n",
              "            (dense): Linear(in_features=768, out_features=3072, bias=True)\n",
              "          )\n",
              "          (output): RobertaOutput(\n",
              "            (dense): Linear(in_features=3072, out_features=768, bias=True)\n",
              "            (LayerNorm): LayerNorm((768,), eps=1e-05, elementwise_affine=True)\n",
              "            (dropout): Dropout(p=0.1, inplace=False)\n",
              "          )\n",
              "        )\n",
              "        (7): RobertaLayer(\n",
              "          (attention): RobertaAttention(\n",
              "            (self): RobertaSelfAttention(\n",
              "              (query): Linear(in_features=768, out_features=768, bias=True)\n",
              "              (key): Linear(in_features=768, out_features=768, bias=True)\n",
              "              (value): Linear(in_features=768, out_features=768, bias=True)\n",
              "              (dropout): Dropout(p=0.1, inplace=False)\n",
              "            )\n",
              "            (output): RobertaSelfOutput(\n",
              "              (dense): Linear(in_features=768, out_features=768, bias=True)\n",
              "              (LayerNorm): LayerNorm((768,), eps=1e-05, elementwise_affine=True)\n",
              "              (dropout): Dropout(p=0.1, inplace=False)\n",
              "            )\n",
              "          )\n",
              "          (intermediate): RobertaIntermediate(\n",
              "            (dense): Linear(in_features=768, out_features=3072, bias=True)\n",
              "          )\n",
              "          (output): RobertaOutput(\n",
              "            (dense): Linear(in_features=3072, out_features=768, bias=True)\n",
              "            (LayerNorm): LayerNorm((768,), eps=1e-05, elementwise_affine=True)\n",
              "            (dropout): Dropout(p=0.1, inplace=False)\n",
              "          )\n",
              "        )\n",
              "        (8): RobertaLayer(\n",
              "          (attention): RobertaAttention(\n",
              "            (self): RobertaSelfAttention(\n",
              "              (query): Linear(in_features=768, out_features=768, bias=True)\n",
              "              (key): Linear(in_features=768, out_features=768, bias=True)\n",
              "              (value): Linear(in_features=768, out_features=768, bias=True)\n",
              "              (dropout): Dropout(p=0.1, inplace=False)\n",
              "            )\n",
              "            (output): RobertaSelfOutput(\n",
              "              (dense): Linear(in_features=768, out_features=768, bias=True)\n",
              "              (LayerNorm): LayerNorm((768,), eps=1e-05, elementwise_affine=True)\n",
              "              (dropout): Dropout(p=0.1, inplace=False)\n",
              "            )\n",
              "          )\n",
              "          (intermediate): RobertaIntermediate(\n",
              "            (dense): Linear(in_features=768, out_features=3072, bias=True)\n",
              "          )\n",
              "          (output): RobertaOutput(\n",
              "            (dense): Linear(in_features=3072, out_features=768, bias=True)\n",
              "            (LayerNorm): LayerNorm((768,), eps=1e-05, elementwise_affine=True)\n",
              "            (dropout): Dropout(p=0.1, inplace=False)\n",
              "          )\n",
              "        )\n",
              "        (9): RobertaLayer(\n",
              "          (attention): RobertaAttention(\n",
              "            (self): RobertaSelfAttention(\n",
              "              (query): Linear(in_features=768, out_features=768, bias=True)\n",
              "              (key): Linear(in_features=768, out_features=768, bias=True)\n",
              "              (value): Linear(in_features=768, out_features=768, bias=True)\n",
              "              (dropout): Dropout(p=0.1, inplace=False)\n",
              "            )\n",
              "            (output): RobertaSelfOutput(\n",
              "              (dense): Linear(in_features=768, out_features=768, bias=True)\n",
              "              (LayerNorm): LayerNorm((768,), eps=1e-05, elementwise_affine=True)\n",
              "              (dropout): Dropout(p=0.1, inplace=False)\n",
              "            )\n",
              "          )\n",
              "          (intermediate): RobertaIntermediate(\n",
              "            (dense): Linear(in_features=768, out_features=3072, bias=True)\n",
              "          )\n",
              "          (output): RobertaOutput(\n",
              "            (dense): Linear(in_features=3072, out_features=768, bias=True)\n",
              "            (LayerNorm): LayerNorm((768,), eps=1e-05, elementwise_affine=True)\n",
              "            (dropout): Dropout(p=0.1, inplace=False)\n",
              "          )\n",
              "        )\n",
              "        (10): RobertaLayer(\n",
              "          (attention): RobertaAttention(\n",
              "            (self): RobertaSelfAttention(\n",
              "              (query): Linear(in_features=768, out_features=768, bias=True)\n",
              "              (key): Linear(in_features=768, out_features=768, bias=True)\n",
              "              (value): Linear(in_features=768, out_features=768, bias=True)\n",
              "              (dropout): Dropout(p=0.1, inplace=False)\n",
              "            )\n",
              "            (output): RobertaSelfOutput(\n",
              "              (dense): Linear(in_features=768, out_features=768, bias=True)\n",
              "              (LayerNorm): LayerNorm((768,), eps=1e-05, elementwise_affine=True)\n",
              "              (dropout): Dropout(p=0.1, inplace=False)\n",
              "            )\n",
              "          )\n",
              "          (intermediate): RobertaIntermediate(\n",
              "            (dense): Linear(in_features=768, out_features=3072, bias=True)\n",
              "          )\n",
              "          (output): RobertaOutput(\n",
              "            (dense): Linear(in_features=3072, out_features=768, bias=True)\n",
              "            (LayerNorm): LayerNorm((768,), eps=1e-05, elementwise_affine=True)\n",
              "            (dropout): Dropout(p=0.1, inplace=False)\n",
              "          )\n",
              "        )\n",
              "        (11): RobertaLayer(\n",
              "          (attention): RobertaAttention(\n",
              "            (self): RobertaSelfAttention(\n",
              "              (query): Linear(in_features=768, out_features=768, bias=True)\n",
              "              (key): Linear(in_features=768, out_features=768, bias=True)\n",
              "              (value): Linear(in_features=768, out_features=768, bias=True)\n",
              "              (dropout): Dropout(p=0.1, inplace=False)\n",
              "            )\n",
              "            (output): RobertaSelfOutput(\n",
              "              (dense): Linear(in_features=768, out_features=768, bias=True)\n",
              "              (LayerNorm): LayerNorm((768,), eps=1e-05, elementwise_affine=True)\n",
              "              (dropout): Dropout(p=0.1, inplace=False)\n",
              "            )\n",
              "          )\n",
              "          (intermediate): RobertaIntermediate(\n",
              "            (dense): Linear(in_features=768, out_features=3072, bias=True)\n",
              "          )\n",
              "          (output): RobertaOutput(\n",
              "            (dense): Linear(in_features=3072, out_features=768, bias=True)\n",
              "            (LayerNorm): LayerNorm((768,), eps=1e-05, elementwise_affine=True)\n",
              "            (dropout): Dropout(p=0.1, inplace=False)\n",
              "          )\n",
              "        )\n",
              "      )\n",
              "    )\n",
              "  )\n",
              "  (classifier): RobertaClassificationHead(\n",
              "    (dense): Linear(in_features=768, out_features=768, bias=True)\n",
              "    (dropout): Dropout(p=0.1, inplace=False)\n",
              "    (out_proj): Linear(in_features=768, out_features=2, bias=True)\n",
              "  )\n",
              ")"
            ]
          },
          "metadata": {},
          "execution_count": 48
        }
      ]
    },
    {
      "cell_type": "markdown",
      "metadata": {
        "id": "c5DhERPibcP3"
      },
      "source": [
        "# 4. Train"
      ],
      "id": "c5DhERPibcP3"
    },
    {
      "cell_type": "code",
      "metadata": {
        "execution": {
          "iopub.execute_input": "2021-10-25T09:21:05.729497Z",
          "iopub.status.busy": "2021-10-25T09:21:05.728636Z",
          "iopub.status.idle": "2021-10-25T09:21:05.741442Z",
          "shell.execute_reply": "2021-10-25T09:21:05.742045Z",
          "shell.execute_reply.started": "2021-10-25T09:01:03.715671Z"
        },
        "papermill": {
          "duration": 0.066929,
          "end_time": "2021-10-25T09:21:05.742258",
          "exception": false,
          "start_time": "2021-10-25T09:21:05.675329",
          "status": "completed"
        },
        "tags": [],
        "id": "6b7747b0"
      },
      "source": [
        "model.train()\n",
        "learning_rate = 5e-5\n",
        "optimizer = AdamW(model.parameters(), lr=learning_rate)"
      ],
      "id": "6b7747b0",
      "execution_count": null,
      "outputs": []
    },
    {
      "cell_type": "code",
      "metadata": {
        "execution": {
          "iopub.execute_input": "2021-10-25T09:21:05.832897Z",
          "iopub.status.busy": "2021-10-25T09:21:05.831808Z",
          "iopub.status.idle": "2021-10-25T09:21:05.834571Z",
          "shell.execute_reply": "2021-10-25T09:21:05.833758Z",
          "shell.execute_reply.started": "2021-10-25T09:01:18.891756Z"
        },
        "papermill": {
          "duration": 0.051057,
          "end_time": "2021-10-25T09:21:05.834747",
          "exception": false,
          "start_time": "2021-10-25T09:21:05.783690",
          "status": "completed"
        },
        "tags": [],
        "id": "0c7c01e2"
      },
      "source": [
        "def compute_acc(predictions, target_labels):\n",
        "    return (np.array(predictions) == np.array(target_labels)).mean()"
      ],
      "id": "0c7c01e2",
      "execution_count": null,
      "outputs": []
    },
    {
      "cell_type": "code",
      "metadata": {
        "execution": {
          "iopub.execute_input": "2021-10-25T09:21:05.926642Z",
          "iopub.status.busy": "2021-10-25T09:21:05.925720Z",
          "iopub.status.idle": "2021-10-25T09:39:02.945675Z",
          "shell.execute_reply": "2021-10-25T09:39:02.945028Z",
          "shell.execute_reply.started": "2021-10-25T09:01:31.978870Z"
        },
        "papermill": {
          "duration": 1077.070673,
          "end_time": "2021-10-25T09:39:02.945858",
          "exception": false,
          "start_time": "2021-10-25T09:21:05.875185",
          "status": "completed"
        },
        "tags": [],
        "colab": {
          "base_uri": "https://localhost:8080/"
        },
        "id": "c8bb0922",
        "outputId": "4daa704e-92ef-40bd-e4ee-f3d8dd501034"
      },
      "source": [
        "train_epoch = 1\n",
        "lowest_valid_loss = 9999.\n",
        "for epoch in range(train_epoch):\n",
        "    with tqdm(train_loader, unit=\"batch\") as tepoch:\n",
        "        for iteration, (input_ids, attention_mask, token_type_ids, position_ids, labels) in enumerate(tepoch):\n",
        "            tepoch.set_description(f\"Epoch {epoch}\")\n",
        "            input_ids = input_ids.to(device)\n",
        "            attention_mask = attention_mask.to(device)\n",
        "            token_type_ids = token_type_ids.to(device)\n",
        "            position_ids = position_ids.to(device)\n",
        "            labels = labels.to(device, dtype=torch.long)\n",
        "\n",
        "            optimizer.zero_grad()\n",
        "\n",
        "            output = model(input_ids=input_ids,\n",
        "                           attention_mask=attention_mask,\n",
        "                           token_type_ids=token_type_ids,\n",
        "                           position_ids=position_ids,\n",
        "                           labels=labels)\n",
        "\n",
        "            loss = output.loss\n",
        "            loss.backward()\n",
        "\n",
        "            optimizer.step()\n",
        "\n",
        "            tepoch.set_postfix(loss=loss.item())\n",
        "            if iteration != 0 and iteration % int(len(train_loader) / 5) == 0:\n",
        "                # Evaluate the model five times per epoch\n",
        "                with torch.no_grad():\n",
        "                    model.eval()\n",
        "                    valid_losses = []\n",
        "                    predictions = []\n",
        "                    target_labels = []\n",
        "                    for input_ids, attention_mask, token_type_ids, position_ids, labels in tqdm(dev_loader,\n",
        "                                                                                                desc='Eval',\n",
        "                                                                                                position=1,\n",
        "                                                                                                leave=None):\n",
        "                        input_ids = input_ids.to(device)\n",
        "                        attention_mask = attention_mask.to(device)\n",
        "                        token_type_ids = token_type_ids.to(device)\n",
        "                        position_ids = position_ids.to(device)\n",
        "                        labels = labels.to(device, dtype=torch.long)\n",
        "\n",
        "                        output = model(input_ids=input_ids,\n",
        "                                       attention_mask=attention_mask,\n",
        "                                       token_type_ids=token_type_ids,\n",
        "                                       position_ids=position_ids,\n",
        "                                       labels=labels)\n",
        "\n",
        "                        logits = output.logits\n",
        "                        loss = output.loss\n",
        "                        valid_losses.append(loss.item())\n",
        "\n",
        "                        batch_predictions = [0 if example[0] > example[1] else 1 for example in logits]\n",
        "                        batch_labels = [int(example) for example in labels]\n",
        "\n",
        "                        predictions += batch_predictions\n",
        "                        target_labels += batch_labels\n",
        "\n",
        "                acc = compute_acc(predictions, target_labels)\n",
        "                valid_loss = sum(valid_losses) / len(valid_losses)\n",
        "                if lowest_valid_loss > valid_loss:\n",
        "                    print('Acc for model which have lower valid loss: ', acc)\n",
        "                    # torch.save(model.state_dict(), \"pytorch_model.bin\")\n",
        "                    # json 형식으로 config 저장"
      ],
      "id": "c8bb0922",
      "execution_count": null,
      "outputs": [
        {
          "output_type": "stream",
          "name": "stderr",
          "text": [
            "Epoch 0:  20%|█▉        | 1189/5946 [03:00<11:53,  6.67batch/s, loss=0.0129]\n",
            "Eval:   0%|          | 0/61 [00:00<?, ?it/s]\u001b[A\n",
            "Eval:   2%|▏         | 1/61 [00:00<00:08,  6.67it/s]\u001b[A\n",
            "Eval:   7%|▋         | 4/61 [00:00<00:03, 15.03it/s]\u001b[A\n",
            "Eval:  11%|█▏        | 7/61 [00:00<00:03, 17.91it/s]\u001b[A\n",
            "Eval:  16%|█▋        | 10/61 [00:00<00:02, 19.39it/s]\u001b[A\n",
            "Eval:  21%|██▏       | 13/61 [00:00<00:02, 19.92it/s]\u001b[A\n",
            "Eval:  25%|██▍       | 15/61 [00:00<00:02, 19.76it/s]\u001b[A\n",
            "Eval:  30%|██▉       | 18/61 [00:00<00:02, 20.27it/s]\u001b[A\n",
            "Eval:  34%|███▍      | 21/61 [00:01<00:01, 20.24it/s]\u001b[A\n",
            "Eval:  39%|███▉      | 24/61 [00:01<00:01, 20.52it/s]\u001b[A\n",
            "Eval:  44%|████▍     | 27/61 [00:01<00:01, 21.00it/s]\u001b[A\n",
            "Eval:  49%|████▉     | 30/61 [00:01<00:01, 21.12it/s]\u001b[A\n",
            "Eval:  54%|█████▍    | 33/61 [00:01<00:01, 21.71it/s]\u001b[A\n",
            "Eval:  59%|█████▉    | 36/61 [00:01<00:01, 21.46it/s]\u001b[A\n",
            "Eval:  64%|██████▍   | 39/61 [00:01<00:01, 21.29it/s]\u001b[A\n",
            "Eval:  69%|██████▉   | 42/61 [00:02<00:00, 21.76it/s]\u001b[A\n",
            "Eval:  74%|███████▍  | 45/61 [00:02<00:00, 21.31it/s]\u001b[A\n",
            "Eval:  79%|███████▊  | 48/61 [00:02<00:00, 21.33it/s]\u001b[A\n",
            "Eval:  84%|████████▎ | 51/61 [00:02<00:00, 21.07it/s]\u001b[A\n",
            "Eval:  89%|████████▊ | 54/61 [00:02<00:00, 21.07it/s]\u001b[A\n",
            "Eval:  93%|█████████▎| 57/61 [00:02<00:00, 21.20it/s]\u001b[A\n",
            "Eval:  98%|█████████▊| 60/61 [00:02<00:00, 21.57it/s]\u001b[A\n",
            "Epoch 0:  20%|██        | 1191/5946 [03:03<1:01:55,  1.28batch/s, loss=0.231]"
          ]
        },
        {
          "output_type": "stream",
          "name": "stdout",
          "text": [
            "Acc for model which have lower valid loss:  0.5\n"
          ]
        },
        {
          "output_type": "stream",
          "name": "stderr",
          "text": [
            "Epoch 0:  40%|███▉      | 2378/5946 [06:02<09:02,  6.58batch/s, loss=0.0296]\n",
            "Eval:   0%|          | 0/61 [00:00<?, ?it/s]\u001b[A\n",
            "Eval:   2%|▏         | 1/61 [00:00<00:07,  7.73it/s]\u001b[A\n",
            "Eval:   7%|▋         | 4/61 [00:00<00:03, 16.23it/s]\u001b[A\n",
            "Eval:  11%|█▏        | 7/61 [00:00<00:02, 18.55it/s]\u001b[A\n",
            "Eval:  15%|█▍        | 9/61 [00:00<00:02, 18.95it/s]\u001b[A\n",
            "Eval:  20%|█▉        | 12/61 [00:00<00:02, 20.01it/s]\u001b[A\n",
            "Eval:  23%|██▎       | 14/61 [00:00<00:02, 19.97it/s]\u001b[A\n",
            "Eval:  26%|██▌       | 16/61 [00:00<00:02, 19.90it/s]\u001b[A\n",
            "Eval:  31%|███       | 19/61 [00:00<00:02, 20.33it/s]\u001b[A\n",
            "Eval:  36%|███▌      | 22/61 [00:01<00:01, 20.55it/s]\u001b[A\n",
            "Eval:  41%|████      | 25/61 [00:01<00:01, 20.39it/s]\u001b[A\n",
            "Eval:  46%|████▌     | 28/61 [00:01<00:01, 21.27it/s]\u001b[A\n",
            "Eval:  51%|█████     | 31/61 [00:01<00:01, 21.31it/s]\u001b[A\n",
            "Eval:  56%|█████▌    | 34/61 [00:01<00:01, 21.62it/s]\u001b[A\n",
            "Eval:  61%|██████    | 37/61 [00:01<00:01, 21.55it/s]\u001b[A\n",
            "Eval:  66%|██████▌   | 40/61 [00:01<00:00, 21.36it/s]\u001b[A\n",
            "Eval:  70%|███████   | 43/61 [00:02<00:00, 21.50it/s]\u001b[A\n",
            "Eval:  75%|███████▌  | 46/61 [00:02<00:00, 21.08it/s]\u001b[A\n",
            "Eval:  80%|████████  | 49/61 [00:02<00:00, 21.24it/s]\u001b[A\n",
            "Eval:  85%|████████▌ | 52/61 [00:02<00:00, 21.31it/s]\u001b[A\n",
            "Eval:  90%|█████████ | 55/61 [00:02<00:00, 20.75it/s]\u001b[A\n",
            "Eval:  95%|█████████▌| 58/61 [00:02<00:00, 21.42it/s]\u001b[A\n",
            "Eval: 100%|██████████| 61/61 [00:02<00:00, 23.28it/s]\u001b[A\n",
            "Epoch 0:  40%|████      | 2380/5946 [06:05<46:20,  1.28batch/s, loss=0.158]"
          ]
        },
        {
          "output_type": "stream",
          "name": "stdout",
          "text": [
            "Acc for model which have lower valid loss:  0.499479979199168\n"
          ]
        },
        {
          "output_type": "stream",
          "name": "stderr",
          "text": [
            "Epoch 0:  60%|█████▉    | 3567/5946 [09:04<05:55,  6.68batch/s, loss=0.13]  \n",
            "Eval:   0%|          | 0/61 [00:00<?, ?it/s]\u001b[A\n",
            "Eval:   2%|▏         | 1/61 [00:00<00:07,  7.78it/s]\u001b[A\n",
            "Eval:   7%|▋         | 4/61 [00:00<00:03, 16.66it/s]\u001b[A\n",
            "Eval:  11%|█▏        | 7/61 [00:00<00:02, 18.71it/s]\u001b[A\n",
            "Eval:  15%|█▍        | 9/61 [00:00<00:02, 19.05it/s]\u001b[A\n",
            "Eval:  20%|█▉        | 12/61 [00:00<00:02, 20.14it/s]\u001b[A\n",
            "Eval:  25%|██▍       | 15/61 [00:00<00:02, 20.02it/s]\u001b[A\n",
            "Eval:  30%|██▉       | 18/61 [00:00<00:02, 20.43it/s]\u001b[A\n",
            "Eval:  34%|███▍      | 21/61 [00:01<00:01, 20.49it/s]\u001b[A\n",
            "Eval:  39%|███▉      | 24/61 [00:01<00:01, 20.71it/s]\u001b[A\n",
            "Eval:  44%|████▍     | 27/61 [00:01<00:01, 21.20it/s]\u001b[A\n",
            "Eval:  49%|████▉     | 30/61 [00:01<00:01, 21.35it/s]\u001b[A\n",
            "Eval:  54%|█████▍    | 33/61 [00:01<00:01, 21.97it/s]\u001b[A\n",
            "Eval:  59%|█████▉    | 36/61 [00:01<00:01, 21.88it/s]\u001b[A\n",
            "Eval:  64%|██████▍   | 39/61 [00:01<00:01, 21.50it/s]\u001b[A\n",
            "Eval:  69%|██████▉   | 42/61 [00:02<00:00, 22.10it/s]\u001b[A\n",
            "Eval:  74%|███████▍  | 45/61 [00:02<00:00, 21.49it/s]\u001b[A\n",
            "Eval:  79%|███████▊  | 48/61 [00:02<00:00, 21.54it/s]\u001b[A\n",
            "Eval:  84%|████████▎ | 51/61 [00:02<00:00, 21.25it/s]\u001b[A\n",
            "Eval:  89%|████████▊ | 54/61 [00:02<00:00, 21.24it/s]\u001b[A\n",
            "Eval:  93%|█████████▎| 57/61 [00:02<00:00, 21.58it/s]\u001b[A\n",
            "Eval:  98%|█████████▊| 60/61 [00:02<00:00, 21.83it/s]\u001b[A\n",
            "Epoch 0:  60%|██████    | 3569/5946 [09:07<30:34,  1.30batch/s, loss=0.116]"
          ]
        },
        {
          "output_type": "stream",
          "name": "stdout",
          "text": [
            "Acc for model which have lower valid loss:  0.5\n"
          ]
        },
        {
          "output_type": "stream",
          "name": "stderr",
          "text": [
            "Epoch 0:  80%|███████▉  | 4756/5946 [12:05<03:04,  6.44batch/s, loss=0.0201]\n",
            "Eval:   0%|          | 0/61 [00:00<?, ?it/s]\u001b[A\n",
            "Eval:   2%|▏         | 1/61 [00:00<00:08,  7.28it/s]\u001b[A\n",
            "Eval:   7%|▋         | 4/61 [00:00<00:03, 16.18it/s]\u001b[A\n",
            "Eval:  11%|█▏        | 7/61 [00:00<00:02, 18.62it/s]\u001b[A\n",
            "Eval:  16%|█▋        | 10/61 [00:00<00:02, 19.75it/s]\u001b[A\n",
            "Eval:  21%|██▏       | 13/61 [00:00<00:02, 20.33it/s]\u001b[A\n",
            "Eval:  26%|██▌       | 16/61 [00:00<00:02, 20.42it/s]\u001b[A\n",
            "Eval:  31%|███       | 19/61 [00:00<00:02, 20.83it/s]\u001b[A\n",
            "Eval:  36%|███▌      | 22/61 [00:01<00:01, 20.96it/s]\u001b[A\n",
            "Eval:  41%|████      | 25/61 [00:01<00:01, 20.38it/s]\u001b[A\n",
            "Eval:  46%|████▌     | 28/61 [00:01<00:01, 21.24it/s]\u001b[A\n",
            "Eval:  51%|█████     | 31/61 [00:01<00:01, 21.31it/s]\u001b[A\n",
            "Eval:  56%|█████▌    | 34/61 [00:01<00:01, 21.55it/s]\u001b[A\n",
            "Eval:  61%|██████    | 37/61 [00:01<00:01, 21.37it/s]\u001b[A\n",
            "Eval:  66%|██████▌   | 40/61 [00:01<00:00, 21.35it/s]\u001b[A\n",
            "Eval:  70%|███████   | 43/61 [00:02<00:00, 21.63it/s]\u001b[A\n",
            "Eval:  75%|███████▌  | 46/61 [00:02<00:00, 21.33it/s]\u001b[A\n",
            "Eval:  80%|████████  | 49/61 [00:02<00:00, 21.39it/s]\u001b[A\n",
            "Eval:  85%|████████▌ | 52/61 [00:02<00:00, 21.43it/s]\u001b[A\n",
            "Eval:  90%|█████████ | 55/61 [00:02<00:00, 21.08it/s]\u001b[A\n",
            "Eval:  95%|█████████▌| 58/61 [00:02<00:00, 21.73it/s]\u001b[A\n",
            "Eval: 100%|██████████| 61/61 [00:02<00:00, 23.44it/s]\u001b[A\n",
            "Epoch 0:  80%|████████  | 4758/5946 [12:08<15:22,  1.29batch/s, loss=0.175]"
          ]
        },
        {
          "output_type": "stream",
          "name": "stdout",
          "text": [
            "Acc for model which have lower valid loss:  0.5\n"
          ]
        },
        {
          "output_type": "stream",
          "name": "stderr",
          "text": [
            "Epoch 0: 100%|█████████▉| 5945/5946 [15:07<00:00,  6.50batch/s, loss=0.00238]\n",
            "Eval:   0%|          | 0/61 [00:00<?, ?it/s]\u001b[A\n",
            "Eval:   2%|▏         | 1/61 [00:00<00:07,  7.65it/s]\u001b[A\n",
            "Eval:   7%|▋         | 4/61 [00:00<00:03, 16.09it/s]\u001b[A\n",
            "Eval:  11%|█▏        | 7/61 [00:00<00:02, 18.56it/s]\u001b[A\n",
            "Eval:  15%|█▍        | 9/61 [00:00<00:02, 18.89it/s]\u001b[A\n",
            "Eval:  20%|█▉        | 12/61 [00:00<00:02, 20.19it/s]\u001b[A\n",
            "Eval:  25%|██▍       | 15/61 [00:00<00:02, 20.16it/s]\u001b[A\n",
            "Eval:  30%|██▉       | 18/61 [00:00<00:02, 20.63it/s]\u001b[A\n",
            "Eval:  34%|███▍      | 21/61 [00:01<00:01, 20.60it/s]\u001b[A\n",
            "Eval:  39%|███▉      | 24/61 [00:01<00:01, 20.80it/s]\u001b[A\n",
            "Eval:  44%|████▍     | 27/61 [00:01<00:01, 21.20it/s]\u001b[A\n",
            "Eval:  49%|████▉     | 30/61 [00:01<00:01, 21.25it/s]\u001b[A\n",
            "Eval:  54%|█████▍    | 33/61 [00:01<00:01, 21.82it/s]\u001b[A\n",
            "Eval:  59%|█████▉    | 36/61 [00:01<00:01, 21.60it/s]\u001b[A\n",
            "Eval:  64%|██████▍   | 39/61 [00:01<00:01, 21.17it/s]\u001b[A\n",
            "Eval:  69%|██████▉   | 42/61 [00:02<00:00, 21.76it/s]\u001b[A\n",
            "Eval:  74%|███████▍  | 45/61 [00:02<00:00, 21.10it/s]\u001b[A\n",
            "Eval:  79%|███████▊  | 48/61 [00:02<00:00, 21.23it/s]\u001b[A\n",
            "Eval:  84%|████████▎ | 51/61 [00:02<00:00, 21.01it/s]\u001b[A\n",
            "Eval:  89%|████████▊ | 54/61 [00:02<00:00, 21.10it/s]\u001b[A\n",
            "Eval:  93%|█████████▎| 57/61 [00:02<00:00, 21.31it/s]\u001b[A\n",
            "Eval:  98%|█████████▊| 60/61 [00:02<00:00, 21.50it/s]\u001b[A\n",
            "Epoch 0: 100%|██████████| 5946/5946 [15:10<00:00,  6.53batch/s, loss=0.00238]"
          ]
        },
        {
          "output_type": "stream",
          "name": "stdout",
          "text": [
            "Acc for model which have lower valid loss:  0.5\n"
          ]
        },
        {
          "output_type": "stream",
          "name": "stderr",
          "text": [
            "\n"
          ]
        }
      ]
    },
    {
      "cell_type": "markdown",
      "metadata": {
        "id": "Hst6cFh4br5p"
      },
      "source": [
        "# 6. Inference"
      ],
      "id": "Hst6cFh4br5p"
    },
    {
      "cell_type": "code",
      "metadata": {
        "execution": {
          "iopub.execute_input": "2021-10-25T09:39:14.759819Z",
          "iopub.status.busy": "2021-10-25T09:39:14.759189Z",
          "iopub.status.idle": "2021-10-25T09:39:14.780779Z",
          "shell.execute_reply": "2021-10-25T09:39:14.780287Z",
          "shell.execute_reply.started": "2021-10-25T09:10:53.093553Z"
        },
        "papermill": {
          "duration": 6.321499,
          "end_time": "2021-10-25T09:39:14.780903",
          "exception": false,
          "start_time": "2021-10-25T09:39:08.459404",
          "status": "completed"
        },
        "tags": [],
        "id": "2c6215f8"
      },
      "source": [
        "test_df = pd.read_csv(DATA_PATH + '/test_no_label.csv')"
      ],
      "id": "2c6215f8",
      "execution_count": null,
      "outputs": []
    },
    {
      "cell_type": "code",
      "metadata": {
        "execution": {
          "iopub.execute_input": "2021-10-25T09:39:26.401606Z",
          "iopub.status.busy": "2021-10-25T09:39:26.399894Z",
          "iopub.status.idle": "2021-10-25T09:39:26.402200Z",
          "shell.execute_reply": "2021-10-25T09:39:26.402633Z",
          "shell.execute_reply.started": "2021-10-25T09:10:54.259598Z"
        },
        "papermill": {
          "duration": 6.12519,
          "end_time": "2021-10-25T09:39:26.402779",
          "exception": false,
          "start_time": "2021-10-25T09:39:20.277589",
          "status": "completed"
        },
        "tags": [],
        "id": "400573d4"
      },
      "source": [
        "test_dataset = test_df['Id']"
      ],
      "id": "400573d4",
      "execution_count": null,
      "outputs": []
    },
    {
      "cell_type": "code",
      "metadata": {
        "execution": {
          "iopub.execute_input": "2021-10-25T09:39:38.201111Z",
          "iopub.status.busy": "2021-10-25T09:39:38.200292Z",
          "iopub.status.idle": "2021-10-25T09:39:38.203782Z",
          "shell.execute_reply": "2021-10-25T09:39:38.203300Z",
          "shell.execute_reply.started": "2021-10-25T09:10:58.297100Z"
        },
        "papermill": {
          "duration": 6.086065,
          "end_time": "2021-10-25T09:39:38.203912",
          "exception": false,
          "start_time": "2021-10-25T09:39:32.117847",
          "status": "completed"
        },
        "tags": [],
        "id": "a8ec8865"
      },
      "source": [
        "def make_id_file_test(tokenizer, test_dataset):\n",
        "    data_strings = []\n",
        "    id_file_data = [tokenizer.encode(sent.lower()) for sent in test_dataset]\n",
        "    for item in id_file_data:\n",
        "        data_strings.append(' '.join([str(k) for k in item]))\n",
        "    return data_strings"
      ],
      "id": "a8ec8865",
      "execution_count": null,
      "outputs": []
    },
    {
      "cell_type": "code",
      "metadata": {
        "execution": {
          "iopub.execute_input": "2021-10-25T09:39:50.086293Z",
          "iopub.status.busy": "2021-10-25T09:39:50.076158Z",
          "iopub.status.idle": "2021-10-25T09:39:50.438780Z",
          "shell.execute_reply": "2021-10-25T09:39:50.439207Z",
          "shell.execute_reply.started": "2021-10-25T09:11:16.140757Z"
        },
        "papermill": {
          "duration": 6.132422,
          "end_time": "2021-10-25T09:39:50.439371",
          "exception": false,
          "start_time": "2021-10-25T09:39:44.306949",
          "status": "completed"
        },
        "tags": [],
        "id": "b61995f0"
      },
      "source": [
        "test = make_id_file_test(tokenizer, test_dataset)"
      ],
      "id": "b61995f0",
      "execution_count": null,
      "outputs": []
    },
    {
      "cell_type": "code",
      "metadata": {
        "execution": {
          "iopub.execute_input": "2021-10-25T09:40:01.936755Z",
          "iopub.status.busy": "2021-10-25T09:40:01.935971Z",
          "iopub.status.idle": "2021-10-25T09:40:01.938833Z",
          "shell.execute_reply": "2021-10-25T09:40:01.939238Z",
          "shell.execute_reply.started": "2021-10-25T09:11:18.403125Z"
        },
        "papermill": {
          "duration": 5.932276,
          "end_time": "2021-10-25T09:40:01.939376",
          "exception": false,
          "start_time": "2021-10-25T09:39:56.007100",
          "status": "completed"
        },
        "tags": [],
        "colab": {
          "base_uri": "https://localhost:8080/"
        },
        "id": "6b7b99df",
        "outputId": "67221b27-6b6b-4d05-868a-7e82475dcc3d"
      },
      "source": [
        "test[:10]"
      ],
      "id": "6b7b99df",
      "execution_count": null,
      "outputs": [
        {
          "output_type": "execute_result",
          "data": {
            "text/plain": [
              "['0 405 128 29 10 1086 92 676 8 92 14250 349 86 47 213 479 2',\n",
              " '0 2527 6770 31 41 793 2674 479 2',\n",
              " '0 405 16 5 144 12757 3553 1439 11 5 15044 479 2',\n",
              " '0 5016 45 1203 10 7792 19 209 82 479 2',\n",
              " '0 118 21 7464 8 79 156 162 619 98 3473 8 2814 479 2',\n",
              " '0 627 129 631 52 829 14 21 2131 21 5 3895 479 2',\n",
              " '0 2362 2156 45 5 1980 23 25 257 2156 5 1980 11 3812 239 479 2',\n",
              " '0 10010 836 24 66 760 13 47 8 32 182 7163 479 2',\n",
              " '0 7269 5 22633 222 295 75 190 216 141 7 173 5 3034 479 2',\n",
              " '0 10010 33 41 4206 4230 9 44505 7 2807 31 479 2']"
            ]
          },
          "metadata": {},
          "execution_count": 56
        }
      ]
    },
    {
      "cell_type": "code",
      "metadata": {
        "execution": {
          "iopub.execute_input": "2021-10-25T09:40:13.299866Z",
          "iopub.status.busy": "2021-10-25T09:40:13.298954Z",
          "iopub.status.idle": "2021-10-25T09:40:13.300793Z",
          "shell.execute_reply": "2021-10-25T09:40:13.301204Z",
          "shell.execute_reply.started": "2021-10-25T09:11:20.197178Z"
        },
        "papermill": {
          "duration": 5.530605,
          "end_time": "2021-10-25T09:40:13.301347",
          "exception": false,
          "start_time": "2021-10-25T09:40:07.770742",
          "status": "completed"
        },
        "tags": [],
        "id": "8f4c40cd"
      },
      "source": [
        "class SentimentTestDataset(object):\n",
        "    def __init__(self, tokenizer, test):\n",
        "        self.tokenizer = tokenizer\n",
        "        self.data = []\n",
        "\n",
        "        for sent in test:\n",
        "            self.data += [self._cast_to_int(sent.strip().split())]\n",
        "\n",
        "    def _cast_to_int(self, sample):\n",
        "        return [int(word_id) for word_id in sample]\n",
        "\n",
        "    def __len__(self):\n",
        "        return len(self.data)\n",
        "\n",
        "    def __getitem__(self, index):\n",
        "        sample = self.data[index]\n",
        "        return np.array(sample)"
      ],
      "id": "8f4c40cd",
      "execution_count": null,
      "outputs": []
    },
    {
      "cell_type": "code",
      "metadata": {
        "execution": {
          "iopub.execute_input": "2021-10-25T09:40:25.036986Z",
          "iopub.status.busy": "2021-10-25T09:40:25.036067Z",
          "iopub.status.idle": "2021-10-25T09:40:25.038222Z",
          "shell.execute_reply": "2021-10-25T09:40:25.038655Z",
          "shell.execute_reply.started": "2021-10-25T09:11:23.369015Z"
        },
        "papermill": {
          "duration": 5.514131,
          "end_time": "2021-10-25T09:40:25.038810",
          "exception": false,
          "start_time": "2021-10-25T09:40:19.524679",
          "status": "completed"
        },
        "tags": [],
        "id": "45101663"
      },
      "source": [
        "test_dataset = SentimentTestDataset(tokenizer, test)"
      ],
      "id": "45101663",
      "execution_count": null,
      "outputs": []
    },
    {
      "cell_type": "code",
      "metadata": {
        "execution": {
          "iopub.execute_input": "2021-10-25T09:40:36.444706Z",
          "iopub.status.busy": "2021-10-25T09:40:36.443807Z",
          "iopub.status.idle": "2021-10-25T09:40:36.446030Z",
          "shell.execute_reply": "2021-10-25T09:40:36.445624Z",
          "shell.execute_reply.started": "2021-10-25T09:11:30.558847Z"
        },
        "papermill": {
          "duration": 5.624942,
          "end_time": "2021-10-25T09:40:36.446148",
          "exception": false,
          "start_time": "2021-10-25T09:40:30.821206",
          "status": "completed"
        },
        "tags": [],
        "id": "836198b4"
      },
      "source": [
        "def collate_fn_sentiment_test(samples):\n",
        "    input_ids = samples\n",
        "    max_len = max(len(input_id) for input_id in input_ids)\n",
        "    sorted_indices = [i for i in range(len(input_ids))]\n",
        "\n",
        "    input_ids = pad_sequence([torch.tensor(input_ids[index]) for index in sorted_indices],\n",
        "                             batch_first=True)\n",
        "    attention_mask = torch.tensor(\n",
        "        [[1] * len(input_ids[index]) + [0] * (max_len - len(input_ids[index])) for index in\n",
        "         sorted_indices])\n",
        "    token_type_ids = torch.tensor([[0] * len(input_ids[index]) for index in sorted_indices])\n",
        "    position_ids = torch.tensor([list(range(len(input_ids[index]))) for index in sorted_indices])\n",
        "\n",
        "    return input_ids, attention_mask, token_type_ids, position_ids"
      ],
      "id": "836198b4",
      "execution_count": null,
      "outputs": []
    },
    {
      "cell_type": "code",
      "metadata": {
        "execution": {
          "iopub.execute_input": "2021-10-25T09:40:48.300257Z",
          "iopub.status.busy": "2021-10-25T09:40:48.299356Z",
          "iopub.status.idle": "2021-10-25T09:40:48.301257Z",
          "shell.execute_reply": "2021-10-25T09:40:48.301730Z",
          "shell.execute_reply.started": "2021-10-25T09:17:06.413501Z"
        },
        "papermill": {
          "duration": 6.048752,
          "end_time": "2021-10-25T09:40:48.301879",
          "exception": false,
          "start_time": "2021-10-25T09:40:42.253127",
          "status": "completed"
        },
        "tags": [],
        "id": "73872c1d"
      },
      "source": [
        "test_batch_size = 32\n",
        "test_loader = torch.utils.data.DataLoader(test_dataset, batch_size=test_batch_size,\n",
        "                                          shuffle=False, collate_fn=collate_fn_sentiment_test,\n",
        "                                          num_workers=2)"
      ],
      "id": "73872c1d",
      "execution_count": null,
      "outputs": []
    },
    {
      "cell_type": "code",
      "metadata": {
        "execution": {
          "iopub.execute_input": "2021-10-25T09:40:59.648150Z",
          "iopub.status.busy": "2021-10-25T09:40:59.647248Z",
          "iopub.status.idle": "2021-10-25T09:41:00.709884Z",
          "shell.execute_reply": "2021-10-25T09:41:00.709394Z",
          "shell.execute_reply.started": "2021-10-25T09:17:18.395964Z"
        },
        "papermill": {
          "duration": 6.622509,
          "end_time": "2021-10-25T09:41:00.710020",
          "exception": false,
          "start_time": "2021-10-25T09:40:54.087511",
          "status": "completed"
        },
        "tags": [],
        "colab": {
          "base_uri": "https://localhost:8080/"
        },
        "id": "c4121b84",
        "outputId": "4f073878-ea7c-4534-ed97-f6df86614d69"
      },
      "source": [
        "with torch.no_grad():\n",
        "    model.eval()\n",
        "    predictions = []\n",
        "    for input_ids, attention_mask, token_type_ids, position_ids in tqdm(test_loader,\n",
        "                                                                        desc='Test',\n",
        "                                                                        position=1,\n",
        "                                                                        leave=None):\n",
        "        input_ids = input_ids.to(device)\n",
        "        attention_mask = attention_mask.to(device)\n",
        "        token_type_ids = token_type_ids.to(device)\n",
        "        position_ids = position_ids.to(device)\n",
        "\n",
        "        output = model(input_ids=input_ids,\n",
        "                       attention_mask=attention_mask,\n",
        "                       token_type_ids=token_type_ids,\n",
        "                       position_ids=position_ids)\n",
        "\n",
        "        logits = output.logits\n",
        "        batch_predictions = [0 if example[0] > example[1] else 1 for example in logits]\n",
        "        predictions += batch_predictions"
      ],
      "id": "c4121b84",
      "execution_count": null,
      "outputs": [
        {
          "output_type": "stream",
          "name": "stderr",
          "text": [
            "\n",
            "Test:   0%|          | 0/32 [00:00<?, ?it/s]\u001b[A\n",
            "Test:   3%|▎         | 1/32 [00:00<00:03,  9.07it/s]\u001b[A\n",
            "Test:  16%|█▌        | 5/32 [00:00<00:01, 24.10it/s]\u001b[A\n",
            "Test:  28%|██▊       | 9/32 [00:00<00:00, 28.90it/s]\u001b[A\n",
            "Test:  41%|████      | 13/32 [00:00<00:00, 31.87it/s]\u001b[A\n",
            "Test:  53%|█████▎    | 17/32 [00:00<00:00, 34.36it/s]\u001b[A\n",
            "Test:  66%|██████▌   | 21/32 [00:00<00:00, 35.80it/s]\u001b[A\n",
            "Test:  78%|███████▊  | 25/32 [00:00<00:00, 36.10it/s]\u001b[A\n",
            "Test:  91%|█████████ | 29/32 [00:00<00:00, 36.22it/s]\u001b[A\n",
            "                                                     \u001b[A"
          ]
        }
      ]
    },
    {
      "cell_type": "code",
      "metadata": {
        "execution": {
          "iopub.execute_input": "2021-10-25T09:41:12.120542Z",
          "iopub.status.busy": "2021-10-25T09:41:12.119868Z",
          "iopub.status.idle": "2021-10-25T09:41:12.123908Z",
          "shell.execute_reply": "2021-10-25T09:41:12.124324Z",
          "shell.execute_reply.started": "2021-10-25T09:17:24.087694Z"
        },
        "papermill": {
          "duration": 5.559079,
          "end_time": "2021-10-25T09:41:12.124526",
          "exception": false,
          "start_time": "2021-10-25T09:41:06.565447",
          "status": "completed"
        },
        "tags": [],
        "id": "e43955cd"
      },
      "source": [
        "test_df['Category'] = predictions"
      ],
      "id": "e43955cd",
      "execution_count": null,
      "outputs": []
    },
    {
      "cell_type": "code",
      "metadata": {
        "execution": {
          "iopub.execute_input": "2021-10-25T09:41:23.972281Z",
          "iopub.status.busy": "2021-10-25T09:41:23.971517Z",
          "iopub.status.idle": "2021-10-25T09:41:23.980720Z",
          "shell.execute_reply": "2021-10-25T09:41:23.980269Z",
          "shell.execute_reply.started": "2021-10-25T09:17:33.061989Z"
        },
        "papermill": {
          "duration": 6.043316,
          "end_time": "2021-10-25T09:41:23.980846",
          "exception": false,
          "start_time": "2021-10-25T09:41:17.937530",
          "status": "completed"
        },
        "tags": [],
        "id": "54c3e7f4"
      },
      "source": [
        "test_df.to_csv('submission1.csv', index=False)"
      ],
      "id": "54c3e7f4",
      "execution_count": null,
      "outputs": []
    },
    {
      "cell_type": "code",
      "metadata": {
        "colab": {
          "base_uri": "https://localhost:8080/"
        },
        "id": "kBpySJvtlIZ5",
        "outputId": "a6a62178-b9ff-4a67-ff22-933033a08e3c"
      },
      "source": [
        "!ls"
      ],
      "id": "kBpySJvtlIZ5",
      "execution_count": null,
      "outputs": [
        {
          "output_type": "stream",
          "name": "stdout",
          "text": [
            "data  submission1.csv\t\t       submission_EDA_roBERTa.csv\n",
            "log   submission_baseline_roBERTa.csv\n"
          ]
        }
      ]
    },
    {
      "cell_type": "code",
      "metadata": {
        "colab": {
          "base_uri": "https://localhost:8080/"
        },
        "id": "p2AixyHLlJpH",
        "outputId": "b11d2ebe-42d6-4bfe-fb94-82608263c413"
      },
      "source": [
        "!pwd"
      ],
      "id": "p2AixyHLlJpH",
      "execution_count": null,
      "outputs": [
        {
          "output_type": "stream",
          "name": "stdout",
          "text": [
            "/content/drive/My Drive/Competitions/Kaggle/Project1\n"
          ]
        }
      ]
    },
    {
      "cell_type": "code",
      "metadata": {
        "id": "AUoHtxrblOLx"
      },
      "source": [
        ""
      ],
      "id": "AUoHtxrblOLx",
      "execution_count": null,
      "outputs": []
    }
  ]
}