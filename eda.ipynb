{
  "nbformat": 4,
  "nbformat_minor": 0,
  "metadata": {
    "colab": {
      "name": "TextClassificationGoorm",
      "provenance": []
    },
    "kernelspec": {
      "name": "python3",
      "display_name": "Python 3"
    },
    "language_info": {
      "name": "python"
    },
    "accelerator": "GPU",
    "widgets": {
      "application/vnd.jupyter.widget-state+json": {
        "2e35a7dd49ad4434bc165870852c6579": {
          "model_module": "@jupyter-widgets/controls",
          "model_name": "HBoxModel",
          "model_module_version": "1.5.0",
          "state": {
            "_view_name": "HBoxView",
            "_dom_classes": [],
            "_model_name": "HBoxModel",
            "_view_module": "@jupyter-widgets/controls",
            "_model_module_version": "1.5.0",
            "_view_count": null,
            "_view_module_version": "1.5.0",
            "box_style": "",
            "layout": "IPY_MODEL_c8a120cd971e473b8135581f68837915",
            "_model_module": "@jupyter-widgets/controls",
            "children": [
              "IPY_MODEL_7ca55aca24434d96902f90c6a32b5a88",
              "IPY_MODEL_7d5cf386f1f64ab1997a9c515357618c",
              "IPY_MODEL_a7cdd770f7c74a1988d77b69b96a3f12"
            ]
          }
        },
        "c8a120cd971e473b8135581f68837915": {
          "model_module": "@jupyter-widgets/base",
          "model_name": "LayoutModel",
          "model_module_version": "1.2.0",
          "state": {
            "_view_name": "LayoutView",
            "grid_template_rows": null,
            "right": null,
            "justify_content": null,
            "_view_module": "@jupyter-widgets/base",
            "overflow": null,
            "_model_module_version": "1.2.0",
            "_view_count": null,
            "flex_flow": null,
            "width": null,
            "min_width": null,
            "border": null,
            "align_items": null,
            "bottom": null,
            "_model_module": "@jupyter-widgets/base",
            "top": null,
            "grid_column": null,
            "overflow_y": null,
            "overflow_x": null,
            "grid_auto_flow": null,
            "grid_area": null,
            "grid_template_columns": null,
            "flex": null,
            "_model_name": "LayoutModel",
            "justify_items": null,
            "grid_row": null,
            "max_height": null,
            "align_content": null,
            "visibility": null,
            "align_self": null,
            "height": null,
            "min_height": null,
            "padding": null,
            "grid_auto_rows": null,
            "grid_gap": null,
            "max_width": null,
            "order": null,
            "_view_module_version": "1.2.0",
            "grid_template_areas": null,
            "object_position": null,
            "object_fit": null,
            "grid_auto_columns": null,
            "margin": null,
            "display": null,
            "left": null
          }
        },
        "7ca55aca24434d96902f90c6a32b5a88": {
          "model_module": "@jupyter-widgets/controls",
          "model_name": "HTMLModel",
          "model_module_version": "1.5.0",
          "state": {
            "_view_name": "HTMLView",
            "style": "IPY_MODEL_b86ec54ab8644502ae078bf023cf3cc4",
            "_dom_classes": [],
            "description": "",
            "_model_name": "HTMLModel",
            "placeholder": "​",
            "_view_module": "@jupyter-widgets/controls",
            "_model_module_version": "1.5.0",
            "value": "Downloading: 100%",
            "_view_count": null,
            "_view_module_version": "1.5.0",
            "description_tooltip": null,
            "_model_module": "@jupyter-widgets/controls",
            "layout": "IPY_MODEL_f112e0d93fbd4730bd4c26aa9d2d10e2"
          }
        },
        "7d5cf386f1f64ab1997a9c515357618c": {
          "model_module": "@jupyter-widgets/controls",
          "model_name": "FloatProgressModel",
          "model_module_version": "1.5.0",
          "state": {
            "_view_name": "ProgressView",
            "style": "IPY_MODEL_28c26ebf174446869b75ea4823d11d06",
            "_dom_classes": [],
            "description": "",
            "_model_name": "FloatProgressModel",
            "bar_style": "success",
            "max": 440473133,
            "_view_module": "@jupyter-widgets/controls",
            "_model_module_version": "1.5.0",
            "value": 440473133,
            "_view_count": null,
            "_view_module_version": "1.5.0",
            "orientation": "horizontal",
            "min": 0,
            "description_tooltip": null,
            "_model_module": "@jupyter-widgets/controls",
            "layout": "IPY_MODEL_5a5f17f36b114ac6afb01c81818f0344"
          }
        },
        "a7cdd770f7c74a1988d77b69b96a3f12": {
          "model_module": "@jupyter-widgets/controls",
          "model_name": "HTMLModel",
          "model_module_version": "1.5.0",
          "state": {
            "_view_name": "HTMLView",
            "style": "IPY_MODEL_128efb0734b640e6875a76a4d20dbaa3",
            "_dom_classes": [],
            "description": "",
            "_model_name": "HTMLModel",
            "placeholder": "​",
            "_view_module": "@jupyter-widgets/controls",
            "_model_module_version": "1.5.0",
            "value": " 420M/420M [00:14&lt;00:00, 30.1MB/s]",
            "_view_count": null,
            "_view_module_version": "1.5.0",
            "description_tooltip": null,
            "_model_module": "@jupyter-widgets/controls",
            "layout": "IPY_MODEL_5758483bb277446d814cf5e99adb20e7"
          }
        },
        "b86ec54ab8644502ae078bf023cf3cc4": {
          "model_module": "@jupyter-widgets/controls",
          "model_name": "DescriptionStyleModel",
          "model_module_version": "1.5.0",
          "state": {
            "_view_name": "StyleView",
            "_model_name": "DescriptionStyleModel",
            "description_width": "",
            "_view_module": "@jupyter-widgets/base",
            "_model_module_version": "1.5.0",
            "_view_count": null,
            "_view_module_version": "1.2.0",
            "_model_module": "@jupyter-widgets/controls"
          }
        },
        "f112e0d93fbd4730bd4c26aa9d2d10e2": {
          "model_module": "@jupyter-widgets/base",
          "model_name": "LayoutModel",
          "model_module_version": "1.2.0",
          "state": {
            "_view_name": "LayoutView",
            "grid_template_rows": null,
            "right": null,
            "justify_content": null,
            "_view_module": "@jupyter-widgets/base",
            "overflow": null,
            "_model_module_version": "1.2.0",
            "_view_count": null,
            "flex_flow": null,
            "width": null,
            "min_width": null,
            "border": null,
            "align_items": null,
            "bottom": null,
            "_model_module": "@jupyter-widgets/base",
            "top": null,
            "grid_column": null,
            "overflow_y": null,
            "overflow_x": null,
            "grid_auto_flow": null,
            "grid_area": null,
            "grid_template_columns": null,
            "flex": null,
            "_model_name": "LayoutModel",
            "justify_items": null,
            "grid_row": null,
            "max_height": null,
            "align_content": null,
            "visibility": null,
            "align_self": null,
            "height": null,
            "min_height": null,
            "padding": null,
            "grid_auto_rows": null,
            "grid_gap": null,
            "max_width": null,
            "order": null,
            "_view_module_version": "1.2.0",
            "grid_template_areas": null,
            "object_position": null,
            "object_fit": null,
            "grid_auto_columns": null,
            "margin": null,
            "display": null,
            "left": null
          }
        },
        "28c26ebf174446869b75ea4823d11d06": {
          "model_module": "@jupyter-widgets/controls",
          "model_name": "ProgressStyleModel",
          "model_module_version": "1.5.0",
          "state": {
            "_view_name": "StyleView",
            "_model_name": "ProgressStyleModel",
            "description_width": "",
            "_view_module": "@jupyter-widgets/base",
            "_model_module_version": "1.5.0",
            "_view_count": null,
            "_view_module_version": "1.2.0",
            "bar_color": null,
            "_model_module": "@jupyter-widgets/controls"
          }
        },
        "5a5f17f36b114ac6afb01c81818f0344": {
          "model_module": "@jupyter-widgets/base",
          "model_name": "LayoutModel",
          "model_module_version": "1.2.0",
          "state": {
            "_view_name": "LayoutView",
            "grid_template_rows": null,
            "right": null,
            "justify_content": null,
            "_view_module": "@jupyter-widgets/base",
            "overflow": null,
            "_model_module_version": "1.2.0",
            "_view_count": null,
            "flex_flow": null,
            "width": null,
            "min_width": null,
            "border": null,
            "align_items": null,
            "bottom": null,
            "_model_module": "@jupyter-widgets/base",
            "top": null,
            "grid_column": null,
            "overflow_y": null,
            "overflow_x": null,
            "grid_auto_flow": null,
            "grid_area": null,
            "grid_template_columns": null,
            "flex": null,
            "_model_name": "LayoutModel",
            "justify_items": null,
            "grid_row": null,
            "max_height": null,
            "align_content": null,
            "visibility": null,
            "align_self": null,
            "height": null,
            "min_height": null,
            "padding": null,
            "grid_auto_rows": null,
            "grid_gap": null,
            "max_width": null,
            "order": null,
            "_view_module_version": "1.2.0",
            "grid_template_areas": null,
            "object_position": null,
            "object_fit": null,
            "grid_auto_columns": null,
            "margin": null,
            "display": null,
            "left": null
          }
        },
        "128efb0734b640e6875a76a4d20dbaa3": {
          "model_module": "@jupyter-widgets/controls",
          "model_name": "DescriptionStyleModel",
          "model_module_version": "1.5.0",
          "state": {
            "_view_name": "StyleView",
            "_model_name": "DescriptionStyleModel",
            "description_width": "",
            "_view_module": "@jupyter-widgets/base",
            "_model_module_version": "1.5.0",
            "_view_count": null,
            "_view_module_version": "1.2.0",
            "_model_module": "@jupyter-widgets/controls"
          }
        },
        "5758483bb277446d814cf5e99adb20e7": {
          "model_module": "@jupyter-widgets/base",
          "model_name": "LayoutModel",
          "model_module_version": "1.2.0",
          "state": {
            "_view_name": "LayoutView",
            "grid_template_rows": null,
            "right": null,
            "justify_content": null,
            "_view_module": "@jupyter-widgets/base",
            "overflow": null,
            "_model_module_version": "1.2.0",
            "_view_count": null,
            "flex_flow": null,
            "width": null,
            "min_width": null,
            "border": null,
            "align_items": null,
            "bottom": null,
            "_model_module": "@jupyter-widgets/base",
            "top": null,
            "grid_column": null,
            "overflow_y": null,
            "overflow_x": null,
            "grid_auto_flow": null,
            "grid_area": null,
            "grid_template_columns": null,
            "flex": null,
            "_model_name": "LayoutModel",
            "justify_items": null,
            "grid_row": null,
            "max_height": null,
            "align_content": null,
            "visibility": null,
            "align_self": null,
            "height": null,
            "min_height": null,
            "padding": null,
            "grid_auto_rows": null,
            "grid_gap": null,
            "max_width": null,
            "order": null,
            "_view_module_version": "1.2.0",
            "grid_template_areas": null,
            "object_position": null,
            "object_fit": null,
            "grid_auto_columns": null,
            "margin": null,
            "display": null,
            "left": null
          }
        }
      }
    }
  },
  "cells": [
    {
      "cell_type": "code",
      "metadata": {
        "id": "sFk6aITQMJIX"
      },
      "source": [
        "!pip install wandb\n",
        "!pip install transformers"
      ],
      "execution_count": null,
      "outputs": []
    },
    {
      "cell_type": "code",
      "metadata": {
        "id": "ixn8l7FoLlYd"
      },
      "source": [
        "import os\n",
        "import pdb\n",
        "import pandas as pd\n",
        "import wandb\n",
        "import argparse\n",
        "import nltk\n",
        "from collections import Counter\n",
        "from dataclasses import dataclass, field\n",
        "from typing import Optional\n",
        "from collections import defaultdict\n",
        "\n",
        "import torch\n",
        "from torch.nn.utils.rnn import pad_sequence\n",
        "\n",
        "\n",
        "import re\n",
        "import numpy as np\n",
        "from tqdm import tqdm, trange\n",
        "\n",
        "from transformers import (\n",
        "    BertForSequenceClassification,\n",
        "    BertTokenizer,\n",
        "    AutoConfig,\n",
        "    AdamW\n",
        ")"
      ],
      "execution_count": null,
      "outputs": []
    },
    {
      "cell_type": "code",
      "metadata": {
        "id": "jPagR8voMGhH"
      },
      "source": [
        "# \\n 포함되어 처리 됨, 공백 제거, 마침표 제거, Task 필요하지 않음\n",
        "def make_id_file(swords = False):\n",
        "    if swords == True:\n",
        "      from nltk.corpus import stopwords\n",
        "      nltk.download('stopwords')\n",
        "    def make_data_strings(file_name, swords = swords):\n",
        "        data_strings = []\n",
        "        pattern = '[\\r|\\n]'\n",
        "        with open(os.path.join('./goorm', file_name), 'r', encoding='utf-8') as f:\n",
        "            id_file_data = [line.lower() for line in f.readlines()]\n",
        "        for item in id_file_data:\n",
        "            texts = ''.join([str(k) for k in item])\n",
        "            # Remove punctuation\n",
        "            texts = re.sub(r'_num_', \" \", texts)\n",
        "            texts = re.sub(\"[\\.\\,\\!\\?\\:\\;\\-\\=\\/\\|\\'\\(\\']\", \" \", texts)\n",
        "            texts = re.sub(pattern=pattern, repl='', string=texts).rstrip().split()\n",
        "\n",
        "            if swords == True:\n",
        "              stop = stopwords.words('english')\n",
        "              texts = [text for text in texts if text not in stop]\n",
        "            data_strings.append(' '.join(texts))\n",
        "        return data_strings\n",
        "    \n",
        "    print('it will take some times...')\n",
        "    train_pos = make_data_strings('sentiment.train.1', swords)\n",
        "    train_neg = make_data_strings('sentiment.train.0', swords)\n",
        "    dev_pos = make_data_strings('sentiment.dev.1', swords)\n",
        "    dev_neg = make_data_strings('sentiment.dev.0', swords)\n",
        "\n",
        "    print('make id file finished!')\n",
        "    return train_pos, train_neg, dev_pos, dev_neg"
      ],
      "execution_count": null,
      "outputs": []
    },
    {
      "cell_type": "code",
      "metadata": {
        "id": "oUId5CkBOvp6"
      },
      "source": [
        "# tokenizer = BertTokenizer.from_pretrained('bert-base-uncased')"
      ],
      "execution_count": null,
      "outputs": []
    },
    {
      "cell_type": "code",
      "metadata": {
        "colab": {
          "base_uri": "https://localhost:8080/"
        },
        "id": "-q6rJU3MO0A1",
        "outputId": "268be9ea-ff77-436a-f954-bc48af0ecf74"
      },
      "source": [
        "train_pos, train_neg, dev_pos, dev_neg = make_id_file(swords = True)"
      ],
      "execution_count": null,
      "outputs": [
        {
          "output_type": "stream",
          "name": "stdout",
          "text": [
            "[nltk_data] Downloading package stopwords to /root/nltk_data...\n",
            "[nltk_data]   Package stopwords is already up-to-date!\n",
            "it will take some times...\n",
            "make id file finished!\n"
          ]
        }
      ]
    },
    {
      "cell_type": "code",
      "metadata": {
        "colab": {
          "base_uri": "https://localhost:8080/"
        },
        "id": "_IPIubYNWFyE",
        "outputId": "e77b02fe-5a8c-4cc0-9be6-e87211da6c0b"
      },
      "source": [
        "train_pos[:10]"
      ],
      "execution_count": null,
      "outputs": [
        {
          "output_type": "execute_result",
          "data": {
            "text/plain": [
              "['excellent food',\n",
              " 'superb customer service',\n",
              " 'also daily specials ice cream really good',\n",
              " 'good toasted hoagie',\n",
              " 'staff friendly',\n",
              " 'good bar food',\n",
              " 'good service',\n",
              " 'soup day homemade lots specials',\n",
              " 'great place lunch bar snacks beer',\n",
              " 'new range looks amazing']"
            ]
          },
          "metadata": {},
          "execution_count": 49
        }
      ]
    },
    {
      "cell_type": "code",
      "metadata": {
        "id": "QrsjbCsLG0iN"
      },
      "source": [
        "df_train_pos = pd.DataFrame({'data': train_pos, 'label': 1})\n",
        "df_train_neg = pd.DataFrame({'data': train_neg, 'label': 0})\n",
        "df_train = pd.concat([df_train_pos,df_train_neg])\n",
        "df_train['length'] = df_train['data'].apply(len)\n",
        "\n",
        "df_test_pos = pd.DataFrame({'data': dev_pos, 'label': 1})\n",
        "df_test_neg = pd.DataFrame({'data': dev_neg, 'label': 0})\n",
        "df_test = pd.concat([df_test_pos,df_test_neg])\n",
        "df_test['length'] = df_test['data'].apply(len)\n",
        "df = pd.concat([df_train,df_test])"
      ],
      "execution_count": null,
      "outputs": []
    },
    {
      "cell_type": "code",
      "metadata": {
        "colab": {
          "base_uri": "https://localhost:8080/",
          "height": 419
        },
        "id": "XdzI5xrjKDMs",
        "outputId": "2dab5f4f-e43f-4b8c-de7f-d656a0993cea"
      },
      "source": [
        "df"
      ],
      "execution_count": null,
      "outputs": [
        {
          "output_type": "execute_result",
          "data": {
            "text/html": [
              "<div>\n",
              "<style scoped>\n",
              "    .dataframe tbody tr th:only-of-type {\n",
              "        vertical-align: middle;\n",
              "    }\n",
              "\n",
              "    .dataframe tbody tr th {\n",
              "        vertical-align: top;\n",
              "    }\n",
              "\n",
              "    .dataframe thead th {\n",
              "        text-align: right;\n",
              "    }\n",
              "</style>\n",
              "<table border=\"1\" class=\"dataframe\">\n",
              "  <thead>\n",
              "    <tr style=\"text-align: right;\">\n",
              "      <th></th>\n",
              "      <th>data</th>\n",
              "      <th>label</th>\n",
              "      <th>length</th>\n",
              "    </tr>\n",
              "  </thead>\n",
              "  <tbody>\n",
              "    <tr>\n",
              "      <th>0</th>\n",
              "      <td>excellent food</td>\n",
              "      <td>1</td>\n",
              "      <td>14</td>\n",
              "    </tr>\n",
              "    <tr>\n",
              "      <th>1</th>\n",
              "      <td>superb customer service</td>\n",
              "      <td>1</td>\n",
              "      <td>23</td>\n",
              "    </tr>\n",
              "    <tr>\n",
              "      <th>2</th>\n",
              "      <td>also daily specials ice cream really good</td>\n",
              "      <td>1</td>\n",
              "      <td>41</td>\n",
              "    </tr>\n",
              "    <tr>\n",
              "      <th>3</th>\n",
              "      <td>good toasted hoagie</td>\n",
              "      <td>1</td>\n",
              "      <td>19</td>\n",
              "    </tr>\n",
              "    <tr>\n",
              "      <th>4</th>\n",
              "      <td>staff friendly</td>\n",
              "      <td>1</td>\n",
              "      <td>14</td>\n",
              "    </tr>\n",
              "    <tr>\n",
              "      <th>...</th>\n",
              "      <td>...</td>\n",
              "      <td>...</td>\n",
              "      <td>...</td>\n",
              "    </tr>\n",
              "    <tr>\n",
              "      <th>1995</th>\n",
              "      <td>sad see much place gone downhill</td>\n",
              "      <td>0</td>\n",
              "      <td>32</td>\n",
              "    </tr>\n",
              "    <tr>\n",
              "      <th>1996</th>\n",
              "      <td>food n good</td>\n",
              "      <td>0</td>\n",
              "      <td>11</td>\n",
              "    </tr>\n",
              "    <tr>\n",
              "      <th>1997</th>\n",
              "      <td>n quite years</td>\n",
              "      <td>0</td>\n",
              "      <td>13</td>\n",
              "    </tr>\n",
              "    <tr>\n",
              "      <th>1998</th>\n",
              "      <td>service last time went terrible</td>\n",
              "      <td>0</td>\n",
              "      <td>31</td>\n",
              "    </tr>\n",
              "    <tr>\n",
              "      <th>1999</th>\n",
              "      <td>guess need spell clearly next time</td>\n",
              "      <td>0</td>\n",
              "      <td>34</td>\n",
              "    </tr>\n",
              "  </tbody>\n",
              "</table>\n",
              "<p>447259 rows × 3 columns</p>\n",
              "</div>"
            ],
            "text/plain": [
              "                                           data  label  length\n",
              "0                                excellent food      1      14\n",
              "1                       superb customer service      1      23\n",
              "2     also daily specials ice cream really good      1      41\n",
              "3                           good toasted hoagie      1      19\n",
              "4                                staff friendly      1      14\n",
              "...                                         ...    ...     ...\n",
              "1995           sad see much place gone downhill      0      32\n",
              "1996                                food n good      0      11\n",
              "1997                              n quite years      0      13\n",
              "1998            service last time went terrible      0      31\n",
              "1999         guess need spell clearly next time      0      34\n",
              "\n",
              "[447259 rows x 3 columns]"
            ]
          },
          "metadata": {},
          "execution_count": 51
        }
      ]
    },
    {
      "cell_type": "markdown",
      "metadata": {
        "id": "zvNVO_WaV1yy"
      },
      "source": [
        "전체 데이터셋의 크기: 447259"
      ]
    },
    {
      "cell_type": "code",
      "metadata": {
        "colab": {
          "base_uri": "https://localhost:8080/",
          "height": 243
        },
        "id": "nHA2xasZOq8T",
        "outputId": "6f3a7774-fd26-4755-df53-3dd31d50a7c4"
      },
      "source": [
        "import seaborn as sns\n",
        "import matplotlib.pyplot as plt\n",
        "graph = sns.FacetGrid(data=df,col='label')\n",
        "graph.map(plt.hist,'length',bins=50,color='blue')"
      ],
      "execution_count": null,
      "outputs": [
        {
          "output_type": "execute_result",
          "data": {
            "text/plain": [
              "<seaborn.axisgrid.FacetGrid at 0x7f0215be6e50>"
            ]
          },
          "metadata": {},
          "execution_count": 52
        },
        {
          "output_type": "display_data",
          "data": {
            "image/png": "[encoded data removed]",
            "text/plain": [
              "<Figure size 432x216 with 2 Axes>"
            ]
          },
          "metadata": {
            "needs_background": "light"
          }
        }
      ]
    },
    {
      "cell_type": "code",
      "metadata": {
        "colab": {
          "base_uri": "https://localhost:8080/"
        },
        "id": "UAw2Lag7IWGi",
        "outputId": "99d5e2de-2728-4b93-d74d-263cce22a3f0"
      },
      "source": [
        "#Null 데이터 확인\n",
        "df.isnull().sum()"
      ],
      "execution_count": null,
      "outputs": [
        {
          "output_type": "execute_result",
          "data": {
            "text/plain": [
              "data      0\n",
              "label     0\n",
              "length    0\n",
              "dtype: int64"
            ]
          },
          "metadata": {},
          "execution_count": 53
        }
      ]
    },
    {
      "cell_type": "code",
      "metadata": {
        "colab": {
          "base_uri": "https://localhost:8080/"
        },
        "id": "UVQfW1jNPNfa",
        "outputId": "0592c266-9508-4b45-e405-72c91f7ff4b5"
      },
      "source": [
        "#아무것도 포함되지 않은 행렬 확인, 제거\n",
        "print(df.loc[df['length'] <= 1])\n",
        "none_idx = df.loc[df['length'] <= 1].index\n",
        "df = df.drop(none_idx)"
      ],
      "execution_count": null,
      "outputs": [
        {
          "output_type": "stream",
          "name": "stdout",
          "text": [
            "     data  label  length\n",
            "614     )      1       1\n",
            "1301           1       0\n",
            "1759    )      1       1\n",
            "1942    )      1       1\n",
            "2233    )      1       1\n",
            "...   ...    ...     ...\n",
            "1893           0       0\n",
            "1894           0       0\n",
            "1896           0       0\n",
            "1897           0       0\n",
            "1898           0       0\n",
            "\n",
            "[2885 rows x 3 columns]\n"
          ]
        }
      ]
    },
    {
      "cell_type": "code",
      "metadata": {
        "colab": {
          "base_uri": "https://localhost:8080/"
        },
        "id": "JQAxCSYEPmUk",
        "outputId": "b77c955c-1451-47bf-bc2a-bf08bc7327ca"
      },
      "source": [
        "print(df.loc[df['length'] <= 1])"
      ],
      "execution_count": null,
      "outputs": [
        {
          "output_type": "stream",
          "name": "stdout",
          "text": [
            "Empty DataFrame\n",
            "Columns: [data, label, length]\n",
            "Index: []\n"
          ]
        }
      ]
    },
    {
      "cell_type": "code",
      "metadata": {
        "colab": {
          "base_uri": "https://localhost:8080/",
          "height": 280
        },
        "id": "QyBXaTWrXpUL",
        "outputId": "c298afdc-42be-4ec7-ff50-7c769638ec3d"
      },
      "source": [
        "# 긍부정 리뷰 갯수 파악\n",
        "df['label'].value_counts().plot(kind = 'bar')"
      ],
      "execution_count": null,
      "outputs": [
        {
          "output_type": "execute_result",
          "data": {
            "text/plain": [
              "<matplotlib.axes._subplots.AxesSubplot at 0x7f02170d7750>"
            ]
          },
          "metadata": {},
          "execution_count": 56
        },
        {
          "output_type": "display_data",
          "data": {
            "image/png": "[encoded data removed]",
            "text/plain": [
              "<Figure size 432x288 with 1 Axes>"
            ]
          },
          "metadata": {
            "needs_background": "light"
          }
        }
      ]
    },
    {
      "cell_type": "code",
      "metadata": {
        "colab": {
          "base_uri": "https://localhost:8080/"
        },
        "id": "QYkFQxG7X2Mx",
        "outputId": "53f1d3c0-e53a-4d08-e298-c58dbc5c7242"
      },
      "source": [
        "print(df.groupby('label').size().reset_index(name = 'count'))"
      ],
      "execution_count": null,
      "outputs": [
        {
          "output_type": "stream",
          "name": "stdout",
          "text": [
            "   label   count\n",
            "0      0  176398\n",
            "1      1  265080\n"
          ]
        }
      ]
    },
    {
      "cell_type": "code",
      "metadata": {
        "colab": {
          "base_uri": "https://localhost:8080/",
          "height": 402
        },
        "id": "XkUhsLdDo3nU",
        "outputId": "f7690c07-6cba-436a-d518-f80999321200"
      },
      "source": [
        "# most common words in twitter dataset \n",
        "all_texts = []\n",
        "for line in list(df['data']):\n",
        "    texts = line.split()\n",
        "    for text in texts:\n",
        "        all_texts.append(text)\n",
        "# plot word frequency distribution of first few words\n",
        "plt.figure(figsize=(12,5))\n",
        "plt.xticks(fontsize=13, rotation=90)\n",
        "fd = nltk.FreqDist(all_texts)\n",
        "fd.plot(25,cumulative=False)\n",
        "# log-log of all words \n",
        "word_counts = sorted(Counter(all_texts).values(), reverse=True)"
      ],
      "execution_count": null,
      "outputs": [
        {
          "output_type": "display_data",
          "data": {
            "image/png": "[encoded data removed]",
            "text/plain": [
              "<Figure size 864x360 with 1 Axes>"
            ]
          },
          "metadata": {
            "needs_background": "light"
          }
        }
      ]
    },
    {
      "cell_type": "code",
      "metadata": {
        "id": "4Jk742Y00M8r"
      },
      "source": [
        "import gensim\n",
        "from urllib.request import urlretrieve, urlopen\n",
        "urlretrieve(\"https://s3.amazonaws.com/dl4j-distribution/GoogleNews-vectors-negative300.bin.gz\", \\\n",
        "                           filename=\"GoogleNews-vectors-negative300.bin.gz\")\n",
        "word2vec_model = gensim.models.KeyedVectors.load_word2vec_format('GoogleNews-vectors-negative300.bin.gz', binary=True)"
      ],
      "execution_count": null,
      "outputs": []
    },
    {
      "cell_type": "code",
      "metadata": {
        "colab": {
          "base_uri": "https://localhost:8080/"
        },
        "id": "0oXsNMJ418yV",
        "outputId": "d4cf11b7-9f57-48a9-b17f-76e57c60e56d"
      },
      "source": [
        "print(word2vec_model.vectors.shape)"
      ],
      "execution_count": null,
      "outputs": [
        {
          "output_type": "stream",
          "name": "stdout",
          "text": [
            "(3000000, 300)\n"
          ]
        }
      ]
    },
    {
      "cell_type": "code",
      "metadata": {
        "colab": {
          "base_uri": "https://localhost:8080/"
        },
        "id": "daIABuy94zlQ",
        "outputId": "12b52f0f-cd09-444b-ceb2-7b26e50554ff"
      },
      "source": [
        "print(word2vec_model['this'])"
      ],
      "execution_count": null,
      "outputs": [
        {
          "output_type": "stream",
          "name": "stdout",
          "text": [
            "[ 0.109375    0.140625   -0.03173828  0.16601562 -0.07128906  0.01586914\n",
            " -0.00311279 -0.08496094 -0.04858398  0.05566406 -0.08251953 -0.02404785\n",
            " -0.00665283  0.03686523 -0.05029297 -0.02941895  0.11376953 -0.06787109\n",
            "  0.05639648 -0.07568359 -0.03857422  0.09716797 -0.04418945 -0.12207031\n",
            "  0.140625    0.08496094  0.09667969  0.07470703 -0.0039978   0.17285156\n",
            " -0.06933594  0.08886719  0.03808594 -0.00061417  0.01184082  0.00164032\n",
            " -0.20898438 -0.08251953  0.08984375  0.07910156  0.12353516 -0.01867676\n",
            "  0.03039551  0.04711914  0.06542969 -0.01251221  0.00152588  0.10644531\n",
            " -0.01531982 -0.04199219  0.16796875  0.05175781  0.07470703  0.08251953\n",
            "  0.01721191  0.01599121  0.02734375 -0.03686523  0.08105469 -0.06445312\n",
            " -0.08984375  0.10742188  0.01153564 -0.13671875  0.05151367 -0.02429199\n",
            "  0.02282715  0.12353516  0.01531982  0.1484375   0.02441406 -0.0625\n",
            "  0.08154297 -0.06494141  0.02038574  0.05126953  0.125       0.09765625\n",
            "  0.05810547  0.18652344  0.05834961 -0.19921875  0.02001953 -0.04638672\n",
            " -0.12158203 -0.12109375 -0.02429199  0.22851562 -0.05712891  0.03051758\n",
            "  0.11816406 -0.05712891 -0.125      -0.21972656 -0.06152344 -0.11865234\n",
            "  0.11816406  0.01196289 -0.08398438  0.04858398 -0.05053711 -0.07568359\n",
            "  0.02819824 -0.05371094 -0.14160156  0.07568359 -0.18164062 -0.18847656\n",
            " -0.09179688 -0.15234375 -0.06005859 -0.03833008 -0.0111084   0.05541992\n",
            "  0.07226562 -0.0098877   0.15820312 -0.04003906  0.1328125   0.1015625\n",
            " -0.03930664 -0.09472656 -0.14550781  0.01818848 -0.10302734  0.02453613\n",
            " -0.01831055 -0.03125    -0.03710938  0.00126648 -0.19042969 -0.09423828\n",
            " -0.20117188 -0.14257812  0.06176758 -0.13671875  0.06152344  0.01330566\n",
            "  0.04223633  0.15722656  0.06884766 -0.09082031  0.1015625  -0.11669922\n",
            "  0.02612305 -0.02270508 -0.04321289 -0.01867676 -0.03149414 -0.05688477\n",
            "  0.05175781 -0.06933594 -0.15527344  0.08789062 -0.04174805  0.07275391\n",
            "  0.18261719 -0.18066406 -0.00393677 -0.09521484 -0.07177734  0.0390625\n",
            " -0.03271484  0.08544922  0.06835938 -0.12109375  0.19921875 -0.05517578\n",
            " -0.03759766  0.10644531 -0.0300293  -0.08203125 -0.00915527 -0.12304688\n",
            " -0.01403809 -0.07177734  0.09423828 -0.05200195  0.0559082  -0.05200195\n",
            " -0.02636719  0.05834961 -0.11669922  0.05371094 -0.00166321 -0.04248047\n",
            " -0.1875     -0.04736328  0.23046875  0.17382812  0.00343323  0.07617188\n",
            " -0.00540161  0.012146    0.0100708  -0.02600098  0.02929688  0.13867188\n",
            " -0.00753784 -0.08984375  0.01556396  0.06835938 -0.09619141  0.19335938\n",
            " -0.10058594  0.01977539  0.02502441 -0.01501465  0.10449219  0.06933594\n",
            "  0.05761719  0.14746094  0.10595703  0.04467773 -0.2109375  -0.00317383\n",
            "  0.15527344 -0.0546875  -0.09179688 -0.0189209  -0.04980469 -0.0189209\n",
            " -0.14550781 -0.04931641  0.19433594 -0.08007812  0.10986328  0.04077148\n",
            "  0.05322266  0.10498047 -0.08837891 -0.11230469  0.16601562  0.05517578\n",
            " -0.03637695 -0.08203125 -0.0378418   0.09082031  0.11572266  0.14941406\n",
            " -0.0177002  -0.01489258 -0.03063965 -0.08105469 -0.07470703  0.00491333\n",
            "  0.10058594  0.03015137 -0.02539062  0.0135498  -0.08349609  0.00753784\n",
            "  0.01361084  0.03149414  0.00946045  0.01525879  0.21777344 -0.01293945\n",
            " -0.13867188 -0.09716797  0.10498047  0.02294922 -0.05444336 -0.00476074\n",
            "  0.07128906  0.13964844  0.12158203 -0.03564453 -0.14550781  0.00069427\n",
            "  0.140625    0.19433594  0.10888672  0.05493164  0.08642578 -0.01806641\n",
            "  0.02502441 -0.06835938  0.03637695 -0.06591797 -0.03930664  0.07666016\n",
            "  0.03979492  0.15234375  0.11425781 -0.02770996 -0.1328125  -0.1484375\n",
            " -0.05273438 -0.05004883 -0.06494141  0.00405884  0.01055908  0.06445312\n",
            "  0.01525879 -0.07666016  0.00366211  0.00765991  0.12011719 -0.1796875 ]\n"
          ]
        }
      ]
    },
    {
      "cell_type": "code",
      "metadata": {
        "id": "7U1hs4KH5e8k"
      },
      "source": [
        "import torch.nn as nn\n",
        "from torchtext.vocab import Vectors"
      ],
      "execution_count": null,
      "outputs": []
    },
    {
      "cell_type": "code",
      "metadata": {
        "colab": {
          "base_uri": "https://localhost:8080/",
          "height": 414
        },
        "id": "KSSQ0W205go2",
        "outputId": "c683295c-9862-4732-db1b-21dbc3d61ee3"
      },
      "source": [
        "vectors = Vectors(name=\"GoogleNews-vectors-negative300.bin.gz\")"
      ],
      "execution_count": null,
      "outputs": [
        {
          "output_type": "stream",
          "name": "stderr",
          "text": [
            "  0%|          | 0/4672122 [00:00<?, ?it/s]Skipping token b'3000000' with 1-dimensional vector [b'300']; likely a header\n",
            "  0%|          | 1/4672122 [00:00<3:55:43, 330.34it/s]\n"
          ]
        },
        {
          "output_type": "error",
          "ename": "ValueError",
          "evalue": "ignored",
          "traceback": [
            "\u001b[0;31m---------------------------------------------------------------------------\u001b[0m",
            "\u001b[0;31mValueError\u001b[0m                                Traceback (most recent call last)",
            "\u001b[0;32m<ipython-input-66-857ca9d22526>\u001b[0m in \u001b[0;36m<module>\u001b[0;34m()\u001b[0m\n\u001b[0;32m----> 1\u001b[0;31m \u001b[0mvectors\u001b[0m \u001b[0;34m=\u001b[0m \u001b[0mVectors\u001b[0m\u001b[0;34m(\u001b[0m\u001b[0mname\u001b[0m\u001b[0;34m=\u001b[0m\u001b[0;34m\"GoogleNews-vectors-negative300.bin.gz\"\u001b[0m\u001b[0;34m)\u001b[0m\u001b[0;34m\u001b[0m\u001b[0;34m\u001b[0m\u001b[0m\n\u001b[0m",
            "\u001b[0;32m/usr/local/lib/python3.7/dist-packages/torchtext/vocab.py\u001b[0m in \u001b[0;36m__init__\u001b[0;34m(self, name, cache, url, unk_init, max_vectors)\u001b[0m\n\u001b[1;32m    322\u001b[0m         \u001b[0mself\u001b[0m\u001b[0;34m.\u001b[0m\u001b[0mdim\u001b[0m \u001b[0;34m=\u001b[0m \u001b[0;32mNone\u001b[0m\u001b[0;34m\u001b[0m\u001b[0;34m\u001b[0m\u001b[0m\n\u001b[1;32m    323\u001b[0m         \u001b[0mself\u001b[0m\u001b[0;34m.\u001b[0m\u001b[0munk_init\u001b[0m \u001b[0;34m=\u001b[0m \u001b[0mtorch\u001b[0m\u001b[0;34m.\u001b[0m\u001b[0mTensor\u001b[0m\u001b[0;34m.\u001b[0m\u001b[0mzero_\u001b[0m \u001b[0;32mif\u001b[0m \u001b[0munk_init\u001b[0m \u001b[0;32mis\u001b[0m \u001b[0;32mNone\u001b[0m \u001b[0;32melse\u001b[0m \u001b[0munk_init\u001b[0m\u001b[0;34m\u001b[0m\u001b[0;34m\u001b[0m\u001b[0m\n\u001b[0;32m--> 324\u001b[0;31m         \u001b[0mself\u001b[0m\u001b[0;34m.\u001b[0m\u001b[0mcache\u001b[0m\u001b[0;34m(\u001b[0m\u001b[0mname\u001b[0m\u001b[0;34m,\u001b[0m \u001b[0mcache\u001b[0m\u001b[0;34m,\u001b[0m \u001b[0murl\u001b[0m\u001b[0;34m=\u001b[0m\u001b[0murl\u001b[0m\u001b[0;34m,\u001b[0m \u001b[0mmax_vectors\u001b[0m\u001b[0;34m=\u001b[0m\u001b[0mmax_vectors\u001b[0m\u001b[0;34m)\u001b[0m\u001b[0;34m\u001b[0m\u001b[0;34m\u001b[0m\u001b[0m\n\u001b[0m\u001b[1;32m    325\u001b[0m \u001b[0;34m\u001b[0m\u001b[0m\n\u001b[1;32m    326\u001b[0m     \u001b[0;32mdef\u001b[0m \u001b[0m__getitem__\u001b[0m\u001b[0;34m(\u001b[0m\u001b[0mself\u001b[0m\u001b[0;34m,\u001b[0m \u001b[0mtoken\u001b[0m\u001b[0;34m)\u001b[0m\u001b[0;34m:\u001b[0m\u001b[0;34m\u001b[0m\u001b[0;34m\u001b[0m\u001b[0m\n",
            "\u001b[0;32m/usr/local/lib/python3.7/dist-packages/torchtext/vocab.py\u001b[0m in \u001b[0;36mcache\u001b[0;34m(self, name, cache, url, max_vectors)\u001b[0m\n\u001b[1;32m    414\u001b[0m                         \u001b[0;32mcontinue\u001b[0m\u001b[0;34m\u001b[0m\u001b[0;34m\u001b[0m\u001b[0m\n\u001b[1;32m    415\u001b[0m \u001b[0;34m\u001b[0m\u001b[0m\n\u001b[0;32m--> 416\u001b[0;31m                     \u001b[0mvectors\u001b[0m\u001b[0;34m[\u001b[0m\u001b[0mvectors_loaded\u001b[0m\u001b[0;34m]\u001b[0m \u001b[0;34m=\u001b[0m \u001b[0mtorch\u001b[0m\u001b[0;34m.\u001b[0m\u001b[0mtensor\u001b[0m\u001b[0;34m(\u001b[0m\u001b[0;34m[\u001b[0m\u001b[0mfloat\u001b[0m\u001b[0;34m(\u001b[0m\u001b[0mx\u001b[0m\u001b[0;34m)\u001b[0m \u001b[0;32mfor\u001b[0m \u001b[0mx\u001b[0m \u001b[0;32min\u001b[0m \u001b[0mentries\u001b[0m\u001b[0;34m]\u001b[0m\u001b[0;34m)\u001b[0m\u001b[0;34m\u001b[0m\u001b[0;34m\u001b[0m\u001b[0m\n\u001b[0m\u001b[1;32m    417\u001b[0m                     \u001b[0mvectors_loaded\u001b[0m \u001b[0;34m+=\u001b[0m \u001b[0;36m1\u001b[0m\u001b[0;34m\u001b[0m\u001b[0;34m\u001b[0m\u001b[0m\n\u001b[1;32m    418\u001b[0m                     \u001b[0mitos\u001b[0m\u001b[0;34m.\u001b[0m\u001b[0mappend\u001b[0m\u001b[0;34m(\u001b[0m\u001b[0mword\u001b[0m\u001b[0;34m)\u001b[0m\u001b[0;34m\u001b[0m\u001b[0;34m\u001b[0m\u001b[0m\n",
            "\u001b[0;32m/usr/local/lib/python3.7/dist-packages/torchtext/vocab.py\u001b[0m in \u001b[0;36m<listcomp>\u001b[0;34m(.0)\u001b[0m\n\u001b[1;32m    414\u001b[0m                         \u001b[0;32mcontinue\u001b[0m\u001b[0;34m\u001b[0m\u001b[0;34m\u001b[0m\u001b[0m\n\u001b[1;32m    415\u001b[0m \u001b[0;34m\u001b[0m\u001b[0m\n\u001b[0;32m--> 416\u001b[0;31m                     \u001b[0mvectors\u001b[0m\u001b[0;34m[\u001b[0m\u001b[0mvectors_loaded\u001b[0m\u001b[0;34m]\u001b[0m \u001b[0;34m=\u001b[0m \u001b[0mtorch\u001b[0m\u001b[0;34m.\u001b[0m\u001b[0mtensor\u001b[0m\u001b[0;34m(\u001b[0m\u001b[0;34m[\u001b[0m\u001b[0mfloat\u001b[0m\u001b[0;34m(\u001b[0m\u001b[0mx\u001b[0m\u001b[0;34m)\u001b[0m \u001b[0;32mfor\u001b[0m \u001b[0mx\u001b[0m \u001b[0;32min\u001b[0m \u001b[0mentries\u001b[0m\u001b[0;34m]\u001b[0m\u001b[0;34m)\u001b[0m\u001b[0;34m\u001b[0m\u001b[0;34m\u001b[0m\u001b[0m\n\u001b[0m\u001b[1;32m    417\u001b[0m                     \u001b[0mvectors_loaded\u001b[0m \u001b[0;34m+=\u001b[0m \u001b[0;36m1\u001b[0m\u001b[0;34m\u001b[0m\u001b[0;34m\u001b[0m\u001b[0m\n\u001b[1;32m    418\u001b[0m                     \u001b[0mitos\u001b[0m\u001b[0;34m.\u001b[0m\u001b[0mappend\u001b[0m\u001b[0;34m(\u001b[0m\u001b[0mword\u001b[0m\u001b[0;34m)\u001b[0m\u001b[0;34m\u001b[0m\u001b[0;34m\u001b[0m\u001b[0m\n",
            "\u001b[0;31mValueError\u001b[0m: could not convert string to float: b'\\x00\\x00\\x94:\\x00\\x00k\\xba\\x00\\x00\\xa79\\x00\\x00\\xc9:\\x00\\x00\\x91:\\x00\\x00\\xb8\\xba\\x00\\x00\\x00\\xb8\\x00\\x00\\xdc\\xb9\\x00\\x00\\x17\\xba\\x00\\x00\\x8d:\\x00\\x00\\x86\\xba\\x00\\x00\"\\xba\\x00\\x00F\\xba\\x00\\x00\\xb8:\\x00\\x00\\xd7\\xba\\x00\\x00&\\xba\\x00\\x00\\xd6:\\x00\\x00\\x84\\xba\\x00\\x00\\xa6\\xba\\x00\\x00+:\\x00\\x00\\xda\\xb9\\x00\\x00\\x8d\\xba\\x00\\x00\\xc8:\\x00\\x00\\x90\\xb9\\x00\\x00\\x139\\x00\\x00\\xce:\\x00\\x00\\xb2:\\x00\\x00Z\\xba\\x00\\x00\\xb8\\xba\\x00\\x00\\xcf:\\x00\\x00\\x859\\x00\\x00@\\xba\\x00\\x00\\xdd\\xb8\\x00\\x00\\x99\\xba\\x00\\x00\\xcf:\\x00\\x00,:\\x00\\x00-\\xba\\x00\\x00D6\\x00\\x00\\x94:\\x00\\x00\\xe09\\x00\\x00\\xc2\\xb9\\x00\\x00\\x97\\xba\\x00\\x00\\xa6:\\x00\\x00l\\xb6\\x00\\x00\\x8b9\\x00\\x00\\xd3\\xb9\\x00\\x00\\x149\\x00\\x00\\r\\xb8\\x00\\x00G:\\x00\\x00\\x08\\xba\\x00\\x00\\x95\\xb8\\x00\\x00\\x1e:\\x00\\x00\\x05\\xba\\x00\\x00\\xd5\\xba\\x00\\x00\\xe5\\xb9\\x00\\x00\\x82\\xba\\x00\\x00\\xa0\\xba\\x00\\x00\\xa9\\xb9\\x00\\x00\\x908\\x00\\x00\\x99\\xba\\x00\\x00\\x06\\xba\\x00\\x00\\xb9:\\x00\\x00\\xb09\\x00\\x00\\xf9\\xb9\\x00\\x00\\xb4\\xba\\x00\\x00\\xc09\\x00\\x00\\xbd\\xba\\x00\\x00\\x1f\\xba\\x00\\x00R:\\x00\\x00\\x94:\\x00\\x00[\\xba\\x00\\x00\\x98\\xba\\x00\\x00p:\\x00\\x00\\t:\\x00\\x00\\xac\\xb9\\x00\\x00\\xd1:\\x00\\x00\\xcf\\xba\\x00\\x00\\xbb\\xb9\\x00\\x00\\x02:\\x00\\x00\\x85:\\x00\\x00\\x90\\xba\\x00\\x00.\\xb9\\x00\\x00\\x15\\xb9\\x00\\x00\\x89\\xb9\\x00\\x00\\xa5:\\x00\\x00\"8\\x00\\x0019\\x00\\x00\\x87\\xba\\x00\\x00\\xd3:\\x00\\x00%:\\x00\\x00\\xdb9\\x00\\x00\\xb1\\xba\\x00\\x00\\xb79\\x00\\x00\\x96:\\x00\\x00\\x9e\\xba\\x00\\x00\\x9b\\xba\\x00\\x00y:\\x00\\x00~8\\x00\\x0047\\x00\\x00/\\xba\\x00\\x00\\xa3:\\x00\\x005:\\x00\\x00i8\\x00\\x00b\\xba\\x..."
          ]
        }
      ]
    },
    {
      "cell_type": "code",
      "metadata": {
        "id": "PjmZmW76WSo9"
      },
      "source": [
        "from sklearn.feature_extraction.text import CountVectorizer\n",
        "from sklearn.model_selection import train_test_split, cross_val_score\n",
        "from sklearn.metrics import classification_report\n",
        "from sklearn.metrics import confusion_matrix, accuracy_score, roc_auc_score, roc_curve\n",
        "from sklearn.model_selection import GridSearchCV"
      ],
      "execution_count": null,
      "outputs": []
    },
    {
      "cell_type": "code",
      "metadata": {
        "id": "h7xph9RqWHhR"
      },
      "source": [
        "class SentimentDataset(object):\n",
        "    def __init__(self, pos, neg):\n",
        "        self.data = []\n",
        "        self.label = []\n",
        "\n",
        "        for pos_sent in pos:\n",
        "            self.data += pos_sent\n",
        "            self.label += [[1]]\n",
        "        for neg_sent in neg:\n",
        "            self.data += neg_sent\n",
        "            self.label += [[0]]\n",
        "          \n",
        "        self.df = pd.DataFrame({\n",
        "            'data': self.data,\n",
        "            'label': self. label})\n",
        "\n",
        "    def _cast_to_int(self, sample):\n",
        "        return [int(word_id) for word_id in sample]\n",
        "\n",
        "    def __len__(self):\n",
        "        return len(self.data)\n",
        "\n",
        "    def __getitem__(self, index):\n",
        "        sample = self.data[index]\n",
        "        return np.array(sample), np.array(self.label[index])"
      ],
      "execution_count": null,
      "outputs": []
    },
    {
      "cell_type": "code",
      "metadata": {
        "id": "BmYtK847WJQ9"
      },
      "source": [
        "train_dataset = SentimentDataset(tokenizer, train_pos, train_neg)\n",
        "dev_dataset = SentimentDataset(tokenizer, dev_pos, dev_neg)"
      ],
      "execution_count": null,
      "outputs": []
    },
    {
      "cell_type": "code",
      "metadata": {
        "colab": {
          "base_uri": "https://localhost:8080/"
        },
        "id": "nAfTm1OsWKaF",
        "outputId": "5abf959b-871a-4ea4-b03e-d00bb956b1a0"
      },
      "source": [
        "for i, item in enumerate(train_dataset):\n",
        "    print(item)\n",
        "    if i == 10:\n",
        "        break"
      ],
      "execution_count": null,
      "outputs": [
        {
          "output_type": "stream",
          "name": "stdout",
          "text": [
            "(array([ 101, 6581, 2833, 1012,  102]), array([1]))\n",
            "(array([  101, 21688,  8013,  2326,  1012,   102]), array([1]))\n",
            "(array([  101,  2027,  2036,  2031,  3679, 19247,  1998,  3256,  6949,\n",
            "        2029,  2003,  2428,  2204,  1012,   102]), array([1]))\n",
            "(array([  101,  2009,  1005,  1055,  1037,  2204, 15174,  2098,  7570,\n",
            "       22974,  2063,  1012,   102]), array([1]))\n",
            "(array([ 101, 1996, 3095, 2003, 5379, 1012,  102]), array([1]))\n",
            "(array([ 101, 2204, 3347, 2833, 1012,  102]), array([1]))\n",
            "(array([ 101, 2204, 2326, 1012,  102]), array([1]))\n",
            "(array([  101, 11350,  1997,  2154,  2003, 25628,  1998,  7167,  1997,\n",
            "       19247,  1012,   102]), array([1]))\n",
            "(array([  101,  2307,  2173,  2005,  6265,  2030,  3347, 27962,  1998,\n",
            "        5404,  1012,   102]), array([1]))\n",
            "(array([ 101, 1996, 2047, 2846, 3504, 6429, 1012,  102]), array([1]))\n",
            "(array([ 101, 2023, 2173, 2001, 2200, 2204, 1012,  102]), array([1]))\n"
          ]
        }
      ]
    },
    {
      "cell_type": "code",
      "metadata": {
        "id": "I7UZLKVhWLcb"
      },
      "source": [
        "def collate_fn_sentiment(samples):\n",
        "    input_ids, labels = zip(*samples)\n",
        "    max_len = max(len(input_id) for input_id in input_ids)\n",
        "    sorted_indices = np.argsort([len(input_id) for input_id in input_ids])[::-1]\n",
        "\n",
        "    input_ids = pad_sequence([torch.tensor(input_ids[index]) for index in sorted_indices],\n",
        "                             batch_first=True)\n",
        "    attention_mask = torch.tensor(\n",
        "        [[1] * len(input_ids[index]) + [0] * (max_len - len(input_ids[index])) for index in\n",
        "         sorted_indices])\n",
        "    token_type_ids = torch.tensor([[0] * len(input_ids[index]) for index in sorted_indices])\n",
        "    position_ids = torch.tensor([list(range(len(input_ids[index]))) for index in sorted_indices])\n",
        "    labels = torch.tensor(np.stack(labels, axis=0)[sorted_indices])\n",
        "\n",
        "    return input_ids, attention_mask, token_type_ids, position_ids, labels"
      ],
      "execution_count": null,
      "outputs": []
    },
    {
      "cell_type": "code",
      "metadata": {
        "colab": {
          "base_uri": "https://localhost:8080/"
        },
        "id": "-raPYQrsWMyw",
        "outputId": "13cbc950-bcec-423d-9136-704092a4f744"
      },
      "source": [
        "train_batch_size=64\n",
        "eval_batch_size=64\n",
        "\n",
        "train_loader = torch.utils.data.DataLoader(train_dataset,\n",
        "                                           batch_size=train_batch_size,\n",
        "                                           shuffle=True, collate_fn=collate_fn_sentiment,\n",
        "                                           pin_memory=True, num_workers=4)\n",
        "dev_loader = torch.utils.data.DataLoader(dev_dataset, batch_size=eval_batch_size,\n",
        "                                         shuffle=False, collate_fn=collate_fn_sentiment,\n",
        "                                         num_workers=2)"
      ],
      "execution_count": null,
      "outputs": [
        {
          "output_type": "stream",
          "name": "stderr",
          "text": [
            "/usr/local/lib/python3.7/dist-packages/torch/utils/data/dataloader.py:481: UserWarning: This DataLoader will create 4 worker processes in total. Our suggested max number of worker in current system is 2, which is smaller than what this DataLoader is going to create. Please be aware that excessive worker creation might get DataLoader running slow or even freeze, lower the worker number to avoid potential slowness/freeze if necessary.\n",
            "  cpuset_checked))\n"
          ]
        }
      ]
    },
    {
      "cell_type": "code",
      "metadata": {
        "colab": {
          "base_uri": "https://localhost:8080/",
          "height": 1000,
          "referenced_widgets": [
            "2e35a7dd49ad4434bc165870852c6579",
            "c8a120cd971e473b8135581f68837915",
            "7ca55aca24434d96902f90c6a32b5a88",
            "7d5cf386f1f64ab1997a9c515357618c",
            "a7cdd770f7c74a1988d77b69b96a3f12",
            "b86ec54ab8644502ae078bf023cf3cc4",
            "f112e0d93fbd4730bd4c26aa9d2d10e2",
            "28c26ebf174446869b75ea4823d11d06",
            "5a5f17f36b114ac6afb01c81818f0344",
            "128efb0734b640e6875a76a4d20dbaa3",
            "5758483bb277446d814cf5e99adb20e7"
          ]
        },
        "id": "y5PztJzPWOBc",
        "outputId": "98adfdc9-82c4-4b6a-a6a0-a269e13c77fe"
      },
      "source": [
        "# random seed\n",
        "random_seed=42\n",
        "np.random.seed(random_seed)\n",
        "torch.manual_seed(random_seed)\n",
        "\n",
        "device = torch.device('cuda' if torch.cuda.is_available() else 'cpu')\n",
        "\n",
        "model = BertForSequenceClassification.from_pretrained('bert-base-uncased')\n",
        "model.to(device)"
      ],
      "execution_count": null,
      "outputs": [
        {
          "output_type": "display_data",
          "data": {
            "application/vnd.jupyter.widget-view+json": {
              "model_id": "2e35a7dd49ad4434bc165870852c6579",
              "version_minor": 0,
              "version_major": 2
            },
            "text/plain": [
              "Downloading:   0%|          | 0.00/420M [00:00<?, ?B/s]"
            ]
          },
          "metadata": {}
        },
        {
          "output_type": "stream",
          "name": "stderr",
          "text": [
            "Some weights of the model checkpoint at bert-base-uncased were not used when initializing BertForSequenceClassification: ['cls.predictions.transform.LayerNorm.weight', 'cls.predictions.bias', 'cls.seq_relationship.weight', 'cls.predictions.transform.dense.weight', 'cls.predictions.decoder.weight', 'cls.predictions.transform.LayerNorm.bias', 'cls.seq_relationship.bias', 'cls.predictions.transform.dense.bias']\n",
            "- This IS expected if you are initializing BertForSequenceClassification from the checkpoint of a model trained on another task or with another architecture (e.g. initializing a BertForSequenceClassification model from a BertForPreTraining model).\n",
            "- This IS NOT expected if you are initializing BertForSequenceClassification from the checkpoint of a model that you expect to be exactly identical (initializing a BertForSequenceClassification model from a BertForSequenceClassification model).\n",
            "Some weights of BertForSequenceClassification were not initialized from the model checkpoint at bert-base-uncased and are newly initialized: ['classifier.weight', 'classifier.bias']\n",
            "You should probably TRAIN this model on a down-stream task to be able to use it for predictions and inference.\n"
          ]
        },
        {
          "output_type": "execute_result",
          "data": {
            "text/plain": [
              "BertForSequenceClassification(\n",
              "  (bert): BertModel(\n",
              "    (embeddings): BertEmbeddings(\n",
              "      (word_embeddings): Embedding(30522, 768, padding_idx=0)\n",
              "      (position_embeddings): Embedding(512, 768)\n",
              "      (token_type_embeddings): Embedding(2, 768)\n",
              "      (LayerNorm): LayerNorm((768,), eps=1e-12, elementwise_affine=True)\n",
              "      (dropout): Dropout(p=0.1, inplace=False)\n",
              "    )\n",
              "    (encoder): BertEncoder(\n",
              "      (layer): ModuleList(\n",
              "        (0): BertLayer(\n",
              "          (attention): BertAttention(\n",
              "            (self): BertSelfAttention(\n",
              "              (query): Linear(in_features=768, out_features=768, bias=True)\n",
              "              (key): Linear(in_features=768, out_features=768, bias=True)\n",
              "              (value): Linear(in_features=768, out_features=768, bias=True)\n",
              "              (dropout): Dropout(p=0.1, inplace=False)\n",
              "            )\n",
              "            (output): BertSelfOutput(\n",
              "              (dense): Linear(in_features=768, out_features=768, bias=True)\n",
              "              (LayerNorm): LayerNorm((768,), eps=1e-12, elementwise_affine=True)\n",
              "              (dropout): Dropout(p=0.1, inplace=False)\n",
              "            )\n",
              "          )\n",
              "          (intermediate): BertIntermediate(\n",
              "            (dense): Linear(in_features=768, out_features=3072, bias=True)\n",
              "          )\n",
              "          (output): BertOutput(\n",
              "            (dense): Linear(in_features=3072, out_features=768, bias=True)\n",
              "            (LayerNorm): LayerNorm((768,), eps=1e-12, elementwise_affine=True)\n",
              "            (dropout): Dropout(p=0.1, inplace=False)\n",
              "          )\n",
              "        )\n",
              "        (1): BertLayer(\n",
              "          (attention): BertAttention(\n",
              "            (self): BertSelfAttention(\n",
              "              (query): Linear(in_features=768, out_features=768, bias=True)\n",
              "              (key): Linear(in_features=768, out_features=768, bias=True)\n",
              "              (value): Linear(in_features=768, out_features=768, bias=True)\n",
              "              (dropout): Dropout(p=0.1, inplace=False)\n",
              "            )\n",
              "            (output): BertSelfOutput(\n",
              "              (dense): Linear(in_features=768, out_features=768, bias=True)\n",
              "              (LayerNorm): LayerNorm((768,), eps=1e-12, elementwise_affine=True)\n",
              "              (dropout): Dropout(p=0.1, inplace=False)\n",
              "            )\n",
              "          )\n",
              "          (intermediate): BertIntermediate(\n",
              "            (dense): Linear(in_features=768, out_features=3072, bias=True)\n",
              "          )\n",
              "          (output): BertOutput(\n",
              "            (dense): Linear(in_features=3072, out_features=768, bias=True)\n",
              "            (LayerNorm): LayerNorm((768,), eps=1e-12, elementwise_affine=True)\n",
              "            (dropout): Dropout(p=0.1, inplace=False)\n",
              "          )\n",
              "        )\n",
              "        (2): BertLayer(\n",
              "          (attention): BertAttention(\n",
              "            (self): BertSelfAttention(\n",
              "              (query): Linear(in_features=768, out_features=768, bias=True)\n",
              "              (key): Linear(in_features=768, out_features=768, bias=True)\n",
              "              (value): Linear(in_features=768, out_features=768, bias=True)\n",
              "              (dropout): Dropout(p=0.1, inplace=False)\n",
              "            )\n",
              "            (output): BertSelfOutput(\n",
              "              (dense): Linear(in_features=768, out_features=768, bias=True)\n",
              "              (LayerNorm): LayerNorm((768,), eps=1e-12, elementwise_affine=True)\n",
              "              (dropout): Dropout(p=0.1, inplace=False)\n",
              "            )\n",
              "          )\n",
              "          (intermediate): BertIntermediate(\n",
              "            (dense): Linear(in_features=768, out_features=3072, bias=True)\n",
              "          )\n",
              "          (output): BertOutput(\n",
              "            (dense): Linear(in_features=3072, out_features=768, bias=True)\n",
              "            (LayerNorm): LayerNorm((768,), eps=1e-12, elementwise_affine=True)\n",
              "            (dropout): Dropout(p=0.1, inplace=False)\n",
              "          )\n",
              "        )\n",
              "        (3): BertLayer(\n",
              "          (attention): BertAttention(\n",
              "            (self): BertSelfAttention(\n",
              "              (query): Linear(in_features=768, out_features=768, bias=True)\n",
              "              (key): Linear(in_features=768, out_features=768, bias=True)\n",
              "              (value): Linear(in_features=768, out_features=768, bias=True)\n",
              "              (dropout): Dropout(p=0.1, inplace=False)\n",
              "            )\n",
              "            (output): BertSelfOutput(\n",
              "              (dense): Linear(in_features=768, out_features=768, bias=True)\n",
              "              (LayerNorm): LayerNorm((768,), eps=1e-12, elementwise_affine=True)\n",
              "              (dropout): Dropout(p=0.1, inplace=False)\n",
              "            )\n",
              "          )\n",
              "          (intermediate): BertIntermediate(\n",
              "            (dense): Linear(in_features=768, out_features=3072, bias=True)\n",
              "          )\n",
              "          (output): BertOutput(\n",
              "            (dense): Linear(in_features=3072, out_features=768, bias=True)\n",
              "            (LayerNorm): LayerNorm((768,), eps=1e-12, elementwise_affine=True)\n",
              "            (dropout): Dropout(p=0.1, inplace=False)\n",
              "          )\n",
              "        )\n",
              "        (4): BertLayer(\n",
              "          (attention): BertAttention(\n",
              "            (self): BertSelfAttention(\n",
              "              (query): Linear(in_features=768, out_features=768, bias=True)\n",
              "              (key): Linear(in_features=768, out_features=768, bias=True)\n",
              "              (value): Linear(in_features=768, out_features=768, bias=True)\n",
              "              (dropout): Dropout(p=0.1, inplace=False)\n",
              "            )\n",
              "            (output): BertSelfOutput(\n",
              "              (dense): Linear(in_features=768, out_features=768, bias=True)\n",
              "              (LayerNorm): LayerNorm((768,), eps=1e-12, elementwise_affine=True)\n",
              "              (dropout): Dropout(p=0.1, inplace=False)\n",
              "            )\n",
              "          )\n",
              "          (intermediate): BertIntermediate(\n",
              "            (dense): Linear(in_features=768, out_features=3072, bias=True)\n",
              "          )\n",
              "          (output): BertOutput(\n",
              "            (dense): Linear(in_features=3072, out_features=768, bias=True)\n",
              "            (LayerNorm): LayerNorm((768,), eps=1e-12, elementwise_affine=True)\n",
              "            (dropout): Dropout(p=0.1, inplace=False)\n",
              "          )\n",
              "        )\n",
              "        (5): BertLayer(\n",
              "          (attention): BertAttention(\n",
              "            (self): BertSelfAttention(\n",
              "              (query): Linear(in_features=768, out_features=768, bias=True)\n",
              "              (key): Linear(in_features=768, out_features=768, bias=True)\n",
              "              (value): Linear(in_features=768, out_features=768, bias=True)\n",
              "              (dropout): Dropout(p=0.1, inplace=False)\n",
              "            )\n",
              "            (output): BertSelfOutput(\n",
              "              (dense): Linear(in_features=768, out_features=768, bias=True)\n",
              "              (LayerNorm): LayerNorm((768,), eps=1e-12, elementwise_affine=True)\n",
              "              (dropout): Dropout(p=0.1, inplace=False)\n",
              "            )\n",
              "          )\n",
              "          (intermediate): BertIntermediate(\n",
              "            (dense): Linear(in_features=768, out_features=3072, bias=True)\n",
              "          )\n",
              "          (output): BertOutput(\n",
              "            (dense): Linear(in_features=3072, out_features=768, bias=True)\n",
              "            (LayerNorm): LayerNorm((768,), eps=1e-12, elementwise_affine=True)\n",
              "            (dropout): Dropout(p=0.1, inplace=False)\n",
              "          )\n",
              "        )\n",
              "        (6): BertLayer(\n",
              "          (attention): BertAttention(\n",
              "            (self): BertSelfAttention(\n",
              "              (query): Linear(in_features=768, out_features=768, bias=True)\n",
              "              (key): Linear(in_features=768, out_features=768, bias=True)\n",
              "              (value): Linear(in_features=768, out_features=768, bias=True)\n",
              "              (dropout): Dropout(p=0.1, inplace=False)\n",
              "            )\n",
              "            (output): BertSelfOutput(\n",
              "              (dense): Linear(in_features=768, out_features=768, bias=True)\n",
              "              (LayerNorm): LayerNorm((768,), eps=1e-12, elementwise_affine=True)\n",
              "              (dropout): Dropout(p=0.1, inplace=False)\n",
              "            )\n",
              "          )\n",
              "          (intermediate): BertIntermediate(\n",
              "            (dense): Linear(in_features=768, out_features=3072, bias=True)\n",
              "          )\n",
              "          (output): BertOutput(\n",
              "            (dense): Linear(in_features=3072, out_features=768, bias=True)\n",
              "            (LayerNorm): LayerNorm((768,), eps=1e-12, elementwise_affine=True)\n",
              "            (dropout): Dropout(p=0.1, inplace=False)\n",
              "          )\n",
              "        )\n",
              "        (7): BertLayer(\n",
              "          (attention): BertAttention(\n",
              "            (self): BertSelfAttention(\n",
              "              (query): Linear(in_features=768, out_features=768, bias=True)\n",
              "              (key): Linear(in_features=768, out_features=768, bias=True)\n",
              "              (value): Linear(in_features=768, out_features=768, bias=True)\n",
              "              (dropout): Dropout(p=0.1, inplace=False)\n",
              "            )\n",
              "            (output): BertSelfOutput(\n",
              "              (dense): Linear(in_features=768, out_features=768, bias=True)\n",
              "              (LayerNorm): LayerNorm((768,), eps=1e-12, elementwise_affine=True)\n",
              "              (dropout): Dropout(p=0.1, inplace=False)\n",
              "            )\n",
              "          )\n",
              "          (intermediate): BertIntermediate(\n",
              "            (dense): Linear(in_features=768, out_features=3072, bias=True)\n",
              "          )\n",
              "          (output): BertOutput(\n",
              "            (dense): Linear(in_features=3072, out_features=768, bias=True)\n",
              "            (LayerNorm): LayerNorm((768,), eps=1e-12, elementwise_affine=True)\n",
              "            (dropout): Dropout(p=0.1, inplace=False)\n",
              "          )\n",
              "        )\n",
              "        (8): BertLayer(\n",
              "          (attention): BertAttention(\n",
              "            (self): BertSelfAttention(\n",
              "              (query): Linear(in_features=768, out_features=768, bias=True)\n",
              "              (key): Linear(in_features=768, out_features=768, bias=True)\n",
              "              (value): Linear(in_features=768, out_features=768, bias=True)\n",
              "              (dropout): Dropout(p=0.1, inplace=False)\n",
              "            )\n",
              "            (output): BertSelfOutput(\n",
              "              (dense): Linear(in_features=768, out_features=768, bias=True)\n",
              "              (LayerNorm): LayerNorm((768,), eps=1e-12, elementwise_affine=True)\n",
              "              (dropout): Dropout(p=0.1, inplace=False)\n",
              "            )\n",
              "          )\n",
              "          (intermediate): BertIntermediate(\n",
              "            (dense): Linear(in_features=768, out_features=3072, bias=True)\n",
              "          )\n",
              "          (output): BertOutput(\n",
              "            (dense): Linear(in_features=3072, out_features=768, bias=True)\n",
              "            (LayerNorm): LayerNorm((768,), eps=1e-12, elementwise_affine=True)\n",
              "            (dropout): Dropout(p=0.1, inplace=False)\n",
              "          )\n",
              "        )\n",
              "        (9): BertLayer(\n",
              "          (attention): BertAttention(\n",
              "            (self): BertSelfAttention(\n",
              "              (query): Linear(in_features=768, out_features=768, bias=True)\n",
              "              (key): Linear(in_features=768, out_features=768, bias=True)\n",
              "              (value): Linear(in_features=768, out_features=768, bias=True)\n",
              "              (dropout): Dropout(p=0.1, inplace=False)\n",
              "            )\n",
              "            (output): BertSelfOutput(\n",
              "              (dense): Linear(in_features=768, out_features=768, bias=True)\n",
              "              (LayerNorm): LayerNorm((768,), eps=1e-12, elementwise_affine=True)\n",
              "              (dropout): Dropout(p=0.1, inplace=False)\n",
              "            )\n",
              "          )\n",
              "          (intermediate): BertIntermediate(\n",
              "            (dense): Linear(in_features=768, out_features=3072, bias=True)\n",
              "          )\n",
              "          (output): BertOutput(\n",
              "            (dense): Linear(in_features=3072, out_features=768, bias=True)\n",
              "            (LayerNorm): LayerNorm((768,), eps=1e-12, elementwise_affine=True)\n",
              "            (dropout): Dropout(p=0.1, inplace=False)\n",
              "          )\n",
              "        )\n",
              "        (10): BertLayer(\n",
              "          (attention): BertAttention(\n",
              "            (self): BertSelfAttention(\n",
              "              (query): Linear(in_features=768, out_features=768, bias=True)\n",
              "              (key): Linear(in_features=768, out_features=768, bias=True)\n",
              "              (value): Linear(in_features=768, out_features=768, bias=True)\n",
              "              (dropout): Dropout(p=0.1, inplace=False)\n",
              "            )\n",
              "            (output): BertSelfOutput(\n",
              "              (dense): Linear(in_features=768, out_features=768, bias=True)\n",
              "              (LayerNorm): LayerNorm((768,), eps=1e-12, elementwise_affine=True)\n",
              "              (dropout): Dropout(p=0.1, inplace=False)\n",
              "            )\n",
              "          )\n",
              "          (intermediate): BertIntermediate(\n",
              "            (dense): Linear(in_features=768, out_features=3072, bias=True)\n",
              "          )\n",
              "          (output): BertOutput(\n",
              "            (dense): Linear(in_features=3072, out_features=768, bias=True)\n",
              "            (LayerNorm): LayerNorm((768,), eps=1e-12, elementwise_affine=True)\n",
              "            (dropout): Dropout(p=0.1, inplace=False)\n",
              "          )\n",
              "        )\n",
              "        (11): BertLayer(\n",
              "          (attention): BertAttention(\n",
              "            (self): BertSelfAttention(\n",
              "              (query): Linear(in_features=768, out_features=768, bias=True)\n",
              "              (key): Linear(in_features=768, out_features=768, bias=True)\n",
              "              (value): Linear(in_features=768, out_features=768, bias=True)\n",
              "              (dropout): Dropout(p=0.1, inplace=False)\n",
              "            )\n",
              "            (output): BertSelfOutput(\n",
              "              (dense): Linear(in_features=768, out_features=768, bias=True)\n",
              "              (LayerNorm): LayerNorm((768,), eps=1e-12, elementwise_affine=True)\n",
              "              (dropout): Dropout(p=0.1, inplace=False)\n",
              "            )\n",
              "          )\n",
              "          (intermediate): BertIntermediate(\n",
              "            (dense): Linear(in_features=768, out_features=3072, bias=True)\n",
              "          )\n",
              "          (output): BertOutput(\n",
              "            (dense): Linear(in_features=3072, out_features=768, bias=True)\n",
              "            (LayerNorm): LayerNorm((768,), eps=1e-12, elementwise_affine=True)\n",
              "            (dropout): Dropout(p=0.1, inplace=False)\n",
              "          )\n",
              "        )\n",
              "      )\n",
              "    )\n",
              "    (pooler): BertPooler(\n",
              "      (dense): Linear(in_features=768, out_features=768, bias=True)\n",
              "      (activation): Tanh()\n",
              "    )\n",
              "  )\n",
              "  (dropout): Dropout(p=0.1, inplace=False)\n",
              "  (classifier): Linear(in_features=768, out_features=2, bias=True)\n",
              ")"
            ]
          },
          "metadata": {},
          "execution_count": 22
        }
      ]
    },
    {
      "cell_type": "code",
      "metadata": {
        "id": "Ah71s9r1WPYa"
      },
      "source": [
        "model.train()\n",
        "learning_rate = 5e-5\n",
        "optimizer = AdamW(model.parameters(), lr=learning_rate)"
      ],
      "execution_count": null,
      "outputs": []
    },
    {
      "cell_type": "code",
      "metadata": {
        "id": "ngniNWIeW6Yc"
      },
      "source": [
        "def compute_acc(predictions, target_labels):\n",
        "    return (np.array(predictions) == np.array(target_labels)).mean()"
      ],
      "execution_count": null,
      "outputs": []
    },
    {
      "cell_type": "code",
      "metadata": {
        "colab": {
          "base_uri": "https://localhost:8080/"
        },
        "id": "mjWgP5KrW7Wt",
        "outputId": "e3618741-b362-4ce8-cf47-530a938bb62f"
      },
      "source": [
        "train_epoch = 1\n",
        "lowest_valid_loss = 9999.\n",
        "for epoch in range(train_epoch):\n",
        "    with tqdm(train_loader, unit=\"batch\") as tepoch:\n",
        "        for iteration, (input_ids, attention_mask, token_type_ids, position_ids, labels) in enumerate(tepoch):\n",
        "            tepoch.set_description(f\"Epoch {epoch}\")\n",
        "            input_ids = input_ids.to(device)\n",
        "            attention_mask = attention_mask.to(device)\n",
        "            token_type_ids = token_type_ids.to(device)\n",
        "            position_ids = position_ids.to(device)\n",
        "            labels = labels.to(device, dtype=torch.long)\n",
        "\n",
        "            optimizer.zero_grad()\n",
        "\n",
        "            output = model(input_ids=input_ids,\n",
        "                           attention_mask=attention_mask,\n",
        "                           token_type_ids=token_type_ids,\n",
        "                           position_ids=position_ids,\n",
        "                           labels=labels)\n",
        "\n",
        "            loss = output.loss\n",
        "            loss.backward()\n",
        "\n",
        "            optimizer.step()\n",
        "\n",
        "            tepoch.set_postfix(loss=loss.item())\n",
        "            if iteration != 0 and iteration % int(len(train_loader) / 5) == 0:\n",
        "                # Evaluate the model five times per epoch\n",
        "                with torch.no_grad():\n",
        "                    model.eval()\n",
        "                    valid_losses = []\n",
        "                    predictions = []\n",
        "                    target_labels = []\n",
        "                    for input_ids, attention_mask, token_type_ids, position_ids, labels in tqdm(dev_loader,\n",
        "                                                                                                desc='Eval',\n",
        "                                                                                                position=1,\n",
        "                                                                                                leave=None):\n",
        "                        input_ids = input_ids.to(device)\n",
        "                        attention_mask = attention_mask.to(device)\n",
        "                        token_type_ids = token_type_ids.to(device)\n",
        "                        position_ids = position_ids.to(device)\n",
        "                        labels = labels.to(device, dtype=torch.long)\n",
        "\n",
        "                        output = model(input_ids=input_ids,\n",
        "                                       attention_mask=attention_mask,\n",
        "                                       token_type_ids=token_type_ids,\n",
        "                                       position_ids=position_ids,\n",
        "                                       labels=labels)\n",
        "\n",
        "                        logits = output.logits\n",
        "                        loss = output.loss\n",
        "                        valid_losses.append(loss.item())\n",
        "\n",
        "                        batch_predictions = [0 if example[0] > example[1] else 1 for example in logits]\n",
        "                        batch_labels = [int(example) for example in labels]\n",
        "\n",
        "                        predictions += batch_predictions\n",
        "                        target_labels += batch_labels\n",
        "\n",
        "                acc = compute_acc(predictions, target_labels)\n",
        "                valid_loss = sum(valid_losses) / len(valid_losses)\n",
        "                if lowest_valid_loss > valid_loss:\n",
        "                    print('Acc for model which have lower valid loss: ', acc)"
      ],
      "execution_count": null,
      "outputs": [
        {
          "output_type": "stream",
          "name": "stderr",
          "text": [
            "\r  0%|          | 0/6926 [00:00<?, ?batch/s]/usr/local/lib/python3.7/dist-packages/torch/utils/data/dataloader.py:481: UserWarning: This DataLoader will create 4 worker processes in total. Our suggested max number of worker in current system is 2, which is smaller than what this DataLoader is going to create. Please be aware that excessive worker creation might get DataLoader running slow or even freeze, lower the worker number to avoid potential slowness/freeze if necessary.\n",
            "  cpuset_checked))\n",
            "Epoch 0:  20%|█▉        | 1385/6926 [11:04<44:58,  2.05batch/s, loss=0.103]\n",
            "Eval:   0%|          | 0/63 [00:00<?, ?it/s]\u001b[A\n",
            "Eval:   2%|▏         | 1/63 [00:00<00:14,  4.14it/s]\u001b[A\n",
            "Eval:   3%|▎         | 2/63 [00:00<00:11,  5.16it/s]\u001b[A\n",
            "Eval:   5%|▍         | 3/63 [00:00<00:10,  5.87it/s]\u001b[A\n",
            "Eval:   6%|▋         | 4/63 [00:00<00:09,  6.04it/s]\u001b[A\n",
            "Eval:   8%|▊         | 5/63 [00:00<00:09,  5.88it/s]\u001b[A\n",
            "Eval:  10%|▉         | 6/63 [00:01<00:09,  5.84it/s]\u001b[A\n",
            "Eval:  11%|█         | 7/63 [00:01<00:09,  6.15it/s]\u001b[A\n",
            "Eval:  13%|█▎        | 8/63 [00:01<00:08,  6.17it/s]\u001b[A\n",
            "Eval:  14%|█▍        | 9/63 [00:01<00:09,  5.94it/s]\u001b[A\n",
            "Eval:  16%|█▌        | 10/63 [00:01<00:08,  6.09it/s]\u001b[A\n",
            "Eval:  17%|█▋        | 11/63 [00:01<00:08,  6.13it/s]\u001b[A\n",
            "Eval:  19%|█▉        | 12/63 [00:02<00:08,  6.35it/s]\u001b[A\n",
            "Eval:  21%|██        | 13/63 [00:02<00:07,  6.27it/s]\u001b[A\n",
            "Eval:  22%|██▏       | 14/63 [00:02<00:07,  6.47it/s]\u001b[A\n",
            "Eval:  24%|██▍       | 15/63 [00:02<00:07,  6.48it/s]\u001b[A\n",
            "Eval:  25%|██▌       | 16/63 [00:02<00:07,  6.20it/s]\u001b[A\n",
            "Eval:  27%|██▋       | 17/63 [00:02<00:07,  6.20it/s]\u001b[A\n",
            "Eval:  29%|██▊       | 18/63 [00:02<00:06,  6.45it/s]\u001b[A\n",
            "Eval:  30%|███       | 19/63 [00:03<00:06,  6.43it/s]\u001b[A\n",
            "Eval:  32%|███▏      | 20/63 [00:03<00:06,  6.43it/s]\u001b[A\n",
            "Eval:  33%|███▎      | 21/63 [00:03<00:06,  6.15it/s]\u001b[A\n",
            "Eval:  35%|███▍      | 22/63 [00:03<00:06,  6.23it/s]\u001b[A\n",
            "Eval:  37%|███▋      | 23/63 [00:03<00:06,  6.41it/s]\u001b[A\n",
            "Eval:  38%|███▊      | 24/63 [00:03<00:06,  6.20it/s]\u001b[A\n",
            "Eval:  40%|███▉      | 25/63 [00:04<00:06,  6.08it/s]\u001b[A\n",
            "Eval:  41%|████▏     | 26/63 [00:04<00:06,  5.95it/s]\u001b[A\n",
            "Eval:  43%|████▎     | 27/63 [00:04<00:05,  6.15it/s]\u001b[A\n",
            "Eval:  44%|████▍     | 28/63 [00:04<00:05,  6.33it/s]\u001b[A\n",
            "Eval:  46%|████▌     | 29/63 [00:04<00:05,  6.51it/s]\u001b[A\n",
            "Eval:  48%|████▊     | 30/63 [00:04<00:05,  6.46it/s]\u001b[A\n",
            "Eval:  49%|████▉     | 31/63 [00:05<00:05,  6.22it/s]\u001b[A\n",
            "Eval:  51%|█████     | 32/63 [00:05<00:04,  6.27it/s]\u001b[A\n",
            "Eval:  52%|█████▏    | 33/63 [00:05<00:05,  5.96it/s]\u001b[A\n",
            "Eval:  54%|█████▍    | 34/63 [00:05<00:05,  5.75it/s]\u001b[A\n",
            "Eval:  56%|█████▌    | 35/63 [00:05<00:04,  5.61it/s]\u001b[A\n",
            "Eval:  57%|█████▋    | 36/63 [00:05<00:04,  5.63it/s]\u001b[A\n",
            "Eval:  59%|█████▊    | 37/63 [00:06<00:04,  5.55it/s]\u001b[A\n",
            "Eval:  60%|██████    | 38/63 [00:06<00:04,  5.41it/s]\u001b[A\n",
            "Eval:  62%|██████▏   | 39/63 [00:06<00:04,  5.35it/s]\u001b[A\n",
            "Eval:  63%|██████▎   | 40/63 [00:06<00:04,  5.34it/s]\u001b[A\n",
            "Eval:  65%|██████▌   | 41/63 [00:06<00:04,  5.38it/s]\u001b[A\n",
            "Eval:  67%|██████▋   | 42/63 [00:07<00:03,  5.39it/s]\u001b[A\n",
            "Eval:  68%|██████▊   | 43/63 [00:07<00:03,  5.38it/s]\u001b[A\n",
            "Eval:  70%|██████▉   | 44/63 [00:07<00:03,  5.46it/s]\u001b[A\n",
            "Eval:  71%|███████▏  | 45/63 [00:07<00:03,  5.34it/s]\u001b[A\n",
            "Eval:  73%|███████▎  | 46/63 [00:07<00:03,  5.32it/s]\u001b[A\n",
            "Eval:  75%|███████▍  | 47/63 [00:07<00:03,  5.33it/s]\u001b[A\n",
            "Eval:  76%|███████▌  | 48/63 [00:08<00:02,  5.33it/s]\u001b[A\n",
            "Eval:  78%|███████▊  | 49/63 [00:08<00:02,  5.38it/s]\u001b[A\n",
            "Eval:  79%|███████▉  | 50/63 [00:08<00:02,  5.51it/s]\u001b[A\n",
            "Eval:  81%|████████  | 51/63 [00:08<00:02,  5.55it/s]\u001b[A\n",
            "Eval:  83%|████████▎ | 52/63 [00:08<00:01,  5.76it/s]\u001b[A\n",
            "Eval:  84%|████████▍ | 53/63 [00:09<00:01,  5.70it/s]\u001b[A\n",
            "Eval:  86%|████████▌ | 54/63 [00:09<00:01,  5.69it/s]\u001b[A\n",
            "Eval:  87%|████████▋ | 55/63 [00:09<00:01,  5.65it/s]\u001b[A\n",
            "Eval:  89%|████████▉ | 56/63 [00:09<00:01,  5.46it/s]\u001b[A\n",
            "Eval:  90%|█████████ | 57/63 [00:09<00:01,  5.47it/s]\u001b[A\n",
            "Eval:  92%|█████████▏| 58/63 [00:09<00:00,  5.45it/s]\u001b[A\n",
            "Eval:  94%|█████████▎| 59/63 [00:10<00:00,  5.52it/s]\u001b[A\n",
            "Eval:  95%|█████████▌| 60/63 [00:10<00:00,  5.60it/s]\u001b[A\n",
            "Eval:  97%|█████████▋| 61/63 [00:10<00:00,  5.64it/s]\u001b[A\n",
            "Eval:  98%|█████████▊| 62/63 [00:10<00:00,  5.52it/s]\u001b[A\n",
            "Epoch 0:  20%|██        | 1386/6926 [11:15<5:45:15,  3.74s/batch, loss=0.103]"
          ]
        },
        {
          "output_type": "stream",
          "name": "stdout",
          "text": [
            "Acc for model which have lower valid loss:  0.9655\n"
          ]
        },
        {
          "output_type": "stream",
          "name": "stderr",
          "text": [
            "Epoch 0:  40%|███▉      | 2770/6926 [22:15<33:31,  2.07batch/s, loss=0.0232]\n",
            "Eval:   0%|          | 0/63 [00:00<?, ?it/s]\u001b[A\n",
            "Eval:   2%|▏         | 1/63 [00:00<00:15,  3.98it/s]\u001b[A\n",
            "Eval:   3%|▎         | 2/63 [00:00<00:12,  5.01it/s]\u001b[A\n",
            "Eval:   5%|▍         | 3/63 [00:00<00:10,  5.81it/s]\u001b[A\n",
            "Eval:   6%|▋         | 4/63 [00:00<00:09,  6.06it/s]\u001b[A\n",
            "Eval:   8%|▊         | 5/63 [00:00<00:09,  5.88it/s]\u001b[A\n",
            "Eval:  10%|▉         | 6/63 [00:01<00:09,  5.81it/s]\u001b[A\n",
            "Eval:  11%|█         | 7/63 [00:01<00:09,  6.20it/s]\u001b[A\n",
            "Eval:  13%|█▎        | 8/63 [00:01<00:08,  6.27it/s]\u001b[A\n",
            "Eval:  14%|█▍        | 9/63 [00:01<00:08,  6.11it/s]\u001b[A\n",
            "Eval:  16%|█▌        | 10/63 [00:01<00:08,  6.21it/s]\u001b[A\n",
            "Eval:  17%|█▋        | 11/63 [00:01<00:08,  6.28it/s]\u001b[A\n",
            "Eval:  19%|█▉        | 12/63 [00:01<00:07,  6.42it/s]\u001b[A\n",
            "Eval:  21%|██        | 13/63 [00:02<00:07,  6.31it/s]\u001b[A\n",
            "Eval:  22%|██▏       | 14/63 [00:02<00:07,  6.51it/s]\u001b[A\n",
            "Eval:  24%|██▍       | 15/63 [00:02<00:07,  6.50it/s]\u001b[A\n",
            "Eval:  25%|██▌       | 16/63 [00:02<00:07,  6.22it/s]\u001b[A\n",
            "Eval:  27%|██▋       | 17/63 [00:02<00:07,  6.26it/s]\u001b[A\n",
            "Eval:  29%|██▊       | 18/63 [00:02<00:06,  6.51it/s]\u001b[A\n",
            "Eval:  30%|███       | 19/63 [00:03<00:06,  6.35it/s]\u001b[A\n",
            "Eval:  32%|███▏      | 20/63 [00:03<00:06,  6.41it/s]\u001b[A\n",
            "Eval:  33%|███▎      | 21/63 [00:03<00:06,  6.25it/s]\u001b[A\n",
            "Eval:  35%|███▍      | 22/63 [00:03<00:06,  6.33it/s]\u001b[A\n",
            "Eval:  37%|███▋      | 23/63 [00:03<00:06,  6.52it/s]\u001b[A\n",
            "Eval:  38%|███▊      | 24/63 [00:03<00:06,  6.17it/s]\u001b[A\n",
            "Eval:  40%|███▉      | 25/63 [00:04<00:06,  6.02it/s]\u001b[A\n",
            "Eval:  41%|████▏     | 26/63 [00:04<00:06,  5.92it/s]\u001b[A\n",
            "Eval:  43%|████▎     | 27/63 [00:04<00:05,  6.07it/s]\u001b[A\n",
            "Eval:  44%|████▍     | 28/63 [00:04<00:05,  6.36it/s]\u001b[A\n",
            "Eval:  46%|████▌     | 29/63 [00:04<00:05,  6.48it/s]\u001b[A\n",
            "Eval:  48%|████▊     | 30/63 [00:04<00:05,  6.35it/s]\u001b[A\n",
            "Eval:  49%|████▉     | 31/63 [00:05<00:05,  6.06it/s]\u001b[A\n",
            "Eval:  51%|█████     | 32/63 [00:05<00:05,  6.19it/s]\u001b[A\n",
            "Eval:  52%|█████▏    | 33/63 [00:05<00:05,  5.95it/s]\u001b[A\n",
            "Eval:  54%|█████▍    | 34/63 [00:05<00:04,  5.81it/s]\u001b[A\n",
            "Eval:  56%|█████▌    | 35/63 [00:05<00:04,  5.71it/s]\u001b[A\n",
            "Eval:  57%|█████▋    | 36/63 [00:05<00:04,  5.69it/s]\u001b[A\n",
            "Eval:  59%|█████▊    | 37/63 [00:06<00:04,  5.57it/s]\u001b[A\n",
            "Eval:  60%|██████    | 38/63 [00:06<00:04,  5.32it/s]\u001b[A\n",
            "Eval:  62%|██████▏   | 39/63 [00:06<00:04,  5.34it/s]\u001b[A\n",
            "Eval:  63%|██████▎   | 40/63 [00:06<00:04,  5.39it/s]\u001b[A\n",
            "Eval:  65%|██████▌   | 41/63 [00:06<00:04,  5.41it/s]\u001b[A\n",
            "Eval:  67%|██████▋   | 42/63 [00:07<00:03,  5.38it/s]\u001b[A\n",
            "Eval:  68%|██████▊   | 43/63 [00:07<00:03,  5.39it/s]\u001b[A\n",
            "Eval:  70%|██████▉   | 44/63 [00:07<00:03,  5.45it/s]\u001b[A\n",
            "Eval:  71%|███████▏  | 45/63 [00:07<00:03,  5.33it/s]\u001b[A\n",
            "Eval:  73%|███████▎  | 46/63 [00:07<00:03,  5.31it/s]\u001b[A\n",
            "Eval:  75%|███████▍  | 47/63 [00:07<00:02,  5.35it/s]\u001b[A\n",
            "Eval:  76%|███████▌  | 48/63 [00:08<00:02,  5.39it/s]\u001b[A\n",
            "Eval:  78%|███████▊  | 49/63 [00:08<00:02,  5.35it/s]\u001b[A\n",
            "Eval:  79%|███████▉  | 50/63 [00:08<00:02,  5.43it/s]\u001b[A\n",
            "Eval:  81%|████████  | 51/63 [00:08<00:02,  5.44it/s]\u001b[A\n",
            "Eval:  83%|████████▎ | 52/63 [00:08<00:01,  5.75it/s]\u001b[A\n",
            "Eval:  84%|████████▍ | 53/63 [00:09<00:01,  5.66it/s]\u001b[A\n",
            "Eval:  86%|████████▌ | 54/63 [00:09<00:01,  5.59it/s]\u001b[A\n",
            "Eval:  87%|████████▋ | 55/63 [00:09<00:01,  5.56it/s]\u001b[A\n",
            "Eval:  89%|████████▉ | 56/63 [00:09<00:01,  5.43it/s]\u001b[A\n",
            "Eval:  90%|█████████ | 57/63 [00:09<00:01,  5.51it/s]\u001b[A\n",
            "Eval:  92%|█████████▏| 58/63 [00:09<00:00,  5.44it/s]\u001b[A\n",
            "Eval:  94%|█████████▎| 59/63 [00:10<00:00,  5.50it/s]\u001b[A\n",
            "Eval:  95%|█████████▌| 60/63 [00:10<00:00,  5.63it/s]\u001b[A\n",
            "Eval:  97%|█████████▋| 61/63 [00:10<00:00,  5.68it/s]\u001b[A\n",
            "Eval:  98%|█████████▊| 62/63 [00:10<00:00,  5.63it/s]\u001b[A\n",
            "Eval: 100%|██████████| 63/63 [00:10<00:00,  6.45it/s]\u001b[A\n",
            "Epoch 0:  40%|████      | 2771/6926 [22:26<4:19:21,  3.75s/batch, loss=0.0232]"
          ]
        },
        {
          "output_type": "stream",
          "name": "stdout",
          "text": [
            "Acc for model which have lower valid loss:  0.97525\n"
          ]
        },
        {
          "output_type": "stream",
          "name": "stderr",
          "text": [
            "Epoch 0:  60%|█████▉    | 4155/6926 [33:27<22:25,  2.06batch/s, loss=0.122] \n",
            "Eval:   0%|          | 0/63 [00:00<?, ?it/s]\u001b[A\n",
            "Eval:   2%|▏         | 1/63 [00:00<00:15,  4.02it/s]\u001b[A\n",
            "Eval:   3%|▎         | 2/63 [00:00<00:12,  4.96it/s]\u001b[A\n",
            "Eval:   5%|▍         | 3/63 [00:00<00:10,  5.82it/s]\u001b[A\n",
            "Eval:   6%|▋         | 4/63 [00:00<00:09,  6.12it/s]\u001b[A\n",
            "Eval:   8%|▊         | 5/63 [00:00<00:09,  5.92it/s]\u001b[A\n",
            "Eval:  10%|▉         | 6/63 [00:01<00:09,  5.75it/s]\u001b[A\n",
            "Eval:  11%|█         | 7/63 [00:01<00:09,  6.19it/s]\u001b[A\n",
            "Eval:  13%|█▎        | 8/63 [00:01<00:08,  6.28it/s]\u001b[A\n",
            "Eval:  14%|█▍        | 9/63 [00:01<00:08,  6.06it/s]\u001b[A\n",
            "Eval:  16%|█▌        | 10/63 [00:01<00:08,  6.15it/s]\u001b[A\n",
            "Eval:  17%|█▋        | 11/63 [00:01<00:08,  6.16it/s]\u001b[A\n",
            "Eval:  19%|█▉        | 12/63 [00:02<00:08,  6.34it/s]\u001b[A\n",
            "Eval:  21%|██        | 13/63 [00:02<00:08,  6.24it/s]\u001b[A\n",
            "Eval:  22%|██▏       | 14/63 [00:02<00:07,  6.39it/s]\u001b[A\n",
            "Eval:  24%|██▍       | 15/63 [00:02<00:07,  6.36it/s]\u001b[A\n",
            "Eval:  25%|██▌       | 16/63 [00:02<00:07,  6.10it/s]\u001b[A\n",
            "Eval:  27%|██▋       | 17/63 [00:02<00:07,  6.13it/s]\u001b[A\n",
            "Eval:  29%|██▊       | 18/63 [00:02<00:07,  6.41it/s]\u001b[A\n",
            "Eval:  30%|███       | 19/63 [00:03<00:06,  6.35it/s]\u001b[A\n",
            "Eval:  32%|███▏      | 20/63 [00:03<00:06,  6.36it/s]\u001b[A\n",
            "Eval:  33%|███▎      | 21/63 [00:03<00:06,  6.10it/s]\u001b[A\n",
            "Eval:  35%|███▍      | 22/63 [00:03<00:06,  6.17it/s]\u001b[A\n",
            "Eval:  37%|███▋      | 23/63 [00:03<00:06,  6.35it/s]\u001b[A\n",
            "Eval:  38%|███▊      | 24/63 [00:03<00:06,  6.07it/s]\u001b[A\n",
            "Eval:  40%|███▉      | 25/63 [00:04<00:06,  5.80it/s]\u001b[A\n",
            "Eval:  41%|████▏     | 26/63 [00:04<00:06,  5.78it/s]\u001b[A\n",
            "Eval:  43%|████▎     | 27/63 [00:04<00:06,  5.97it/s]\u001b[A\n",
            "Eval:  44%|████▍     | 28/63 [00:04<00:05,  6.23it/s]\u001b[A\n",
            "Eval:  46%|████▌     | 29/63 [00:04<00:05,  6.39it/s]\u001b[A\n",
            "Eval:  48%|████▊     | 30/63 [00:04<00:05,  6.28it/s]\u001b[A\n",
            "Eval:  49%|████▉     | 31/63 [00:05<00:05,  6.03it/s]\u001b[A\n",
            "Eval:  51%|█████     | 32/63 [00:05<00:05,  6.10it/s]\u001b[A\n",
            "Eval:  52%|█████▏    | 33/63 [00:05<00:05,  5.79it/s]\u001b[A\n",
            "Eval:  54%|█████▍    | 34/63 [00:05<00:05,  5.68it/s]\u001b[A\n",
            "Eval:  56%|█████▌    | 35/63 [00:05<00:05,  5.53it/s]\u001b[A\n",
            "Eval:  57%|█████▋    | 36/63 [00:05<00:04,  5.61it/s]\u001b[A\n",
            "Eval:  59%|█████▊    | 37/63 [00:06<00:04,  5.49it/s]\u001b[A\n",
            "Eval:  60%|██████    | 38/63 [00:06<00:04,  5.36it/s]\u001b[A\n",
            "Eval:  62%|██████▏   | 39/63 [00:06<00:04,  5.32it/s]\u001b[A\n",
            "Eval:  63%|██████▎   | 40/63 [00:06<00:04,  5.43it/s]\u001b[A\n",
            "Eval:  65%|██████▌   | 41/63 [00:06<00:04,  5.44it/s]\u001b[A\n",
            "Eval:  67%|██████▋   | 42/63 [00:07<00:03,  5.44it/s]\u001b[A\n",
            "Eval:  68%|██████▊   | 43/63 [00:07<00:03,  5.39it/s]\u001b[A\n",
            "Eval:  70%|██████▉   | 44/63 [00:07<00:03,  5.43it/s]\u001b[A\n",
            "Eval:  71%|███████▏  | 45/63 [00:07<00:03,  5.31it/s]\u001b[A\n",
            "Eval:  73%|███████▎  | 46/63 [00:07<00:03,  5.25it/s]\u001b[A\n",
            "Eval:  75%|███████▍  | 47/63 [00:08<00:03,  5.30it/s]\u001b[A\n",
            "Eval:  76%|███████▌  | 48/63 [00:08<00:02,  5.39it/s]\u001b[A\n",
            "Eval:  78%|███████▊  | 49/63 [00:08<00:02,  5.43it/s]\u001b[A\n",
            "Eval:  79%|███████▉  | 50/63 [00:08<00:02,  5.42it/s]\u001b[A\n",
            "Eval:  81%|████████  | 51/63 [00:08<00:02,  5.42it/s]\u001b[A\n",
            "Eval:  83%|████████▎ | 52/63 [00:08<00:01,  5.68it/s]\u001b[A\n",
            "Eval:  84%|████████▍ | 53/63 [00:09<00:01,  5.64it/s]\u001b[A\n",
            "Eval:  86%|████████▌ | 54/63 [00:09<00:01,  5.59it/s]\u001b[A\n",
            "Eval:  87%|████████▋ | 55/63 [00:09<00:01,  5.55it/s]\u001b[A\n",
            "Eval:  89%|████████▉ | 56/63 [00:09<00:01,  5.40it/s]\u001b[A\n",
            "Eval:  90%|█████████ | 57/63 [00:09<00:01,  5.46it/s]\u001b[A\n",
            "Eval:  92%|█████████▏| 58/63 [00:10<00:00,  5.47it/s]\u001b[A\n",
            "Eval:  94%|█████████▎| 59/63 [00:10<00:00,  5.47it/s]\u001b[A\n",
            "Eval:  95%|█████████▌| 60/63 [00:10<00:00,  5.55it/s]\u001b[A\n",
            "Eval:  97%|█████████▋| 61/63 [00:10<00:00,  5.58it/s]\u001b[A\n",
            "Eval:  98%|█████████▊| 62/63 [00:10<00:00,  5.53it/s]\u001b[A\n",
            "Epoch 0:  60%|██████    | 4156/6926 [33:38<2:54:13,  3.77s/batch, loss=0.122]"
          ]
        },
        {
          "output_type": "stream",
          "name": "stdout",
          "text": [
            "Acc for model which have lower valid loss:  0.974\n"
          ]
        },
        {
          "output_type": "stream",
          "name": "stderr",
          "text": [
            "Epoch 0:  80%|███████▉  | 5540/6926 [44:38<11:01,  2.10batch/s, loss=0.0155]\n",
            "Eval:   0%|          | 0/63 [00:00<?, ?it/s]\u001b[A\n",
            "Eval:   2%|▏         | 1/63 [00:00<00:15,  4.03it/s]\u001b[A\n",
            "Eval:   3%|▎         | 2/63 [00:00<00:11,  5.17it/s]\u001b[A\n",
            "Eval:   5%|▍         | 3/63 [00:00<00:10,  5.86it/s]\u001b[A\n",
            "Eval:   6%|▋         | 4/63 [00:00<00:09,  6.16it/s]\u001b[A\n",
            "Eval:   8%|▊         | 5/63 [00:00<00:09,  5.85it/s]\u001b[A\n",
            "Eval:  10%|▉         | 6/63 [00:01<00:09,  5.77it/s]\u001b[A\n",
            "Eval:  11%|█         | 7/63 [00:01<00:09,  6.06it/s]\u001b[A\n",
            "Eval:  13%|█▎        | 8/63 [00:01<00:08,  6.16it/s]\u001b[A\n",
            "Eval:  14%|█▍        | 9/63 [00:01<00:08,  6.02it/s]\u001b[A\n",
            "Eval:  16%|█▌        | 10/63 [00:01<00:08,  6.11it/s]\u001b[A\n",
            "Eval:  17%|█▋        | 11/63 [00:01<00:08,  6.16it/s]\u001b[A\n",
            "Eval:  19%|█▉        | 12/63 [00:02<00:07,  6.38it/s]\u001b[A\n",
            "Eval:  21%|██        | 13/63 [00:02<00:07,  6.32it/s]\u001b[A\n",
            "Eval:  22%|██▏       | 14/63 [00:02<00:07,  6.45it/s]\u001b[A\n",
            "Eval:  24%|██▍       | 15/63 [00:02<00:07,  6.44it/s]\u001b[A\n",
            "Eval:  25%|██▌       | 16/63 [00:02<00:07,  6.14it/s]\u001b[A\n",
            "Eval:  27%|██▋       | 17/63 [00:02<00:07,  6.20it/s]\u001b[A\n",
            "Eval:  29%|██▊       | 18/63 [00:02<00:07,  6.38it/s]\u001b[A\n",
            "Eval:  30%|███       | 19/63 [00:03<00:06,  6.34it/s]\u001b[A\n",
            "Eval:  32%|███▏      | 20/63 [00:03<00:06,  6.38it/s]\u001b[A\n",
            "Eval:  33%|███▎      | 21/63 [00:03<00:06,  6.20it/s]\u001b[A\n",
            "Eval:  35%|███▍      | 22/63 [00:03<00:06,  6.26it/s]\u001b[A\n",
            "Eval:  37%|███▋      | 23/63 [00:03<00:06,  6.46it/s]\u001b[A\n",
            "Eval:  38%|███▊      | 24/63 [00:03<00:06,  6.17it/s]\u001b[A\n",
            "Eval:  40%|███▉      | 25/63 [00:04<00:06,  6.00it/s]\u001b[A\n",
            "Eval:  41%|████▏     | 26/63 [00:04<00:06,  5.90it/s]\u001b[A\n",
            "Eval:  43%|████▎     | 27/63 [00:04<00:06,  5.99it/s]\u001b[A\n",
            "Eval:  44%|████▍     | 28/63 [00:04<00:05,  6.28it/s]\u001b[A\n",
            "Eval:  46%|████▌     | 29/63 [00:04<00:05,  6.51it/s]\u001b[A\n",
            "Eval:  48%|████▊     | 30/63 [00:04<00:05,  6.48it/s]\u001b[A\n",
            "Eval:  49%|████▉     | 31/63 [00:05<00:05,  6.29it/s]\u001b[A\n",
            "Eval:  51%|█████     | 32/63 [00:05<00:04,  6.27it/s]\u001b[A\n",
            "Eval:  52%|█████▏    | 33/63 [00:05<00:05,  5.93it/s]\u001b[A\n",
            "Eval:  54%|█████▍    | 34/63 [00:05<00:04,  5.81it/s]\u001b[A\n",
            "Eval:  56%|█████▌    | 35/63 [00:05<00:04,  5.75it/s]\u001b[A\n",
            "Eval:  57%|█████▋    | 36/63 [00:05<00:04,  5.70it/s]\u001b[A\n",
            "Eval:  59%|█████▊    | 37/63 [00:06<00:04,  5.61it/s]\u001b[A\n",
            "Eval:  60%|██████    | 38/63 [00:06<00:04,  5.44it/s]\u001b[A\n",
            "Eval:  62%|██████▏   | 39/63 [00:06<00:04,  5.37it/s]\u001b[A\n",
            "Eval:  63%|██████▎   | 40/63 [00:06<00:04,  5.39it/s]\u001b[A\n",
            "Eval:  65%|██████▌   | 41/63 [00:06<00:04,  5.44it/s]\u001b[A\n",
            "Eval:  67%|██████▋   | 42/63 [00:07<00:03,  5.48it/s]\u001b[A\n",
            "Eval:  68%|██████▊   | 43/63 [00:07<00:03,  5.46it/s]\u001b[A\n",
            "Eval:  70%|██████▉   | 44/63 [00:07<00:03,  5.46it/s]\u001b[A\n",
            "Eval:  71%|███████▏  | 45/63 [00:07<00:03,  5.37it/s]\u001b[A\n",
            "Eval:  73%|███████▎  | 46/63 [00:07<00:03,  5.26it/s]\u001b[A\n",
            "Eval:  75%|███████▍  | 47/63 [00:07<00:03,  5.31it/s]\u001b[A\n",
            "Eval:  76%|███████▌  | 48/63 [00:08<00:02,  5.42it/s]\u001b[A\n",
            "Eval:  78%|███████▊  | 49/63 [00:08<00:02,  5.46it/s]\u001b[A\n",
            "Eval:  79%|███████▉  | 50/63 [00:08<00:02,  5.46it/s]\u001b[A\n",
            "Eval:  81%|████████  | 51/63 [00:08<00:02,  5.50it/s]\u001b[A\n",
            "Eval:  83%|████████▎ | 52/63 [00:08<00:01,  5.76it/s]\u001b[A\n",
            "Eval:  84%|████████▍ | 53/63 [00:09<00:01,  5.71it/s]\u001b[A\n",
            "Eval:  86%|████████▌ | 54/63 [00:09<00:01,  5.62it/s]\u001b[A\n",
            "Eval:  87%|████████▋ | 55/63 [00:09<00:01,  5.64it/s]\u001b[A\n",
            "Eval:  89%|████████▉ | 56/63 [00:09<00:01,  5.51it/s]\u001b[A\n",
            "Eval:  90%|█████████ | 57/63 [00:09<00:01,  5.52it/s]\u001b[A\n",
            "Eval:  92%|█████████▏| 58/63 [00:09<00:00,  5.50it/s]\u001b[A\n",
            "Eval:  94%|█████████▎| 59/63 [00:10<00:00,  5.58it/s]\u001b[A\n",
            "Eval:  95%|█████████▌| 60/63 [00:10<00:00,  5.63it/s]\u001b[A\n",
            "Eval:  97%|█████████▋| 61/63 [00:10<00:00,  5.69it/s]\u001b[A\n",
            "Eval:  98%|█████████▊| 62/63 [00:10<00:00,  5.62it/s]\u001b[A\n",
            "Eval: 100%|██████████| 63/63 [00:10<00:00,  6.47it/s]\u001b[A\n",
            "Epoch 0:  80%|████████  | 5541/6926 [44:49<1:26:08,  3.73s/batch, loss=0.0155]"
          ]
        },
        {
          "output_type": "stream",
          "name": "stdout",
          "text": [
            "Acc for model which have lower valid loss:  0.9805\n"
          ]
        },
        {
          "output_type": "stream",
          "name": "stderr",
          "text": [
            "Epoch 0: 100%|█████████▉| 6925/6926 [55:49<00:00,  2.11batch/s, loss=0.00826]\n",
            "Eval:   0%|          | 0/63 [00:00<?, ?it/s]\u001b[A\n",
            "Eval:   2%|▏         | 1/63 [00:00<00:14,  4.27it/s]\u001b[A\n",
            "Eval:   3%|▎         | 2/63 [00:00<00:11,  5.18it/s]\u001b[A\n",
            "Eval:   5%|▍         | 3/63 [00:00<00:10,  5.98it/s]\u001b[A\n",
            "Eval:   6%|▋         | 4/63 [00:00<00:09,  6.15it/s]\u001b[A\n",
            "Eval:   8%|▊         | 5/63 [00:00<00:09,  5.97it/s]\u001b[A\n",
            "Eval:  10%|▉         | 6/63 [00:01<00:09,  5.79it/s]\u001b[A\n",
            "Eval:  11%|█         | 7/63 [00:01<00:09,  6.16it/s]\u001b[A\n",
            "Eval:  13%|█▎        | 8/63 [00:01<00:08,  6.26it/s]\u001b[A\n",
            "Eval:  14%|█▍        | 9/63 [00:01<00:09,  5.91it/s]\u001b[A\n",
            "Eval:  16%|█▌        | 10/63 [00:01<00:08,  6.02it/s]\u001b[A\n",
            "Eval:  17%|█▋        | 11/63 [00:01<00:08,  6.14it/s]\u001b[A\n",
            "Eval:  19%|█▉        | 12/63 [00:01<00:08,  6.36it/s]\u001b[A\n",
            "Eval:  21%|██        | 13/63 [00:02<00:07,  6.34it/s]\u001b[A\n",
            "Eval:  22%|██▏       | 14/63 [00:02<00:07,  6.47it/s]\u001b[A\n",
            "Eval:  24%|██▍       | 15/63 [00:02<00:07,  6.36it/s]\u001b[A\n",
            "Eval:  25%|██▌       | 16/63 [00:02<00:07,  5.99it/s]\u001b[A\n",
            "Eval:  27%|██▋       | 17/63 [00:02<00:07,  6.06it/s]\u001b[A\n",
            "Eval:  29%|██▊       | 18/63 [00:02<00:07,  6.32it/s]\u001b[A\n",
            "Eval:  30%|███       | 19/63 [00:03<00:07,  6.20it/s]\u001b[A\n",
            "Eval:  32%|███▏      | 20/63 [00:03<00:06,  6.24it/s]\u001b[A\n",
            "Eval:  33%|███▎      | 21/63 [00:03<00:06,  6.06it/s]\u001b[A\n",
            "Eval:  35%|███▍      | 22/63 [00:03<00:06,  6.15it/s]\u001b[A\n",
            "Eval:  37%|███▋      | 23/63 [00:03<00:06,  6.34it/s]\u001b[A\n",
            "Eval:  38%|███▊      | 24/63 [00:03<00:06,  6.04it/s]\u001b[A\n",
            "Eval:  40%|███▉      | 25/63 [00:04<00:06,  5.99it/s]\u001b[A\n",
            "Eval:  41%|████▏     | 26/63 [00:04<00:06,  5.98it/s]\u001b[A\n",
            "Eval:  43%|████▎     | 27/63 [00:04<00:05,  6.06it/s]\u001b[A\n",
            "Eval:  44%|████▍     | 28/63 [00:04<00:05,  6.28it/s]\u001b[A\n",
            "Eval:  46%|████▌     | 29/63 [00:04<00:05,  6.44it/s]\u001b[A\n",
            "Eval:  48%|████▊     | 30/63 [00:04<00:05,  6.46it/s]\u001b[A\n",
            "Eval:  49%|████▉     | 31/63 [00:05<00:05,  6.11it/s]\u001b[A\n",
            "Eval:  51%|█████     | 32/63 [00:05<00:05,  6.11it/s]\u001b[A\n",
            "Eval:  52%|█████▏    | 33/63 [00:05<00:05,  5.87it/s]\u001b[A\n",
            "Eval:  54%|█████▍    | 34/63 [00:05<00:05,  5.74it/s]\u001b[A\n",
            "Eval:  56%|█████▌    | 35/63 [00:05<00:04,  5.67it/s]\u001b[A\n",
            "Eval:  57%|█████▋    | 36/63 [00:05<00:04,  5.57it/s]\u001b[A\n",
            "Eval:  59%|█████▊    | 37/63 [00:06<00:04,  5.45it/s]\u001b[A\n",
            "Eval:  60%|██████    | 38/63 [00:06<00:04,  5.34it/s]\u001b[A\n",
            "Eval:  62%|██████▏   | 39/63 [00:06<00:04,  5.30it/s]\u001b[A\n",
            "Eval:  63%|██████▎   | 40/63 [00:06<00:04,  5.36it/s]\u001b[A\n",
            "Eval:  65%|██████▌   | 41/63 [00:06<00:04,  5.43it/s]\u001b[A\n",
            "Eval:  67%|██████▋   | 42/63 [00:07<00:03,  5.51it/s]\u001b[A\n",
            "Eval:  68%|██████▊   | 43/63 [00:07<00:03,  5.44it/s]\u001b[A\n",
            "Eval:  70%|██████▉   | 44/63 [00:07<00:03,  5.39it/s]\u001b[A\n",
            "Eval:  71%|███████▏  | 45/63 [00:07<00:03,  5.32it/s]\u001b[A\n",
            "Eval:  73%|███████▎  | 46/63 [00:07<00:03,  5.30it/s]\u001b[A\n",
            "Eval:  75%|███████▍  | 47/63 [00:08<00:03,  5.31it/s]\u001b[A\n",
            "Eval:  76%|███████▌  | 48/63 [00:08<00:02,  5.38it/s]\u001b[A\n",
            "Eval:  78%|███████▊  | 49/63 [00:08<00:02,  5.40it/s]\u001b[A\n",
            "Eval:  79%|███████▉  | 50/63 [00:08<00:02,  5.50it/s]\u001b[A\n",
            "Eval:  81%|████████  | 51/63 [00:08<00:02,  5.50it/s]\u001b[A\n",
            "Eval:  83%|████████▎ | 52/63 [00:08<00:01,  5.74it/s]\u001b[A\n",
            "Eval:  84%|████████▍ | 53/63 [00:09<00:01,  5.69it/s]\u001b[A\n",
            "Eval:  86%|████████▌ | 54/63 [00:09<00:01,  5.56it/s]\u001b[A\n",
            "Eval:  87%|████████▋ | 55/63 [00:09<00:01,  5.53it/s]\u001b[A\n",
            "Eval:  89%|████████▉ | 56/63 [00:09<00:01,  5.47it/s]\u001b[A\n",
            "Eval:  90%|█████████ | 57/63 [00:09<00:01,  5.50it/s]\u001b[A\n",
            "Eval:  92%|█████████▏| 58/63 [00:10<00:00,  5.40it/s]\u001b[A\n",
            "Eval:  94%|█████████▎| 59/63 [00:10<00:00,  5.43it/s]\u001b[A\n",
            "Eval:  95%|█████████▌| 60/63 [00:10<00:00,  5.50it/s]\u001b[A\n",
            "Eval:  97%|█████████▋| 61/63 [00:10<00:00,  5.59it/s]\u001b[A\n",
            "Eval:  98%|█████████▊| 62/63 [00:10<00:00,  5.56it/s]\u001b[A\n",
            "Eval: 100%|██████████| 63/63 [00:10<00:00,  6.37it/s]\u001b[A\n",
            "Epoch 0: 100%|██████████| 6926/6926 [56:00<00:00,  2.06batch/s, loss=0.00826]"
          ]
        },
        {
          "output_type": "stream",
          "name": "stdout",
          "text": [
            "Acc for model which have lower valid loss:  0.97725\n"
          ]
        },
        {
          "output_type": "stream",
          "name": "stderr",
          "text": [
            "\n"
          ]
        }
      ]
    },
    {
      "cell_type": "code",
      "metadata": {
        "id": "XC9MbKB4W-pH"
      },
      "source": [
        "import pandas as pd\n",
        "test_df = pd.read_csv('./goorm/test_no_label.csv')"
      ],
      "execution_count": null,
      "outputs": []
    },
    {
      "cell_type": "code",
      "metadata": {
        "id": "QWSBdD-_aVV8"
      },
      "source": [
        "test_dataset = test_df['Id']"
      ],
      "execution_count": null,
      "outputs": []
    },
    {
      "cell_type": "code",
      "metadata": {
        "id": "EDl4IfPUaWWE"
      },
      "source": [
        "def make_id_file_test(tokenizer, test_dataset):\n",
        "    data_strings = []\n",
        "    id_file_data = [tokenizer.encode(sent.lower()) for sent in test_dataset]\n",
        "    for item in id_file_data:\n",
        "        data_strings.append(' '.join([str(k) for k in item]))\n",
        "    return data_strings"
      ],
      "execution_count": null,
      "outputs": []
    },
    {
      "cell_type": "code",
      "metadata": {
        "id": "iDHT4rBTaXaf"
      },
      "source": [
        "test = make_id_file_test(tokenizer, test_dataset)"
      ],
      "execution_count": null,
      "outputs": []
    },
    {
      "cell_type": "code",
      "metadata": {
        "id": "I0_S9gpmaYf-"
      },
      "source": [
        "test[:10]"
      ],
      "execution_count": null,
      "outputs": []
    },
    {
      "cell_type": "code",
      "metadata": {
        "id": "bYF-rSrTaZTh"
      },
      "source": [
        "class SentimentTestDataset(object):\n",
        "    def __init__(self, tokenizer, test):\n",
        "        self.tokenizer = tokenizer\n",
        "        self.data = []\n",
        "\n",
        "        for sent in test:\n",
        "            self.data += [self._cast_to_int(sent.strip().split())]\n",
        "\n",
        "    def _cast_to_int(self, sample):\n",
        "        return [int(word_id) for word_id in sample]\n",
        "\n",
        "    def __len__(self):\n",
        "        return len(self.data)\n",
        "\n",
        "    def __getitem__(self, index):\n",
        "        sample = self.data[index]\n",
        "        return np.array(sample)"
      ],
      "execution_count": null,
      "outputs": []
    },
    {
      "cell_type": "code",
      "metadata": {
        "id": "y91_XAB1aah8"
      },
      "source": [
        "test_dataset = SentimentTestDataset(tokenizer, test)"
      ],
      "execution_count": null,
      "outputs": []
    },
    {
      "cell_type": "code",
      "metadata": {
        "id": "nReOs0z1abXA"
      },
      "source": [
        "def collate_fn_sentiment_test(samples):\n",
        "    input_ids = samples\n",
        "    max_len = max(len(input_id) for input_id in input_ids)\n",
        "    sorted_indices = np.argsort([len(input_id) for input_id in input_ids])[::-1]\n",
        "\n",
        "    input_ids = pad_sequence([torch.tensor(input_ids[index]) for index in sorted_indices],\n",
        "                             batch_first=True)\n",
        "    attention_mask = torch.tensor(\n",
        "        [[1] * len(input_ids[index]) + [0] * (max_len - len(input_ids[index])) for index in\n",
        "         sorted_indices])\n",
        "    token_type_ids = torch.tensor([[0] * len(input_ids[index]) for index in sorted_indices])\n",
        "    position_ids = torch.tensor([list(range(len(input_ids[index]))) for index in sorted_indices])\n",
        "\n",
        "    return input_ids, attention_mask, token_type_ids, position_ids"
      ],
      "execution_count": null,
      "outputs": []
    },
    {
      "cell_type": "code",
      "metadata": {
        "id": "abXJjBTcacyw"
      },
      "source": [
        "test_batch_size = 32\n",
        "test_loader = torch.utils.data.DataLoader(test_dataset, batch_size=test_batch_size,\n",
        "                                          shuffle=False, collate_fn=collate_fn_sentiment_test,\n",
        "                                          num_workers=2)"
      ],
      "execution_count": null,
      "outputs": []
    },
    {
      "cell_type": "code",
      "metadata": {
        "id": "TMMBOjiKad1G"
      },
      "source": [
        "with torch.no_grad():\n",
        "    model.eval()\n",
        "    predictions = []\n",
        "    for input_ids, attention_mask, token_type_ids, position_ids in tqdm(test_loader,\n",
        "                                                                        desc='Test',\n",
        "                                                                        position=1,\n",
        "                                                                        leave=None):\n",
        "        input_ids = input_ids.to(device)\n",
        "        attention_mask = attention_mask.to(device)\n",
        "        token_type_ids = token_type_ids.to(device)\n",
        "        position_ids = position_ids.to(device)\n",
        "\n",
        "        output = model(input_ids=input_ids,\n",
        "                       attention_mask=attention_mask,\n",
        "                       token_type_ids=token_type_ids,\n",
        "                       position_ids=position_ids)\n",
        "\n",
        "        logits = output.logits\n",
        "        batch_predictions = [0 if example[0] > example[1] else 1 for example in logits]\n",
        "        predictions += batch_predictions"
      ],
      "execution_count": null,
      "outputs": []
    },
    {
      "cell_type": "code",
      "metadata": {
        "id": "qxIzou41afLQ"
      },
      "source": [
        "test_df['Category'] = predictions"
      ],
      "execution_count": null,
      "outputs": []
    },
    {
      "cell_type": "code",
      "metadata": {
        "id": "HykiGd2fagDy"
      },
      "source": [
        "test_df.to_csv('submission.csv', index=False)"
      ],
      "execution_count": null,
      "outputs": []
    }
  ]
}